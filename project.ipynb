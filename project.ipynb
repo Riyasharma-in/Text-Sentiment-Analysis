{
  "nbformat": 4,
  "nbformat_minor": 0,
  "metadata": {
    "accelerator": "GPU",
    "colab": {
      "name": "project.ipynb",
      "provenance": [],
      "collapsed_sections": []
    },
    "kernelspec": {
      "display_name": "Python 3",
      "name": "python3"
    }
  },
  "cells": [
    {
      "cell_type": "code",
      "metadata": {
        "id": "UPqTgRC4pcvq",
        "colab": {
          "base_uri": "https://localhost:8080/"
        },
        "outputId": "ca557d07-96f3-4bc6-81f3-b081c595426f"
      },
      "source": [
        "!pip install gensim --upgrade\r\n",
        "!pip install keras --upgrade\r\n",
        "!pip install pandas --upgrade"
      ],
      "execution_count": null,
      "outputs": [
        {
          "output_type": "stream",
          "text": [
            "Collecting gensim\n",
            "\u001b[?25l  Downloading https://files.pythonhosted.org/packages/2b/e0/fa6326251692056dc880a64eb22117e03269906ba55a6864864d24ec8b4e/gensim-3.8.3-cp36-cp36m-manylinux1_x86_64.whl (24.2MB)\n",
            "\u001b[K     |████████████████████████████████| 24.2MB 135kB/s \n",
            "\u001b[?25hRequirement already satisfied, skipping upgrade: numpy>=1.11.3 in /usr/local/lib/python3.6/dist-packages (from gensim) (1.19.4)\n",
            "Requirement already satisfied, skipping upgrade: scipy>=0.18.1 in /usr/local/lib/python3.6/dist-packages (from gensim) (1.4.1)\n",
            "Requirement already satisfied, skipping upgrade: six>=1.5.0 in /usr/local/lib/python3.6/dist-packages (from gensim) (1.15.0)\n",
            "Requirement already satisfied, skipping upgrade: smart-open>=1.8.1 in /usr/local/lib/python3.6/dist-packages (from gensim) (4.0.1)\n",
            "Installing collected packages: gensim\n",
            "  Found existing installation: gensim 3.6.0\n",
            "    Uninstalling gensim-3.6.0:\n",
            "      Successfully uninstalled gensim-3.6.0\n",
            "Successfully installed gensim-3.8.3\n",
            "Requirement already up-to-date: keras in /usr/local/lib/python3.6/dist-packages (2.4.3)\n",
            "Requirement already satisfied, skipping upgrade: scipy>=0.14 in /usr/local/lib/python3.6/dist-packages (from keras) (1.4.1)\n",
            "Requirement already satisfied, skipping upgrade: h5py in /usr/local/lib/python3.6/dist-packages (from keras) (2.10.0)\n",
            "Requirement already satisfied, skipping upgrade: numpy>=1.9.1 in /usr/local/lib/python3.6/dist-packages (from keras) (1.19.4)\n",
            "Requirement already satisfied, skipping upgrade: pyyaml in /usr/local/lib/python3.6/dist-packages (from keras) (3.13)\n",
            "Requirement already satisfied, skipping upgrade: six in /usr/local/lib/python3.6/dist-packages (from h5py->keras) (1.15.0)\n",
            "Requirement already up-to-date: pandas in /usr/local/lib/python3.6/dist-packages (1.1.5)\n",
            "Requirement already satisfied, skipping upgrade: numpy>=1.15.4 in /usr/local/lib/python3.6/dist-packages (from pandas) (1.19.4)\n",
            "Requirement already satisfied, skipping upgrade: pytz>=2017.2 in /usr/local/lib/python3.6/dist-packages (from pandas) (2018.9)\n",
            "Requirement already satisfied, skipping upgrade: python-dateutil>=2.7.3 in /usr/local/lib/python3.6/dist-packages (from pandas) (2.8.1)\n",
            "Requirement already satisfied, skipping upgrade: six>=1.5 in /usr/local/lib/python3.6/dist-packages (from python-dateutil>=2.7.3->pandas) (1.15.0)\n"
          ],
          "name": "stdout"
        }
      ]
    },
    {
      "cell_type": "code",
      "metadata": {
        "id": "Tn3yG9UGqPVK"
      },
      "source": [
        "# DataFrame\r\n",
        "import pandas as pd\r\n",
        "\r\n",
        "# Matplot\r\n",
        "import matplotlib.pyplot as plt\r\n",
        "\r\n",
        "# Scikit-learn\r\n",
        "from sklearn.model_selection import train_test_split\r\n",
        "from sklearn.preprocessing import LabelEncoder\r\n",
        "from sklearn.metrics import confusion_matrix, classification_report, accuracy_score\r\n",
        "from sklearn.manifold import TSNE\r\n",
        "from sklearn.feature_extraction.text import TfidfVectorizer\r\n",
        "\r\n",
        "# Keras\r\n",
        "from keras.preprocessing.text import Tokenizer\r\n",
        "from keras.preprocessing.sequence import pad_sequences\r\n",
        "from keras.models import Sequential\r\n",
        "from keras.layers import Activation, Dense, Dropout, Embedding, Flatten, Conv1D, MaxPooling1D, LSTM\r\n",
        "from keras import utils\r\n",
        "from keras.callbacks import ReduceLROnPlateau, EarlyStopping\r\n",
        "\r\n",
        "# nltk\r\n",
        "import nltk\r\n",
        "from nltk.corpus import stopwords\r\n",
        "from  nltk.stem import SnowballStemmer\r\n",
        "\r\n",
        "# Word2vec\r\n",
        "import gensim\r\n",
        "\r\n",
        "# Utility\r\n",
        "import re\r\n",
        "import numpy as np\r\n",
        "import os\r\n",
        "from collections import Counter\r\n",
        "import logging\r\n",
        "import time\r\n",
        "import pickle\r\n",
        "import itertools\r\n",
        "\r\n",
        "# Set log\r\n",
        "logging.basicConfig(format='%(asctime)s : %(levelname)s : %(message)s', level=logging.INFO)"
      ],
      "execution_count": null,
      "outputs": []
    },
    {
      "cell_type": "code",
      "metadata": {
        "colab": {
          "base_uri": "https://localhost:8080/"
        },
        "id": "5DNNweR3qcRY",
        "outputId": "b70e9cd1-1bdb-406a-a869-98749c4209e9"
      },
      "source": [
        "nltk.download('stopwords')"
      ],
      "execution_count": null,
      "outputs": [
        {
          "output_type": "stream",
          "text": [
            "[nltk_data] Downloading package stopwords to /root/nltk_data...\n",
            "[nltk_data]   Unzipping corpora/stopwords.zip.\n"
          ],
          "name": "stdout"
        },
        {
          "output_type": "execute_result",
          "data": {
            "text/plain": [
              "True"
            ]
          },
          "metadata": {
            "tags": []
          },
          "execution_count": 3
        }
      ]
    },
    {
      "cell_type": "code",
      "metadata": {
        "id": "2bcwnoizqfx5"
      },
      "source": [
        "# DATASET\r\n",
        "DATASET_COLUMNS = [\"target\", \"ids\", \"date\", \"flag\", \"user\", \"text\"]\r\n",
        "DATASET_ENCODING = \"ISO-8859-1\"\r\n",
        "TRAIN_SIZE = 0.8\r\n",
        "\r\n",
        "# TEXT CLENAING\r\n",
        "TEXT_CLEANING_RE = \"@\\S+|https?:\\S+|http?:\\S|[^A-Za-z0-9]+\"\r\n",
        "\r\n",
        "# WORD2VEC \r\n",
        "W2V_SIZE = 300\r\n",
        "W2V_WINDOW = 7\r\n",
        "W2V_EPOCH = 32\r\n",
        "W2V_MIN_COUNT = 10\r\n",
        "\r\n",
        "# KERAS\r\n",
        "SEQUENCE_LENGTH = 300\r\n",
        "EPOCHS = 8\r\n",
        "BATCH_SIZE = 1024\r\n",
        "\r\n",
        "# SENTIMENT\r\n",
        "POSITIVE = \"POSITIVE\"\r\n",
        "NEGATIVE = \"NEGATIVE\"\r\n",
        "NEUTRAL = \"NEUTRAL\"\r\n",
        "SENTIMENT_THRESHOLDS = (0.4, 0.7)\r\n",
        "\r\n",
        "# EXPORT\r\n",
        "KERAS_MODEL = \"model.h5\"\r\n",
        "WORD2VEC_MODEL = \"model.w2v\"\r\n",
        "TOKENIZER_MODEL = \"tokenizer.pkl\"\r\n",
        "ENCODER_MODEL = \"encoder.pkl\""
      ],
      "execution_count": null,
      "outputs": []
    },
    {
      "cell_type": "code",
      "metadata": {
        "colab": {
          "base_uri": "https://localhost:8080/"
        },
        "id": "BkOPWHWHMaqg",
        "outputId": "5803c02f-59fb-49dc-8d76-9f7803ba2ae6"
      },
      "source": [
        "from google.colab import drive\r\n",
        "drive.mount('/content/drive')"
      ],
      "execution_count": null,
      "outputs": [
        {
          "output_type": "stream",
          "text": [
            "Mounted at /content/drive\n"
          ],
          "name": "stdout"
        }
      ]
    },
    {
      "cell_type": "code",
      "metadata": {
        "colab": {
          "base_uri": "https://localhost:8080/"
        },
        "id": "8JCCy2JNqzEQ",
        "outputId": "acf00120-409e-400d-a6f3-ce44645d7d62"
      },
      "source": [
        "dataset_filename = '/content/drive/MyDrive/Project SA/training.1600000.processed.noemoticon.csv'\r\n",
        "dataset_path = dataset_filename\r\n",
        "print(\"Open file:\", dataset_path)\r\n",
        "df = pd.read_csv(dataset_path, encoding =DATASET_ENCODING , names=DATASET_COLUMNS)"
      ],
      "execution_count": null,
      "outputs": [
        {
          "output_type": "stream",
          "text": [
            "Open file: /content/drive/MyDrive/Project SA/training.1600000.processed.noemoticon.csv\n"
          ],
          "name": "stdout"
        }
      ]
    },
    {
      "cell_type": "code",
      "metadata": {
        "colab": {
          "base_uri": "https://localhost:8080/"
        },
        "id": "AhrO9uOPrBUQ",
        "outputId": "ca1fd616-b035-4360-e5b8-e9028bd32076"
      },
      "source": [
        "print(\"Dataset size:\", len(df))\r\n"
      ],
      "execution_count": null,
      "outputs": [
        {
          "output_type": "stream",
          "text": [
            "Dataset size: 1600000\n"
          ],
          "name": "stdout"
        }
      ]
    },
    {
      "cell_type": "code",
      "metadata": {
        "colab": {
          "base_uri": "https://localhost:8080/",
          "height": 204
        },
        "id": "M_ARVWKzrCsg",
        "outputId": "6493ae24-12b6-40b8-d68c-c208ecfbfc3a"
      },
      "source": [
        "df.head(5)"
      ],
      "execution_count": null,
      "outputs": [
        {
          "output_type": "execute_result",
          "data": {
            "text/html": [
              "<div>\n",
              "<style scoped>\n",
              "    .dataframe tbody tr th:only-of-type {\n",
              "        vertical-align: middle;\n",
              "    }\n",
              "\n",
              "    .dataframe tbody tr th {\n",
              "        vertical-align: top;\n",
              "    }\n",
              "\n",
              "    .dataframe thead th {\n",
              "        text-align: right;\n",
              "    }\n",
              "</style>\n",
              "<table border=\"1\" class=\"dataframe\">\n",
              "  <thead>\n",
              "    <tr style=\"text-align: right;\">\n",
              "      <th></th>\n",
              "      <th>target</th>\n",
              "      <th>ids</th>\n",
              "      <th>date</th>\n",
              "      <th>flag</th>\n",
              "      <th>user</th>\n",
              "      <th>text</th>\n",
              "    </tr>\n",
              "  </thead>\n",
              "  <tbody>\n",
              "    <tr>\n",
              "      <th>0</th>\n",
              "      <td>0</td>\n",
              "      <td>1467810369</td>\n",
              "      <td>Mon Apr 06 22:19:45 PDT 2009</td>\n",
              "      <td>NO_QUERY</td>\n",
              "      <td>_TheSpecialOne_</td>\n",
              "      <td>@switchfoot http://twitpic.com/2y1zl - Awww, t...</td>\n",
              "    </tr>\n",
              "    <tr>\n",
              "      <th>1</th>\n",
              "      <td>0</td>\n",
              "      <td>1467810672</td>\n",
              "      <td>Mon Apr 06 22:19:49 PDT 2009</td>\n",
              "      <td>NO_QUERY</td>\n",
              "      <td>scotthamilton</td>\n",
              "      <td>is upset that he can't update his Facebook by ...</td>\n",
              "    </tr>\n",
              "    <tr>\n",
              "      <th>2</th>\n",
              "      <td>0</td>\n",
              "      <td>1467810917</td>\n",
              "      <td>Mon Apr 06 22:19:53 PDT 2009</td>\n",
              "      <td>NO_QUERY</td>\n",
              "      <td>mattycus</td>\n",
              "      <td>@Kenichan I dived many times for the ball. Man...</td>\n",
              "    </tr>\n",
              "    <tr>\n",
              "      <th>3</th>\n",
              "      <td>0</td>\n",
              "      <td>1467811184</td>\n",
              "      <td>Mon Apr 06 22:19:57 PDT 2009</td>\n",
              "      <td>NO_QUERY</td>\n",
              "      <td>ElleCTF</td>\n",
              "      <td>my whole body feels itchy and like its on fire</td>\n",
              "    </tr>\n",
              "    <tr>\n",
              "      <th>4</th>\n",
              "      <td>0</td>\n",
              "      <td>1467811193</td>\n",
              "      <td>Mon Apr 06 22:19:57 PDT 2009</td>\n",
              "      <td>NO_QUERY</td>\n",
              "      <td>Karoli</td>\n",
              "      <td>@nationwideclass no, it's not behaving at all....</td>\n",
              "    </tr>\n",
              "  </tbody>\n",
              "</table>\n",
              "</div>"
            ],
            "text/plain": [
              "   target  ...                                               text\n",
              "0       0  ...  @switchfoot http://twitpic.com/2y1zl - Awww, t...\n",
              "1       0  ...  is upset that he can't update his Facebook by ...\n",
              "2       0  ...  @Kenichan I dived many times for the ball. Man...\n",
              "3       0  ...    my whole body feels itchy and like its on fire \n",
              "4       0  ...  @nationwideclass no, it's not behaving at all....\n",
              "\n",
              "[5 rows x 6 columns]"
            ]
          },
          "metadata": {
            "tags": []
          },
          "execution_count": 8
        }
      ]
    },
    {
      "cell_type": "code",
      "metadata": {
        "id": "puy5n4ClrKQx"
      },
      "source": [
        "decode_map = {0: \"NEGATIVE\", 2: \"NEUTRAL\", 4: \"POSITIVE\"}\r\n",
        "def decode_sentiment(label):\r\n",
        "    return decode_map[int(label)]"
      ],
      "execution_count": null,
      "outputs": []
    },
    {
      "cell_type": "code",
      "metadata": {
        "id": "o_sQ0LtgrKtr"
      },
      "source": [
        "df.target = df.target.apply(lambda x: decode_sentiment(x))"
      ],
      "execution_count": null,
      "outputs": []
    },
    {
      "cell_type": "code",
      "metadata": {
        "colab": {
          "base_uri": "https://localhost:8080/",
          "height": 516
        },
        "id": "yqlzoCE-rN0Y",
        "outputId": "dff9d9f7-41bf-4268-de6f-f939fc5b8bff"
      },
      "source": [
        "target_cnt = Counter(df.target)\r\n",
        "\r\n",
        "plt.figure(figsize=(16,8))\r\n",
        "plt.bar(target_cnt.keys(), target_cnt.values())\r\n",
        "plt.title(\"Dataset labels distribuition\")"
      ],
      "execution_count": null,
      "outputs": [
        {
          "output_type": "execute_result",
          "data": {
            "text/plain": [
              "Text(0.5, 1.0, 'Dataset labels distribuition')"
            ]
          },
          "metadata": {
            "tags": []
          },
          "execution_count": 11
        },
        {
          "output_type": "display_data",
          "data": {
            "image/png": "[encoded data removed]",
            "text/plain": [
              "<Figure size 1152x576 with 1 Axes>"
            ]
          },
          "metadata": {
            "tags": [],
            "needs_background": "light"
          }
        }
      ]
    },
    {
      "cell_type": "code",
      "metadata": {
        "id": "13v17lP4rRVn"
      },
      "source": [
        "stop_words = stopwords.words(\"english\")\r\n",
        "stemmer = SnowballStemmer(\"english\")"
      ],
      "execution_count": null,
      "outputs": []
    },
    {
      "cell_type": "code",
      "metadata": {
        "id": "1Pm5ULgLraWZ"
      },
      "source": [
        "def preprocess(text, stem=False):\r\n",
        "    # Remove link,user and special characters\r\n",
        "    text = re.sub(TEXT_CLEANING_RE, ' ', str(text).lower()).strip()\r\n",
        "    tokens = []\r\n",
        "    for token in text.split():\r\n",
        "        if token not in stop_words:\r\n",
        "            if stem:\r\n",
        "                tokens.append(stemmer.stem(token))\r\n",
        "            else:\r\n",
        "                tokens.append(token)\r\n",
        "    return \" \".join(tokens)"
      ],
      "execution_count": null,
      "outputs": []
    },
    {
      "cell_type": "code",
      "metadata": {
        "id": "RuGmU1LRrdVg"
      },
      "source": [
        "df.text = df.text.apply(lambda x: preprocess(x))"
      ],
      "execution_count": null,
      "outputs": []
    },
    {
      "cell_type": "code",
      "metadata": {
        "colab": {
          "base_uri": "https://localhost:8080/",
          "height": 204
        },
        "id": "2vvMeWZIqNUq",
        "outputId": "86b9046b-1005-4ba0-ee21-4b3697913e09"
      },
      "source": [
        "df.head(5)"
      ],
      "execution_count": null,
      "outputs": [
        {
          "output_type": "execute_result",
          "data": {
            "text/html": [
              "<div>\n",
              "<style scoped>\n",
              "    .dataframe tbody tr th:only-of-type {\n",
              "        vertical-align: middle;\n",
              "    }\n",
              "\n",
              "    .dataframe tbody tr th {\n",
              "        vertical-align: top;\n",
              "    }\n",
              "\n",
              "    .dataframe thead th {\n",
              "        text-align: right;\n",
              "    }\n",
              "</style>\n",
              "<table border=\"1\" class=\"dataframe\">\n",
              "  <thead>\n",
              "    <tr style=\"text-align: right;\">\n",
              "      <th></th>\n",
              "      <th>target</th>\n",
              "      <th>ids</th>\n",
              "      <th>date</th>\n",
              "      <th>flag</th>\n",
              "      <th>user</th>\n",
              "      <th>text</th>\n",
              "    </tr>\n",
              "  </thead>\n",
              "  <tbody>\n",
              "    <tr>\n",
              "      <th>0</th>\n",
              "      <td>NEGATIVE</td>\n",
              "      <td>1467810369</td>\n",
              "      <td>Mon Apr 06 22:19:45 PDT 2009</td>\n",
              "      <td>NO_QUERY</td>\n",
              "      <td>_TheSpecialOne_</td>\n",
              "      <td>awww bummer shoulda got david carr third day</td>\n",
              "    </tr>\n",
              "    <tr>\n",
              "      <th>1</th>\n",
              "      <td>NEGATIVE</td>\n",
              "      <td>1467810672</td>\n",
              "      <td>Mon Apr 06 22:19:49 PDT 2009</td>\n",
              "      <td>NO_QUERY</td>\n",
              "      <td>scotthamilton</td>\n",
              "      <td>upset update facebook texting might cry result...</td>\n",
              "    </tr>\n",
              "    <tr>\n",
              "      <th>2</th>\n",
              "      <td>NEGATIVE</td>\n",
              "      <td>1467810917</td>\n",
              "      <td>Mon Apr 06 22:19:53 PDT 2009</td>\n",
              "      <td>NO_QUERY</td>\n",
              "      <td>mattycus</td>\n",
              "      <td>dived many times ball managed save 50 rest go ...</td>\n",
              "    </tr>\n",
              "    <tr>\n",
              "      <th>3</th>\n",
              "      <td>NEGATIVE</td>\n",
              "      <td>1467811184</td>\n",
              "      <td>Mon Apr 06 22:19:57 PDT 2009</td>\n",
              "      <td>NO_QUERY</td>\n",
              "      <td>ElleCTF</td>\n",
              "      <td>whole body feels itchy like fire</td>\n",
              "    </tr>\n",
              "    <tr>\n",
              "      <th>4</th>\n",
              "      <td>NEGATIVE</td>\n",
              "      <td>1467811193</td>\n",
              "      <td>Mon Apr 06 22:19:57 PDT 2009</td>\n",
              "      <td>NO_QUERY</td>\n",
              "      <td>Karoli</td>\n",
              "      <td>behaving mad see</td>\n",
              "    </tr>\n",
              "  </tbody>\n",
              "</table>\n",
              "</div>"
            ],
            "text/plain": [
              "     target  ...                                               text\n",
              "0  NEGATIVE  ...       awww bummer shoulda got david carr third day\n",
              "1  NEGATIVE  ...  upset update facebook texting might cry result...\n",
              "2  NEGATIVE  ...  dived many times ball managed save 50 rest go ...\n",
              "3  NEGATIVE  ...                   whole body feels itchy like fire\n",
              "4  NEGATIVE  ...                                   behaving mad see\n",
              "\n",
              "[5 rows x 6 columns]"
            ]
          },
          "metadata": {
            "tags": []
          },
          "execution_count": 15
        }
      ]
    },
    {
      "cell_type": "code",
      "metadata": {
        "colab": {
          "base_uri": "https://localhost:8080/"
        },
        "id": "K_B6Bz1yreNw",
        "outputId": "61835ef9-399c-4e2d-daa9-4ffdfb0fd264"
      },
      "source": [
        "df_train, df_test = train_test_split(df, test_size=1-TRAIN_SIZE, random_state=42)\r\n",
        "print(\"TRAIN size:\", len(df_train))\r\n",
        "print(\"TEST size:\", len(df_test))"
      ],
      "execution_count": null,
      "outputs": [
        {
          "output_type": "stream",
          "text": [
            "TRAIN size: 1280000\n",
            "TEST size: 320000\n"
          ],
          "name": "stdout"
        }
      ]
    },
    {
      "cell_type": "code",
      "metadata": {
        "id": "kfnQyT_Srr06"
      },
      "source": [
        "documents = [_text.split() for _text in df_train.text] "
      ],
      "execution_count": null,
      "outputs": []
    },
    {
      "cell_type": "code",
      "metadata": {
        "colab": {
          "base_uri": "https://localhost:8080/"
        },
        "id": "TUyOvnEet86-",
        "outputId": "a0eb0676-1386-49a8-9693-91e47c918fd6"
      },
      "source": [
        "len(documents)"
      ],
      "execution_count": null,
      "outputs": [
        {
          "output_type": "execute_result",
          "data": {
            "text/plain": [
              "1280000"
            ]
          },
          "metadata": {
            "tags": []
          },
          "execution_count": 18
        }
      ]
    },
    {
      "cell_type": "code",
      "metadata": {
        "id": "yhM-YtHArvTJ"
      },
      "source": [
        "w2v_model = gensim.models.word2vec.Word2Vec(size=W2V_SIZE, \r\n",
        "                                            window=W2V_WINDOW, \r\n",
        "                                            min_count=W2V_MIN_COUNT, \r\n",
        "                                            workers=8)"
      ],
      "execution_count": null,
      "outputs": []
    },
    {
      "cell_type": "code",
      "metadata": {
        "id": "yJuxwo7mrzJY",
        "colab": {
          "base_uri": "https://localhost:8080/"
        },
        "outputId": "3765a1cb-e1b3-45c1-a4c7-4728351c997d"
      },
      "source": [
        "w2v_model.build_vocab(documents)"
      ],
      "execution_count": null,
      "outputs": [
        {
          "output_type": "stream",
          "text": [
            "2021-01-09 08:05:24,009 : INFO : collecting all words and their counts\n",
            "2021-01-09 08:05:24,010 : INFO : PROGRESS: at sentence #0, processed 0 words, keeping 0 word types\n",
            "2021-01-09 08:05:24,046 : INFO : PROGRESS: at sentence #10000, processed 72565 words, keeping 14005 word types\n",
            "2021-01-09 08:05:24,065 : INFO : PROGRESS: at sentence #20000, processed 144393 words, keeping 21587 word types\n",
            "2021-01-09 08:05:24,088 : INFO : PROGRESS: at sentence #30000, processed 215826 words, keeping 27541 word types\n",
            "2021-01-09 08:05:24,111 : INFO : PROGRESS: at sentence #40000, processed 288271 words, keeping 32764 word types\n",
            "2021-01-09 08:05:24,135 : INFO : PROGRESS: at sentence #50000, processed 359772 words, keeping 37587 word types\n",
            "2021-01-09 08:05:24,162 : INFO : PROGRESS: at sentence #60000, processed 431431 words, keeping 42198 word types\n",
            "2021-01-09 08:05:24,183 : INFO : PROGRESS: at sentence #70000, processed 503103 words, keeping 46458 word types\n",
            "2021-01-09 08:05:24,210 : INFO : PROGRESS: at sentence #80000, processed 575709 words, keeping 50476 word types\n",
            "2021-01-09 08:05:24,230 : INFO : PROGRESS: at sentence #90000, processed 647100 words, keeping 54140 word types\n",
            "2021-01-09 08:05:24,256 : INFO : PROGRESS: at sentence #100000, processed 718681 words, keeping 57777 word types\n",
            "2021-01-09 08:05:24,275 : INFO : PROGRESS: at sentence #110000, processed 790696 words, keeping 61207 word types\n",
            "2021-01-09 08:05:24,301 : INFO : PROGRESS: at sentence #120000, processed 863134 words, keeping 64583 word types\n",
            "2021-01-09 08:05:24,323 : INFO : PROGRESS: at sentence #130000, processed 935111 words, keeping 67865 word types\n",
            "2021-01-09 08:05:24,346 : INFO : PROGRESS: at sentence #140000, processed 1006668 words, keeping 70966 word types\n",
            "2021-01-09 08:05:24,369 : INFO : PROGRESS: at sentence #150000, processed 1078512 words, keeping 74119 word types\n",
            "2021-01-09 08:05:24,390 : INFO : PROGRESS: at sentence #160000, processed 1149914 words, keeping 77187 word types\n",
            "2021-01-09 08:05:24,416 : INFO : PROGRESS: at sentence #170000, processed 1222145 words, keeping 80267 word types\n",
            "2021-01-09 08:05:24,444 : INFO : PROGRESS: at sentence #180000, processed 1294708 words, keeping 83393 word types\n",
            "2021-01-09 08:05:24,474 : INFO : PROGRESS: at sentence #190000, processed 1367608 words, keeping 86329 word types\n",
            "2021-01-09 08:05:24,497 : INFO : PROGRESS: at sentence #200000, processed 1439469 words, keeping 89103 word types\n",
            "2021-01-09 08:05:24,523 : INFO : PROGRESS: at sentence #210000, processed 1512099 words, keeping 91840 word types\n",
            "2021-01-09 08:05:24,546 : INFO : PROGRESS: at sentence #220000, processed 1584149 words, keeping 94636 word types\n",
            "2021-01-09 08:05:24,569 : INFO : PROGRESS: at sentence #230000, processed 1656354 words, keeping 97353 word types\n",
            "2021-01-09 08:05:24,593 : INFO : PROGRESS: at sentence #240000, processed 1728573 words, keeping 99975 word types\n",
            "2021-01-09 08:05:24,615 : INFO : PROGRESS: at sentence #250000, processed 1801102 words, keeping 102594 word types\n",
            "2021-01-09 08:05:24,639 : INFO : PROGRESS: at sentence #260000, processed 1873103 words, keeping 105162 word types\n",
            "2021-01-09 08:05:24,666 : INFO : PROGRESS: at sentence #270000, processed 1945245 words, keeping 107626 word types\n",
            "2021-01-09 08:05:24,695 : INFO : PROGRESS: at sentence #280000, processed 2017163 words, keeping 110141 word types\n",
            "2021-01-09 08:05:24,717 : INFO : PROGRESS: at sentence #290000, processed 2089574 words, keeping 112539 word types\n",
            "2021-01-09 08:05:24,745 : INFO : PROGRESS: at sentence #300000, processed 2160996 words, keeping 114893 word types\n",
            "2021-01-09 08:05:24,768 : INFO : PROGRESS: at sentence #310000, processed 2232913 words, keeping 117298 word types\n",
            "2021-01-09 08:05:24,789 : INFO : PROGRESS: at sentence #320000, processed 2305039 words, keeping 119693 word types\n",
            "2021-01-09 08:05:24,818 : INFO : PROGRESS: at sentence #330000, processed 2377119 words, keeping 122131 word types\n",
            "2021-01-09 08:05:24,839 : INFO : PROGRESS: at sentence #340000, processed 2449370 words, keeping 124416 word types\n",
            "2021-01-09 08:05:24,862 : INFO : PROGRESS: at sentence #350000, processed 2521564 words, keeping 126669 word types\n",
            "2021-01-09 08:05:24,888 : INFO : PROGRESS: at sentence #360000, processed 2593681 words, keeping 128912 word types\n",
            "2021-01-09 08:05:24,909 : INFO : PROGRESS: at sentence #370000, processed 2665692 words, keeping 131135 word types\n",
            "2021-01-09 08:05:24,934 : INFO : PROGRESS: at sentence #380000, processed 2737859 words, keeping 133403 word types\n",
            "2021-01-09 08:05:24,962 : INFO : PROGRESS: at sentence #390000, processed 2809848 words, keeping 135551 word types\n",
            "2021-01-09 08:05:24,987 : INFO : PROGRESS: at sentence #400000, processed 2882438 words, keeping 137742 word types\n",
            "2021-01-09 08:05:25,011 : INFO : PROGRESS: at sentence #410000, processed 2954075 words, keeping 139909 word types\n",
            "2021-01-09 08:05:25,036 : INFO : PROGRESS: at sentence #420000, processed 3026247 words, keeping 142144 word types\n",
            "2021-01-09 08:05:25,059 : INFO : PROGRESS: at sentence #430000, processed 3098659 words, keeping 144364 word types\n",
            "2021-01-09 08:05:25,081 : INFO : PROGRESS: at sentence #440000, processed 3170663 words, keeping 146439 word types\n",
            "2021-01-09 08:05:25,109 : INFO : PROGRESS: at sentence #450000, processed 3243344 words, keeping 148526 word types\n",
            "2021-01-09 08:05:25,134 : INFO : PROGRESS: at sentence #460000, processed 3315466 words, keeping 150610 word types\n",
            "2021-01-09 08:05:25,158 : INFO : PROGRESS: at sentence #470000, processed 3388295 words, keeping 152737 word types\n",
            "2021-01-09 08:05:25,183 : INFO : PROGRESS: at sentence #480000, processed 3460120 words, keeping 154757 word types\n",
            "2021-01-09 08:05:25,209 : INFO : PROGRESS: at sentence #490000, processed 3531883 words, keeping 156825 word types\n",
            "2021-01-09 08:05:25,233 : INFO : PROGRESS: at sentence #500000, processed 3604217 words, keeping 158859 word types\n",
            "2021-01-09 08:05:25,258 : INFO : PROGRESS: at sentence #510000, processed 3676427 words, keeping 160852 word types\n",
            "2021-01-09 08:05:25,283 : INFO : PROGRESS: at sentence #520000, processed 3749045 words, keeping 162863 word types\n",
            "2021-01-09 08:05:25,307 : INFO : PROGRESS: at sentence #530000, processed 3821622 words, keeping 164929 word types\n",
            "2021-01-09 08:05:25,330 : INFO : PROGRESS: at sentence #540000, processed 3893627 words, keeping 166840 word types\n",
            "2021-01-09 08:05:25,358 : INFO : PROGRESS: at sentence #550000, processed 3965477 words, keeping 168799 word types\n",
            "2021-01-09 08:05:25,387 : INFO : PROGRESS: at sentence #560000, processed 4038050 words, keeping 170802 word types\n",
            "2021-01-09 08:05:25,410 : INFO : PROGRESS: at sentence #570000, processed 4110296 words, keeping 172760 word types\n",
            "2021-01-09 08:05:25,433 : INFO : PROGRESS: at sentence #580000, processed 4182385 words, keeping 174635 word types\n",
            "2021-01-09 08:05:25,463 : INFO : PROGRESS: at sentence #590000, processed 4254632 words, keeping 176470 word types\n",
            "2021-01-09 08:05:25,492 : INFO : PROGRESS: at sentence #600000, processed 4326859 words, keeping 178350 word types\n",
            "2021-01-09 08:05:25,513 : INFO : PROGRESS: at sentence #610000, processed 4399183 words, keeping 180290 word types\n",
            "2021-01-09 08:05:25,537 : INFO : PROGRESS: at sentence #620000, processed 4471343 words, keeping 182129 word types\n",
            "2021-01-09 08:05:25,564 : INFO : PROGRESS: at sentence #630000, processed 4543286 words, keeping 184005 word types\n",
            "2021-01-09 08:05:25,589 : INFO : PROGRESS: at sentence #640000, processed 4615780 words, keeping 185835 word types\n",
            "2021-01-09 08:05:25,613 : INFO : PROGRESS: at sentence #650000, processed 4688481 words, keeping 187705 word types\n",
            "2021-01-09 08:05:25,638 : INFO : PROGRESS: at sentence #660000, processed 4760481 words, keeping 189439 word types\n",
            "2021-01-09 08:05:25,666 : INFO : PROGRESS: at sentence #670000, processed 4833024 words, keeping 191232 word types\n",
            "2021-01-09 08:05:25,687 : INFO : PROGRESS: at sentence #680000, processed 4904516 words, keeping 193177 word types\n",
            "2021-01-09 08:05:25,713 : INFO : PROGRESS: at sentence #690000, processed 4976968 words, keeping 194960 word types\n",
            "2021-01-09 08:05:25,738 : INFO : PROGRESS: at sentence #700000, processed 5049412 words, keeping 196725 word types\n",
            "2021-01-09 08:05:25,762 : INFO : PROGRESS: at sentence #710000, processed 5121976 words, keeping 198516 word types\n",
            "2021-01-09 08:05:25,795 : INFO : PROGRESS: at sentence #720000, processed 5193881 words, keeping 200325 word types\n",
            "2021-01-09 08:05:25,826 : INFO : PROGRESS: at sentence #730000, processed 5265467 words, keeping 202133 word types\n",
            "2021-01-09 08:05:25,848 : INFO : PROGRESS: at sentence #740000, processed 5337518 words, keeping 203818 word types\n",
            "2021-01-09 08:05:25,876 : INFO : PROGRESS: at sentence #750000, processed 5409321 words, keeping 205535 word types\n",
            "2021-01-09 08:05:25,897 : INFO : PROGRESS: at sentence #760000, processed 5481512 words, keeping 207282 word types\n",
            "2021-01-09 08:05:25,925 : INFO : PROGRESS: at sentence #770000, processed 5554093 words, keeping 209076 word types\n",
            "2021-01-09 08:05:25,950 : INFO : PROGRESS: at sentence #780000, processed 5625382 words, keeping 210805 word types\n",
            "2021-01-09 08:05:25,972 : INFO : PROGRESS: at sentence #790000, processed 5698066 words, keeping 212618 word types\n",
            "2021-01-09 08:05:26,001 : INFO : PROGRESS: at sentence #800000, processed 5770880 words, keeping 214374 word types\n",
            "2021-01-09 08:05:26,024 : INFO : PROGRESS: at sentence #810000, processed 5843418 words, keeping 216009 word types\n",
            "2021-01-09 08:05:26,047 : INFO : PROGRESS: at sentence #820000, processed 5915628 words, keeping 217804 word types\n",
            "2021-01-09 08:05:26,076 : INFO : PROGRESS: at sentence #830000, processed 5987499 words, keeping 219585 word types\n",
            "2021-01-09 08:05:26,102 : INFO : PROGRESS: at sentence #840000, processed 6058973 words, keeping 221344 word types\n",
            "2021-01-09 08:05:26,124 : INFO : PROGRESS: at sentence #850000, processed 6131125 words, keeping 223002 word types\n",
            "2021-01-09 08:05:26,147 : INFO : PROGRESS: at sentence #860000, processed 6202951 words, keeping 224643 word types\n",
            "2021-01-09 08:05:26,175 : INFO : PROGRESS: at sentence #870000, processed 6275461 words, keeping 226362 word types\n",
            "2021-01-09 08:05:26,196 : INFO : PROGRESS: at sentence #880000, processed 6347661 words, keeping 227986 word types\n",
            "2021-01-09 08:05:26,224 : INFO : PROGRESS: at sentence #890000, processed 6419806 words, keeping 229634 word types\n",
            "2021-01-09 08:05:26,248 : INFO : PROGRESS: at sentence #900000, processed 6491644 words, keeping 231389 word types\n",
            "2021-01-09 08:05:26,280 : INFO : PROGRESS: at sentence #910000, processed 6564022 words, keeping 233050 word types\n",
            "2021-01-09 08:05:26,310 : INFO : PROGRESS: at sentence #920000, processed 6636228 words, keeping 234686 word types\n",
            "2021-01-09 08:05:26,332 : INFO : PROGRESS: at sentence #930000, processed 6708573 words, keeping 236393 word types\n",
            "2021-01-09 08:05:26,359 : INFO : PROGRESS: at sentence #940000, processed 6779956 words, keeping 238052 word types\n",
            "2021-01-09 08:05:26,380 : INFO : PROGRESS: at sentence #950000, processed 6852599 words, keeping 239716 word types\n",
            "2021-01-09 08:05:26,406 : INFO : PROGRESS: at sentence #960000, processed 6924717 words, keeping 241354 word types\n",
            "2021-01-09 08:05:26,431 : INFO : PROGRESS: at sentence #970000, processed 6996992 words, keeping 242980 word types\n",
            "2021-01-09 08:05:26,452 : INFO : PROGRESS: at sentence #980000, processed 7068402 words, keeping 244646 word types\n",
            "2021-01-09 08:05:26,479 : INFO : PROGRESS: at sentence #990000, processed 7140346 words, keeping 246186 word types\n",
            "2021-01-09 08:05:26,509 : INFO : PROGRESS: at sentence #1000000, processed 7211757 words, keeping 247726 word types\n",
            "2021-01-09 08:05:26,529 : INFO : PROGRESS: at sentence #1010000, processed 7283267 words, keeping 249288 word types\n",
            "2021-01-09 08:05:26,553 : INFO : PROGRESS: at sentence #1020000, processed 7355299 words, keeping 250860 word types\n",
            "2021-01-09 08:05:26,580 : INFO : PROGRESS: at sentence #1030000, processed 7426918 words, keeping 252366 word types\n",
            "2021-01-09 08:05:26,606 : INFO : PROGRESS: at sentence #1040000, processed 7498815 words, keeping 253930 word types\n",
            "2021-01-09 08:05:26,628 : INFO : PROGRESS: at sentence #1050000, processed 7570499 words, keeping 255471 word types\n",
            "2021-01-09 08:05:26,651 : INFO : PROGRESS: at sentence #1060000, processed 7643251 words, keeping 257035 word types\n",
            "2021-01-09 08:05:26,678 : INFO : PROGRESS: at sentence #1070000, processed 7714721 words, keeping 258509 word types\n",
            "2021-01-09 08:05:26,698 : INFO : PROGRESS: at sentence #1080000, processed 7787371 words, keeping 260071 word types\n",
            "2021-01-09 08:05:26,722 : INFO : PROGRESS: at sentence #1090000, processed 7859336 words, keeping 261683 word types\n",
            "2021-01-09 08:05:26,745 : INFO : PROGRESS: at sentence #1100000, processed 7932029 words, keeping 263278 word types\n",
            "2021-01-09 08:05:26,772 : INFO : PROGRESS: at sentence #1110000, processed 8004146 words, keeping 264800 word types\n",
            "2021-01-09 08:05:26,793 : INFO : PROGRESS: at sentence #1120000, processed 8075880 words, keeping 266309 word types\n",
            "2021-01-09 08:05:26,817 : INFO : PROGRESS: at sentence #1130000, processed 8148163 words, keeping 267826 word types\n",
            "2021-01-09 08:05:26,844 : INFO : PROGRESS: at sentence #1140000, processed 8220487 words, keeping 269391 word types\n",
            "2021-01-09 08:05:26,868 : INFO : PROGRESS: at sentence #1150000, processed 8292498 words, keeping 270894 word types\n",
            "2021-01-09 08:05:26,893 : INFO : PROGRESS: at sentence #1160000, processed 8363838 words, keeping 272400 word types\n",
            "2021-01-09 08:05:26,921 : INFO : PROGRESS: at sentence #1170000, processed 8435510 words, keeping 273970 word types\n",
            "2021-01-09 08:05:26,943 : INFO : PROGRESS: at sentence #1180000, processed 8507795 words, keeping 275521 word types\n",
            "2021-01-09 08:05:26,968 : INFO : PROGRESS: at sentence #1190000, processed 8579080 words, keeping 277007 word types\n",
            "2021-01-09 08:05:26,996 : INFO : PROGRESS: at sentence #1200000, processed 8650606 words, keeping 278457 word types\n",
            "2021-01-09 08:05:27,017 : INFO : PROGRESS: at sentence #1210000, processed 8721893 words, keeping 279959 word types\n",
            "2021-01-09 08:05:27,044 : INFO : PROGRESS: at sentence #1220000, processed 8793795 words, keeping 281427 word types\n",
            "2021-01-09 08:05:27,066 : INFO : PROGRESS: at sentence #1230000, processed 8865726 words, keeping 282981 word types\n",
            "2021-01-09 08:05:27,094 : INFO : PROGRESS: at sentence #1240000, processed 8938173 words, keeping 284542 word types\n",
            "2021-01-09 08:05:27,120 : INFO : PROGRESS: at sentence #1250000, processed 9010842 words, keeping 286064 word types\n",
            "2021-01-09 08:05:27,151 : INFO : PROGRESS: at sentence #1260000, processed 9083261 words, keeping 287521 word types\n",
            "2021-01-09 08:05:27,179 : INFO : PROGRESS: at sentence #1270000, processed 9155616 words, keeping 288987 word types\n",
            "2021-01-09 08:05:27,204 : INFO : collected 290418 word types from a corpus of 9227204 raw words and 1280000 sentences\n",
            "2021-01-09 08:05:27,210 : INFO : Loading a fresh vocabulary\n",
            "2021-01-09 08:05:27,365 : INFO : effective_min_count=10 retains 30369 unique words (10% of original 290418, drops 260049)\n",
            "2021-01-09 08:05:27,366 : INFO : effective_min_count=10 leaves 8780739 word corpus (95% of original 9227204, drops 446465)\n",
            "2021-01-09 08:05:27,487 : INFO : deleting the raw counts dictionary of 290418 items\n",
            "2021-01-09 08:05:27,499 : INFO : sample=0.001 downsamples 45 most-common words\n",
            "2021-01-09 08:05:27,500 : INFO : downsampling leaves estimated 8222658 word corpus (93.6% of prior 8780739)\n",
            "2021-01-09 08:05:27,583 : INFO : estimated required memory for 30369 words and 300 dimensions: 88070100 bytes\n",
            "2021-01-09 08:05:27,583 : INFO : resetting layer weights\n"
          ],
          "name": "stderr"
        }
      ]
    },
    {
      "cell_type": "code",
      "metadata": {
        "id": "AwZM0d96socp",
        "colab": {
          "base_uri": "https://localhost:8080/"
        },
        "outputId": "e5fd059e-a2dd-4a8a-f461-99fb6ce60596"
      },
      "source": [
        "words = w2v_model.wv.vocab.keys()\r\n",
        "vocab_size = len(words)\r\n",
        "print(\"Vocab size\", vocab_size)"
      ],
      "execution_count": null,
      "outputs": [
        {
          "output_type": "stream",
          "text": [
            "Vocab size 30369\n"
          ],
          "name": "stdout"
        }
      ]
    },
    {
      "cell_type": "code",
      "metadata": {
        "colab": {
          "base_uri": "https://localhost:8080/"
        },
        "id": "fpbsJ_UQss-I",
        "outputId": "9d503304-51a1-46ea-dde9-4b9bd632aa7e"
      },
      "source": [
        "%%time\r\n",
        "w2v_model.train(documents, total_examples=len(documents), epochs=W2V_EPOCH)"
      ],
      "execution_count": null,
      "outputs": [
        {
          "output_type": "stream",
          "text": [
            "2021-01-09 08:05:38,676 : INFO : training model with 8 workers on 30369 vocabulary and 300 features, using sg=0 hs=0 sample=0.001 negative=5 window=7\n",
            "2021-01-09 08:05:39,730 : INFO : EPOCH 1 - PROGRESS: at 4.13% examples, 337221 words/s, in_qsize 15, out_qsize 6\n",
            "2021-01-09 08:05:40,731 : INFO : EPOCH 1 - PROGRESS: at 9.23% examples, 374038 words/s, in_qsize 15, out_qsize 2\n",
            "2021-01-09 08:05:41,777 : INFO : EPOCH 1 - PROGRESS: at 14.33% examples, 382471 words/s, in_qsize 15, out_qsize 0\n",
            "2021-01-09 08:05:42,833 : INFO : EPOCH 1 - PROGRESS: at 19.62% examples, 390243 words/s, in_qsize 16, out_qsize 0\n",
            "2021-01-09 08:05:43,884 : INFO : EPOCH 1 - PROGRESS: at 24.72% examples, 391931 words/s, in_qsize 14, out_qsize 1\n",
            "2021-01-09 08:05:44,938 : INFO : EPOCH 1 - PROGRESS: at 29.91% examples, 394242 words/s, in_qsize 15, out_qsize 0\n",
            "2021-01-09 08:05:46,040 : INFO : EPOCH 1 - PROGRESS: at 34.78% examples, 389708 words/s, in_qsize 13, out_qsize 6\n",
            "2021-01-09 08:05:47,052 : INFO : EPOCH 1 - PROGRESS: at 40.19% examples, 395810 words/s, in_qsize 15, out_qsize 0\n",
            "2021-01-09 08:05:48,152 : INFO : EPOCH 1 - PROGRESS: at 45.37% examples, 394953 words/s, in_qsize 15, out_qsize 0\n",
            "2021-01-09 08:05:49,153 : INFO : EPOCH 1 - PROGRESS: at 50.24% examples, 395560 words/s, in_qsize 13, out_qsize 4\n",
            "2021-01-09 08:05:50,155 : INFO : EPOCH 1 - PROGRESS: at 55.32% examples, 397548 words/s, in_qsize 15, out_qsize 0\n",
            "2021-01-09 08:05:51,232 : INFO : EPOCH 1 - PROGRESS: at 60.30% examples, 396094 words/s, in_qsize 15, out_qsize 0\n",
            "2021-01-09 08:05:52,276 : INFO : EPOCH 1 - PROGRESS: at 65.17% examples, 395438 words/s, in_qsize 15, out_qsize 2\n",
            "2021-01-09 08:05:53,311 : INFO : EPOCH 1 - PROGRESS: at 70.37% examples, 396419 words/s, in_qsize 16, out_qsize 0\n",
            "2021-01-09 08:05:54,354 : INFO : EPOCH 1 - PROGRESS: at 75.57% examples, 397312 words/s, in_qsize 15, out_qsize 0\n",
            "2021-01-09 08:05:55,390 : INFO : EPOCH 1 - PROGRESS: at 80.47% examples, 396650 words/s, in_qsize 15, out_qsize 0\n",
            "2021-01-09 08:05:56,403 : INFO : EPOCH 1 - PROGRESS: at 85.45% examples, 397097 words/s, in_qsize 15, out_qsize 0\n",
            "2021-01-09 08:05:57,416 : INFO : EPOCH 1 - PROGRESS: at 90.22% examples, 396529 words/s, in_qsize 14, out_qsize 1\n",
            "2021-01-09 08:05:58,453 : INFO : EPOCH 1 - PROGRESS: at 95.01% examples, 395956 words/s, in_qsize 15, out_qsize 2\n",
            "2021-01-09 08:05:59,243 : INFO : worker thread finished; awaiting finish of 7 more threads\n",
            "2021-01-09 08:05:59,244 : INFO : worker thread finished; awaiting finish of 6 more threads\n",
            "2021-01-09 08:05:59,259 : INFO : worker thread finished; awaiting finish of 5 more threads\n",
            "2021-01-09 08:05:59,261 : INFO : worker thread finished; awaiting finish of 4 more threads\n",
            "2021-01-09 08:05:59,282 : INFO : worker thread finished; awaiting finish of 3 more threads\n",
            "2021-01-09 08:05:59,313 : INFO : worker thread finished; awaiting finish of 2 more threads\n",
            "2021-01-09 08:05:59,321 : INFO : worker thread finished; awaiting finish of 1 more threads\n",
            "2021-01-09 08:05:59,325 : INFO : worker thread finished; awaiting finish of 0 more threads\n",
            "2021-01-09 08:05:59,326 : INFO : EPOCH - 1 : training on 9227204 raw words (8223420 effective words) took 20.6s, 398719 effective words/s\n",
            "2021-01-09 08:06:00,416 : INFO : EPOCH 2 - PROGRESS: at 4.56% examples, 346008 words/s, in_qsize 15, out_qsize 0\n",
            "2021-01-09 08:06:01,449 : INFO : EPOCH 2 - PROGRESS: at 9.34% examples, 362455 words/s, in_qsize 16, out_qsize 6\n",
            "2021-01-09 08:06:02,471 : INFO : EPOCH 2 - PROGRESS: at 14.75% examples, 386311 words/s, in_qsize 15, out_qsize 0\n",
            "2021-01-09 08:06:03,494 : INFO : EPOCH 2 - PROGRESS: at 19.73% examples, 389769 words/s, in_qsize 15, out_qsize 0\n",
            "2021-01-09 08:06:04,520 : INFO : EPOCH 2 - PROGRESS: at 24.61% examples, 389947 words/s, in_qsize 15, out_qsize 0\n",
            "2021-01-09 08:06:05,529 : INFO : EPOCH 2 - PROGRESS: at 29.80% examples, 395470 words/s, in_qsize 15, out_qsize 0\n",
            "2021-01-09 08:06:06,544 : INFO : EPOCH 2 - PROGRESS: at 34.35% examples, 392277 words/s, in_qsize 15, out_qsize 1\n",
            "2021-01-09 08:06:07,582 : INFO : EPOCH 2 - PROGRESS: at 39.21% examples, 391042 words/s, in_qsize 16, out_qsize 1\n",
            "2021-01-09 08:06:08,652 : INFO : EPOCH 2 - PROGRESS: at 44.40% examples, 392011 words/s, in_qsize 13, out_qsize 2\n",
            "2021-01-09 08:06:09,688 : INFO : EPOCH 2 - PROGRESS: at 49.92% examples, 396666 words/s, in_qsize 15, out_qsize 0\n",
            "2021-01-09 08:06:10,714 : INFO : EPOCH 2 - PROGRESS: at 54.78% examples, 396138 words/s, in_qsize 16, out_qsize 0\n",
            "2021-01-09 08:06:11,723 : INFO : EPOCH 2 - PROGRESS: at 59.87% examples, 397668 words/s, in_qsize 16, out_qsize 1\n",
            "2021-01-09 08:06:12,738 : INFO : EPOCH 2 - PROGRESS: at 64.40% examples, 395474 words/s, in_qsize 15, out_qsize 0\n",
            "2021-01-09 08:06:13,793 : INFO : EPOCH 2 - PROGRESS: at 69.72% examples, 396806 words/s, in_qsize 16, out_qsize 1\n",
            "2021-01-09 08:06:14,804 : INFO : EPOCH 2 - PROGRESS: at 74.92% examples, 398503 words/s, in_qsize 16, out_qsize 0\n",
            "2021-01-09 08:06:15,820 : INFO : EPOCH 2 - PROGRESS: at 79.71% examples, 397702 words/s, in_qsize 15, out_qsize 0\n",
            "2021-01-09 08:06:16,865 : INFO : EPOCH 2 - PROGRESS: at 84.48% examples, 396353 words/s, in_qsize 10, out_qsize 5\n",
            "2021-01-09 08:06:17,902 : INFO : EPOCH 2 - PROGRESS: at 89.89% examples, 398187 words/s, in_qsize 15, out_qsize 0\n",
            "2021-01-09 08:06:18,904 : INFO : EPOCH 2 - PROGRESS: at 95.01% examples, 399178 words/s, in_qsize 14, out_qsize 1\n",
            "2021-01-09 08:06:19,705 : INFO : worker thread finished; awaiting finish of 7 more threads\n",
            "2021-01-09 08:06:19,739 : INFO : worker thread finished; awaiting finish of 6 more threads\n",
            "2021-01-09 08:06:19,802 : INFO : worker thread finished; awaiting finish of 5 more threads\n",
            "2021-01-09 08:06:19,809 : INFO : worker thread finished; awaiting finish of 4 more threads\n",
            "2021-01-09 08:06:19,824 : INFO : worker thread finished; awaiting finish of 3 more threads\n",
            "2021-01-09 08:06:19,831 : INFO : worker thread finished; awaiting finish of 2 more threads\n",
            "2021-01-09 08:06:19,841 : INFO : worker thread finished; awaiting finish of 1 more threads\n",
            "2021-01-09 08:06:19,843 : INFO : worker thread finished; awaiting finish of 0 more threads\n",
            "2021-01-09 08:06:19,844 : INFO : EPOCH - 2 : training on 9227204 raw words (8222517 effective words) took 20.5s, 400927 effective words/s\n",
            "2021-01-09 08:06:20,870 : INFO : EPOCH 3 - PROGRESS: at 4.13% examples, 336785 words/s, in_qsize 14, out_qsize 2\n",
            "2021-01-09 08:06:21,982 : INFO : EPOCH 3 - PROGRESS: at 9.66% examples, 374690 words/s, in_qsize 16, out_qsize 2\n",
            "2021-01-09 08:06:22,987 : INFO : EPOCH 3 - PROGRESS: at 14.86% examples, 390969 words/s, in_qsize 15, out_qsize 0\n",
            "2021-01-09 08:06:23,995 : INFO : EPOCH 3 - PROGRESS: at 19.73% examples, 392614 words/s, in_qsize 15, out_qsize 0\n",
            "2021-01-09 08:06:25,023 : INFO : EPOCH 3 - PROGRESS: at 25.15% examples, 400792 words/s, in_qsize 15, out_qsize 0\n",
            "2021-01-09 08:06:26,087 : INFO : EPOCH 3 - PROGRESS: at 30.02% examples, 396724 words/s, in_qsize 15, out_qsize 0\n",
            "2021-01-09 08:06:27,106 : INFO : EPOCH 3 - PROGRESS: at 35.00% examples, 397441 words/s, in_qsize 16, out_qsize 0\n",
            "2021-01-09 08:06:28,125 : INFO : EPOCH 3 - PROGRESS: at 40.19% examples, 400191 words/s, in_qsize 16, out_qsize 0\n",
            "2021-01-09 08:06:29,153 : INFO : EPOCH 3 - PROGRESS: at 44.83% examples, 397122 words/s, in_qsize 13, out_qsize 2\n",
            "2021-01-09 08:06:30,170 : INFO : EPOCH 3 - PROGRESS: at 49.70% examples, 396850 words/s, in_qsize 13, out_qsize 5\n",
            "2021-01-09 08:06:31,171 : INFO : EPOCH 3 - PROGRESS: at 55.10% examples, 401128 words/s, in_qsize 15, out_qsize 0\n",
            "2021-01-09 08:06:32,183 : INFO : EPOCH 3 - PROGRESS: at 59.66% examples, 398545 words/s, in_qsize 15, out_qsize 0\n",
            "2021-01-09 08:06:33,206 : INFO : EPOCH 3 - PROGRESS: at 64.62% examples, 399333 words/s, in_qsize 16, out_qsize 1\n",
            "2021-01-09 08:06:34,268 : INFO : EPOCH 3 - PROGRESS: at 70.04% examples, 400195 words/s, in_qsize 16, out_qsize 0\n",
            "2021-01-09 08:06:35,272 : INFO : EPOCH 3 - PROGRESS: at 74.92% examples, 400124 words/s, in_qsize 14, out_qsize 1\n",
            "2021-01-09 08:06:36,353 : INFO : EPOCH 3 - PROGRESS: at 80.14% examples, 399806 words/s, in_qsize 15, out_qsize 3\n",
            "2021-01-09 08:06:37,455 : INFO : EPOCH 3 - PROGRESS: at 85.66% examples, 400571 words/s, in_qsize 14, out_qsize 1\n",
            "2021-01-09 08:06:38,532 : INFO : EPOCH 3 - PROGRESS: at 90.98% examples, 400844 words/s, in_qsize 15, out_qsize 0\n",
            "2021-01-09 08:06:39,581 : INFO : EPOCH 3 - PROGRESS: at 96.10% examples, 400959 words/s, in_qsize 15, out_qsize 0\n",
            "2021-01-09 08:06:40,211 : INFO : worker thread finished; awaiting finish of 7 more threads\n",
            "2021-01-09 08:06:40,217 : INFO : worker thread finished; awaiting finish of 6 more threads\n",
            "2021-01-09 08:06:40,227 : INFO : worker thread finished; awaiting finish of 5 more threads\n",
            "2021-01-09 08:06:40,229 : INFO : worker thread finished; awaiting finish of 4 more threads\n",
            "2021-01-09 08:06:40,249 : INFO : worker thread finished; awaiting finish of 3 more threads\n",
            "2021-01-09 08:06:40,250 : INFO : worker thread finished; awaiting finish of 2 more threads\n",
            "2021-01-09 08:06:40,258 : INFO : worker thread finished; awaiting finish of 1 more threads\n",
            "2021-01-09 08:06:40,262 : INFO : worker thread finished; awaiting finish of 0 more threads\n",
            "2021-01-09 08:06:40,263 : INFO : EPOCH - 3 : training on 9227204 raw words (8222762 effective words) took 20.4s, 403106 effective words/s\n",
            "2021-01-09 08:06:41,442 : INFO : EPOCH 4 - PROGRESS: at 4.89% examples, 349950 words/s, in_qsize 15, out_qsize 3\n",
            "2021-01-09 08:06:42,446 : INFO : EPOCH 4 - PROGRESS: at 10.21% examples, 389820 words/s, in_qsize 15, out_qsize 0\n",
            "2021-01-09 08:06:43,455 : INFO : EPOCH 4 - PROGRESS: at 15.08% examples, 392063 words/s, in_qsize 16, out_qsize 1\n",
            "2021-01-09 08:06:44,459 : INFO : EPOCH 4 - PROGRESS: at 20.16% examples, 398047 words/s, in_qsize 15, out_qsize 0\n",
            "2021-01-09 08:06:45,558 : INFO : EPOCH 4 - PROGRESS: at 25.48% examples, 397931 words/s, in_qsize 15, out_qsize 0\n",
            "2021-01-09 08:06:46,645 : INFO : EPOCH 4 - PROGRESS: at 30.78% examples, 398582 words/s, in_qsize 15, out_qsize 0\n",
            "2021-01-09 08:06:47,669 : INFO : EPOCH 4 - PROGRESS: at 35.86% examples, 399992 words/s, in_qsize 16, out_qsize 0\n",
            "2021-01-09 08:06:48,733 : INFO : EPOCH 4 - PROGRESS: at 40.83% examples, 398072 words/s, in_qsize 16, out_qsize 0\n",
            "2021-01-09 08:06:49,785 : INFO : EPOCH 4 - PROGRESS: at 45.92% examples, 398111 words/s, in_qsize 15, out_qsize 0\n",
            "2021-01-09 08:06:50,860 : INFO : EPOCH 4 - PROGRESS: at 50.99% examples, 397233 words/s, in_qsize 13, out_qsize 2\n",
            "2021-01-09 08:06:51,871 : INFO : EPOCH 4 - PROGRESS: at 56.18% examples, 399528 words/s, in_qsize 15, out_qsize 0\n",
            "2021-01-09 08:06:52,872 : INFO : EPOCH 4 - PROGRESS: at 61.39% examples, 401762 words/s, in_qsize 15, out_qsize 0\n",
            "2021-01-09 08:06:53,950 : INFO : EPOCH 4 - PROGRESS: at 66.36% examples, 400022 words/s, in_qsize 15, out_qsize 3\n",
            "2021-01-09 08:06:54,964 : INFO : EPOCH 4 - PROGRESS: at 71.45% examples, 400926 words/s, in_qsize 14, out_qsize 5\n",
            "2021-01-09 08:06:55,989 : INFO : EPOCH 4 - PROGRESS: at 76.66% examples, 401954 words/s, in_qsize 15, out_qsize 0\n",
            "2021-01-09 08:06:57,001 : INFO : EPOCH 4 - PROGRESS: at 81.34% examples, 400534 words/s, in_qsize 16, out_qsize 5\n",
            "2021-01-09 08:06:58,060 : INFO : EPOCH 4 - PROGRESS: at 86.96% examples, 402716 words/s, in_qsize 14, out_qsize 1\n",
            "2021-01-09 08:06:59,117 : INFO : EPOCH 4 - PROGRESS: at 92.06% examples, 402324 words/s, in_qsize 15, out_qsize 0\n",
            "2021-01-09 08:07:00,140 : INFO : EPOCH 4 - PROGRESS: at 97.28% examples, 403514 words/s, in_qsize 15, out_qsize 0\n",
            "2021-01-09 08:07:00,462 : INFO : worker thread finished; awaiting finish of 7 more threads\n",
            "2021-01-09 08:07:00,511 : INFO : worker thread finished; awaiting finish of 6 more threads\n",
            "2021-01-09 08:07:00,548 : INFO : worker thread finished; awaiting finish of 5 more threads\n",
            "2021-01-09 08:07:00,561 : INFO : worker thread finished; awaiting finish of 4 more threads\n",
            "2021-01-09 08:07:00,564 : INFO : worker thread finished; awaiting finish of 3 more threads\n",
            "2021-01-09 08:07:00,571 : INFO : worker thread finished; awaiting finish of 2 more threads\n",
            "2021-01-09 08:07:00,581 : INFO : worker thread finished; awaiting finish of 1 more threads\n",
            "2021-01-09 08:07:00,584 : INFO : worker thread finished; awaiting finish of 0 more threads\n",
            "2021-01-09 08:07:00,585 : INFO : EPOCH - 4 : training on 9227204 raw words (8222947 effective words) took 20.3s, 405323 effective words/s\n",
            "2021-01-09 08:07:01,629 : INFO : EPOCH 5 - PROGRESS: at 4.45% examples, 356905 words/s, in_qsize 14, out_qsize 1\n",
            "2021-01-09 08:07:02,650 : INFO : EPOCH 5 - PROGRESS: at 9.55% examples, 383725 words/s, in_qsize 16, out_qsize 0\n",
            "2021-01-09 08:07:03,769 : INFO : EPOCH 5 - PROGRESS: at 14.54% examples, 377457 words/s, in_qsize 15, out_qsize 0\n",
            "2021-01-09 08:07:04,793 : INFO : EPOCH 5 - PROGRESS: at 19.84% examples, 389371 words/s, in_qsize 15, out_qsize 0\n",
            "2021-01-09 08:07:05,793 : INFO : EPOCH 5 - PROGRESS: at 24.50% examples, 388177 words/s, in_qsize 12, out_qsize 3\n",
            "2021-01-09 08:07:06,875 : INFO : EPOCH 5 - PROGRESS: at 29.48% examples, 386551 words/s, in_qsize 11, out_qsize 4\n",
            "2021-01-09 08:07:07,915 : INFO : EPOCH 5 - PROGRESS: at 34.57% examples, 388825 words/s, in_qsize 16, out_qsize 1\n",
            "2021-01-09 08:07:08,917 : INFO : EPOCH 5 - PROGRESS: at 39.22% examples, 388060 words/s, in_qsize 14, out_qsize 1\n",
            "2021-01-09 08:07:09,919 : INFO : EPOCH 5 - PROGRESS: at 43.97% examples, 388387 words/s, in_qsize 14, out_qsize 2\n",
            "2021-01-09 08:07:10,981 : INFO : EPOCH 5 - PROGRESS: at 49.16% examples, 389885 words/s, in_qsize 16, out_qsize 0\n",
            "2021-01-09 08:07:12,015 : INFO : EPOCH 5 - PROGRESS: at 54.24% examples, 391266 words/s, in_qsize 14, out_qsize 1\n",
            "2021-01-09 08:07:13,044 : INFO : EPOCH 5 - PROGRESS: at 59.34% examples, 392571 words/s, in_qsize 15, out_qsize 0\n",
            "2021-01-09 08:07:14,075 : INFO : EPOCH 5 - PROGRESS: at 64.51% examples, 394272 words/s, in_qsize 14, out_qsize 1\n",
            "2021-01-09 08:07:15,087 : INFO : EPOCH 5 - PROGRESS: at 69.61% examples, 395620 words/s, in_qsize 15, out_qsize 0\n",
            "2021-01-09 08:07:16,093 : INFO : EPOCH 5 - PROGRESS: at 74.81% examples, 397531 words/s, in_qsize 15, out_qsize 0\n",
            "2021-01-09 08:07:17,218 : INFO : EPOCH 5 - PROGRESS: at 79.92% examples, 395802 words/s, in_qsize 16, out_qsize 3\n",
            "2021-01-09 08:07:18,236 : INFO : EPOCH 5 - PROGRESS: at 85.34% examples, 398204 words/s, in_qsize 16, out_qsize 0\n",
            "2021-01-09 08:07:19,241 : INFO : EPOCH 5 - PROGRESS: at 90.43% examples, 399183 words/s, in_qsize 14, out_qsize 2\n",
            "2021-01-09 08:07:20,250 : INFO : EPOCH 5 - PROGRESS: at 95.55% examples, 399972 words/s, in_qsize 15, out_qsize 0\n",
            "2021-01-09 08:07:20,961 : INFO : worker thread finished; awaiting finish of 7 more threads\n",
            "2021-01-09 08:07:20,996 : INFO : worker thread finished; awaiting finish of 6 more threads\n",
            "2021-01-09 08:07:21,002 : INFO : worker thread finished; awaiting finish of 5 more threads\n",
            "2021-01-09 08:07:21,009 : INFO : worker thread finished; awaiting finish of 4 more threads\n",
            "2021-01-09 08:07:21,030 : INFO : worker thread finished; awaiting finish of 3 more threads\n",
            "2021-01-09 08:07:21,043 : INFO : worker thread finished; awaiting finish of 2 more threads\n",
            "2021-01-09 08:07:21,063 : INFO : worker thread finished; awaiting finish of 1 more threads\n",
            "2021-01-09 08:07:21,066 : INFO : worker thread finished; awaiting finish of 0 more threads\n",
            "2021-01-09 08:07:21,067 : INFO : EPOCH - 5 : training on 9227204 raw words (8223169 effective words) took 20.5s, 401906 effective words/s\n",
            "2021-01-09 08:07:22,103 : INFO : EPOCH 6 - PROGRESS: at 4.56% examples, 366380 words/s, in_qsize 15, out_qsize 0\n",
            "2021-01-09 08:07:23,144 : INFO : EPOCH 6 - PROGRESS: at 9.66% examples, 384691 words/s, in_qsize 15, out_qsize 0\n",
            "2021-01-09 08:07:24,155 : INFO : EPOCH 6 - PROGRESS: at 14.86% examples, 397180 words/s, in_qsize 15, out_qsize 0\n",
            "2021-01-09 08:07:25,160 : INFO : EPOCH 6 - PROGRESS: at 20.27% examples, 408427 words/s, in_qsize 16, out_qsize 0\n",
            "2021-01-09 08:07:26,196 : INFO : EPOCH 6 - PROGRESS: at 25.04% examples, 404580 words/s, in_qsize 15, out_qsize 1\n",
            "2021-01-09 08:07:27,188 : INFO : EPOCH 6 - PROGRESS: at 29.70% examples, 399739 words/s, in_qsize 12, out_qsize 6\n",
            "2021-01-09 08:07:28,218 : INFO : EPOCH 6 - PROGRESS: at 34.78% examples, 400729 words/s, in_qsize 14, out_qsize 1\n",
            "2021-01-09 08:07:29,227 : INFO : EPOCH 6 - PROGRESS: at 39.86% examples, 402457 words/s, in_qsize 14, out_qsize 0\n",
            "2021-01-09 08:07:30,271 : INFO : EPOCH 6 - PROGRESS: at 44.62% examples, 400140 words/s, in_qsize 15, out_qsize 2\n",
            "2021-01-09 08:07:31,273 : INFO : EPOCH 6 - PROGRESS: at 49.38% examples, 398600 words/s, in_qsize 15, out_qsize 0\n",
            "2021-01-09 08:07:32,311 : INFO : EPOCH 6 - PROGRESS: at 54.67% examples, 400623 words/s, in_qsize 16, out_qsize 0\n",
            "2021-01-09 08:07:33,346 : INFO : EPOCH 6 - PROGRESS: at 59.87% examples, 401683 words/s, in_qsize 14, out_qsize 2\n",
            "2021-01-09 08:07:34,348 : INFO : EPOCH 6 - PROGRESS: at 65.27% examples, 404901 words/s, in_qsize 16, out_qsize 0\n",
            "2021-01-09 08:07:35,353 : INFO : EPOCH 6 - PROGRESS: at 69.72% examples, 401989 words/s, in_qsize 15, out_qsize 0\n",
            "2021-01-09 08:07:36,381 : INFO : EPOCH 6 - PROGRESS: at 74.92% examples, 402922 words/s, in_qsize 15, out_qsize 0\n",
            "2021-01-09 08:07:37,394 : INFO : EPOCH 6 - PROGRESS: at 80.03% examples, 403576 words/s, in_qsize 15, out_qsize 1\n",
            "2021-01-09 08:07:38,429 : INFO : EPOCH 6 - PROGRESS: at 85.13% examples, 403653 words/s, in_qsize 15, out_qsize 0\n",
            "2021-01-09 08:07:39,454 : INFO : EPOCH 6 - PROGRESS: at 90.11% examples, 403419 words/s, in_qsize 15, out_qsize 0\n",
            "2021-01-09 08:07:40,535 : INFO : EPOCH 6 - PROGRESS: at 95.66% examples, 404340 words/s, in_qsize 15, out_qsize 0\n",
            "2021-01-09 08:07:41,272 : INFO : worker thread finished; awaiting finish of 7 more threads\n",
            "2021-01-09 08:07:41,274 : INFO : worker thread finished; awaiting finish of 6 more threads\n",
            "2021-01-09 08:07:41,275 : INFO : worker thread finished; awaiting finish of 5 more threads\n",
            "2021-01-09 08:07:41,281 : INFO : worker thread finished; awaiting finish of 4 more threads\n",
            "2021-01-09 08:07:41,288 : INFO : worker thread finished; awaiting finish of 3 more threads\n",
            "2021-01-09 08:07:41,298 : INFO : worker thread finished; awaiting finish of 2 more threads\n",
            "2021-01-09 08:07:41,304 : INFO : worker thread finished; awaiting finish of 1 more threads\n",
            "2021-01-09 08:07:41,315 : INFO : worker thread finished; awaiting finish of 0 more threads\n",
            "2021-01-09 08:07:41,316 : INFO : EPOCH - 6 : training on 9227204 raw words (8223098 effective words) took 20.2s, 406407 effective words/s\n",
            "2021-01-09 08:07:42,339 : INFO : EPOCH 7 - PROGRESS: at 4.56% examples, 371417 words/s, in_qsize 15, out_qsize 0\n",
            "2021-01-09 08:07:43,359 : INFO : EPOCH 7 - PROGRESS: at 9.45% examples, 382275 words/s, in_qsize 16, out_qsize 3\n",
            "2021-01-09 08:07:44,419 : INFO : EPOCH 7 - PROGRESS: at 14.76% examples, 395315 words/s, in_qsize 15, out_qsize 0\n",
            "2021-01-09 08:07:45,417 : INFO : EPOCH 7 - PROGRESS: at 19.73% examples, 396732 words/s, in_qsize 15, out_qsize 0\n",
            "2021-01-09 08:07:46,420 : INFO : EPOCH 7 - PROGRESS: at 24.72% examples, 399166 words/s, in_qsize 14, out_qsize 1\n",
            "2021-01-09 08:07:47,458 : INFO : EPOCH 7 - PROGRESS: at 29.80% examples, 399870 words/s, in_qsize 15, out_qsize 0\n",
            "2021-01-09 08:07:48,460 : INFO : EPOCH 7 - PROGRESS: at 34.89% examples, 402434 words/s, in_qsize 15, out_qsize 1\n",
            "2021-01-09 08:07:49,481 : INFO : EPOCH 7 - PROGRESS: at 39.97% examples, 403398 words/s, in_qsize 16, out_qsize 3\n",
            "2021-01-09 08:07:50,493 : INFO : EPOCH 7 - PROGRESS: at 45.16% examples, 405474 words/s, in_qsize 14, out_qsize 0\n",
            "2021-01-09 08:07:51,510 : INFO : EPOCH 7 - PROGRESS: at 50.02% examples, 404317 words/s, in_qsize 12, out_qsize 3\n",
            "2021-01-09 08:07:52,612 : INFO : EPOCH 7 - PROGRESS: at 55.42% examples, 404345 words/s, in_qsize 11, out_qsize 4\n",
            "2021-01-09 08:07:53,636 : INFO : EPOCH 7 - PROGRESS: at 60.63% examples, 405593 words/s, in_qsize 16, out_qsize 4\n",
            "2021-01-09 08:07:54,701 : INFO : EPOCH 7 - PROGRESS: at 66.04% examples, 406437 words/s, in_qsize 16, out_qsize 0\n",
            "2021-01-09 08:07:55,710 : INFO : EPOCH 7 - PROGRESS: at 71.13% examples, 407048 words/s, in_qsize 13, out_qsize 2\n",
            "2021-01-09 08:07:56,736 : INFO : EPOCH 7 - PROGRESS: at 76.33% examples, 407684 words/s, in_qsize 15, out_qsize 0\n",
            "2021-01-09 08:07:57,775 : INFO : EPOCH 7 - PROGRESS: at 81.45% examples, 407406 words/s, in_qsize 13, out_qsize 2\n",
            "2021-01-09 08:07:58,828 : INFO : EPOCH 7 - PROGRESS: at 86.75% examples, 407810 words/s, in_qsize 15, out_qsize 0\n",
            "2021-01-09 08:07:59,830 : INFO : EPOCH 7 - PROGRESS: at 92.07% examples, 409275 words/s, in_qsize 15, out_qsize 0\n",
            "2021-01-09 08:08:00,847 : INFO : EPOCH 7 - PROGRESS: at 96.96% examples, 408475 words/s, in_qsize 16, out_qsize 3\n",
            "2021-01-09 08:08:01,253 : INFO : worker thread finished; awaiting finish of 7 more threads\n",
            "2021-01-09 08:08:01,256 : INFO : worker thread finished; awaiting finish of 6 more threads\n",
            "2021-01-09 08:08:01,272 : INFO : worker thread finished; awaiting finish of 5 more threads\n",
            "2021-01-09 08:08:01,301 : INFO : worker thread finished; awaiting finish of 4 more threads\n",
            "2021-01-09 08:08:01,307 : INFO : worker thread finished; awaiting finish of 3 more threads\n",
            "2021-01-09 08:08:01,311 : INFO : worker thread finished; awaiting finish of 2 more threads\n",
            "2021-01-09 08:08:01,349 : INFO : worker thread finished; awaiting finish of 1 more threads\n",
            "2021-01-09 08:08:01,355 : INFO : worker thread finished; awaiting finish of 0 more threads\n",
            "2021-01-09 08:08:01,356 : INFO : EPOCH - 7 : training on 9227204 raw words (8222239 effective words) took 20.0s, 410612 effective words/s\n",
            "2021-01-09 08:08:02,398 : INFO : EPOCH 8 - PROGRESS: at 4.45% examples, 355035 words/s, in_qsize 12, out_qsize 3\n",
            "2021-01-09 08:08:03,416 : INFO : EPOCH 8 - PROGRESS: at 10.10% examples, 405098 words/s, in_qsize 14, out_qsize 0\n",
            "2021-01-09 08:08:04,437 : INFO : EPOCH 8 - PROGRESS: at 14.86% examples, 398003 words/s, in_qsize 14, out_qsize 1\n",
            "2021-01-09 08:08:05,462 : INFO : EPOCH 8 - PROGRESS: at 19.94% examples, 400631 words/s, in_qsize 16, out_qsize 0\n",
            "2021-01-09 08:08:06,524 : INFO : EPOCH 8 - PROGRESS: at 25.37% examples, 404468 words/s, in_qsize 15, out_qsize 0\n",
            "2021-01-09 08:08:07,535 : INFO : EPOCH 8 - PROGRESS: at 30.56% examples, 407551 words/s, in_qsize 16, out_qsize 1\n",
            "2021-01-09 08:08:08,577 : INFO : EPOCH 8 - PROGRESS: at 35.32% examples, 403026 words/s, in_qsize 13, out_qsize 2\n",
            "2021-01-09 08:08:09,578 : INFO : EPOCH 8 - PROGRESS: at 40.62% examples, 406995 words/s, in_qsize 15, out_qsize 0\n",
            "2021-01-09 08:08:10,585 : INFO : EPOCH 8 - PROGRESS: at 45.70% examples, 408150 words/s, in_qsize 16, out_qsize 0\n",
            "2021-01-09 08:08:11,629 : INFO : EPOCH 8 - PROGRESS: at 50.78% examples, 407250 words/s, in_qsize 15, out_qsize 0\n",
            "2021-01-09 08:08:12,647 : INFO : EPOCH 8 - PROGRESS: at 56.08% examples, 409261 words/s, in_qsize 15, out_qsize 0\n",
            "2021-01-09 08:08:13,671 : INFO : EPOCH 8 - PROGRESS: at 60.96% examples, 407773 words/s, in_qsize 16, out_qsize 1\n",
            "2021-01-09 08:08:14,690 : INFO : EPOCH 8 - PROGRESS: at 66.15% examples, 408667 words/s, in_qsize 16, out_qsize 0\n",
            "2021-01-09 08:08:15,691 : INFO : EPOCH 8 - PROGRESS: at 71.46% examples, 410584 words/s, in_qsize 15, out_qsize 0\n",
            "2021-01-09 08:08:16,732 : INFO : EPOCH 8 - PROGRESS: at 76.33% examples, 408824 words/s, in_qsize 14, out_qsize 1\n",
            "2021-01-09 08:08:17,737 : INFO : EPOCH 8 - PROGRESS: at 81.88% examples, 411503 words/s, in_qsize 15, out_qsize 0\n",
            "2021-01-09 08:08:18,742 : INFO : EPOCH 8 - PROGRESS: at 86.53% examples, 409725 words/s, in_qsize 14, out_qsize 3\n",
            "2021-01-09 08:08:19,747 : INFO : EPOCH 8 - PROGRESS: at 91.96% examples, 411541 words/s, in_qsize 15, out_qsize 0\n",
            "2021-01-09 08:08:20,771 : INFO : EPOCH 8 - PROGRESS: at 96.85% examples, 410457 words/s, in_qsize 15, out_qsize 0\n",
            "2021-01-09 08:08:21,189 : INFO : worker thread finished; awaiting finish of 7 more threads\n",
            "2021-01-09 08:08:21,228 : INFO : worker thread finished; awaiting finish of 6 more threads\n",
            "2021-01-09 08:08:21,230 : INFO : worker thread finished; awaiting finish of 5 more threads\n",
            "2021-01-09 08:08:21,267 : INFO : worker thread finished; awaiting finish of 4 more threads\n",
            "2021-01-09 08:08:21,271 : INFO : worker thread finished; awaiting finish of 3 more threads\n",
            "2021-01-09 08:08:21,287 : INFO : worker thread finished; awaiting finish of 2 more threads\n",
            "2021-01-09 08:08:21,298 : INFO : worker thread finished; awaiting finish of 1 more threads\n",
            "2021-01-09 08:08:21,308 : INFO : worker thread finished; awaiting finish of 0 more threads\n",
            "2021-01-09 08:08:21,309 : INFO : EPOCH - 8 : training on 9227204 raw words (8222753 effective words) took 19.9s, 412381 effective words/s\n",
            "2021-01-09 08:08:22,418 : INFO : EPOCH 9 - PROGRESS: at 4.78% examples, 357604 words/s, in_qsize 15, out_qsize 0\n",
            "2021-01-09 08:08:23,429 : INFO : EPOCH 9 - PROGRESS: at 9.88% examples, 384863 words/s, in_qsize 13, out_qsize 2\n",
            "2021-01-09 08:08:24,435 : INFO : EPOCH 9 - PROGRESS: at 15.08% examples, 397680 words/s, in_qsize 15, out_qsize 0\n",
            "2021-01-09 08:08:25,436 : INFO : EPOCH 9 - PROGRESS: at 19.94% examples, 398271 words/s, in_qsize 15, out_qsize 0\n",
            "2021-01-09 08:08:26,441 : INFO : EPOCH 9 - PROGRESS: at 24.94% examples, 400155 words/s, in_qsize 16, out_qsize 2\n",
            "2021-01-09 08:08:27,444 : INFO : EPOCH 9 - PROGRESS: at 29.81% examples, 400176 words/s, in_qsize 10, out_qsize 5\n",
            "2021-01-09 08:08:28,445 : INFO : EPOCH 9 - PROGRESS: at 35.00% examples, 403950 words/s, in_qsize 14, out_qsize 0\n",
            "2021-01-09 08:08:29,461 : INFO : EPOCH 9 - PROGRESS: at 39.97% examples, 403864 words/s, in_qsize 15, out_qsize 0\n",
            "2021-01-09 08:08:30,543 : INFO : EPOCH 9 - PROGRESS: at 45.05% examples, 401901 words/s, in_qsize 15, out_qsize 0\n",
            "2021-01-09 08:08:31,569 : INFO : EPOCH 9 - PROGRESS: at 50.13% examples, 402545 words/s, in_qsize 15, out_qsize 0\n",
            "2021-01-09 08:08:32,610 : INFO : EPOCH 9 - PROGRESS: at 55.32% examples, 403330 words/s, in_qsize 15, out_qsize 0\n",
            "2021-01-09 08:08:33,623 : INFO : EPOCH 9 - PROGRESS: at 60.41% examples, 404143 words/s, in_qsize 15, out_qsize 0\n",
            "2021-01-09 08:08:34,652 : INFO : EPOCH 9 - PROGRESS: at 65.17% examples, 402345 words/s, in_qsize 15, out_qsize 0\n",
            "2021-01-09 08:08:35,674 : INFO : EPOCH 9 - PROGRESS: at 70.26% examples, 403391 words/s, in_qsize 15, out_qsize 1\n",
            "2021-01-09 08:08:36,665 : INFO : EPOCH 9 - PROGRESS: at 75.14% examples, 402955 words/s, in_qsize 13, out_qsize 2\n",
            "2021-01-09 08:08:37,695 : INFO : EPOCH 9 - PROGRESS: at 80.03% examples, 402088 words/s, in_qsize 13, out_qsize 2\n",
            "2021-01-09 08:08:38,721 : INFO : EPOCH 9 - PROGRESS: at 85.66% examples, 404979 words/s, in_qsize 15, out_qsize 0\n",
            "2021-01-09 08:08:39,807 : INFO : EPOCH 9 - PROGRESS: at 90.87% examples, 404304 words/s, in_qsize 15, out_qsize 0\n",
            "2021-01-09 08:08:40,861 : INFO : EPOCH 9 - PROGRESS: at 96.31% examples, 405273 words/s, in_qsize 15, out_qsize 0\n",
            "2021-01-09 08:08:41,435 : INFO : worker thread finished; awaiting finish of 7 more threads\n",
            "2021-01-09 08:08:41,491 : INFO : worker thread finished; awaiting finish of 6 more threads\n",
            "2021-01-09 08:08:41,520 : INFO : worker thread finished; awaiting finish of 5 more threads\n",
            "2021-01-09 08:08:41,524 : INFO : worker thread finished; awaiting finish of 4 more threads\n",
            "2021-01-09 08:08:41,525 : INFO : worker thread finished; awaiting finish of 3 more threads\n",
            "2021-01-09 08:08:41,526 : INFO : worker thread finished; awaiting finish of 2 more threads\n",
            "2021-01-09 08:08:41,533 : INFO : worker thread finished; awaiting finish of 1 more threads\n",
            "2021-01-09 08:08:41,534 : INFO : worker thread finished; awaiting finish of 0 more threads\n",
            "2021-01-09 08:08:41,535 : INFO : EPOCH - 9 : training on 9227204 raw words (8222193 effective words) took 20.2s, 406791 effective words/s\n",
            "2021-01-09 08:08:42,573 : INFO : EPOCH 10 - PROGRESS: at 4.56% examples, 366647 words/s, in_qsize 16, out_qsize 1\n",
            "2021-01-09 08:08:43,603 : INFO : EPOCH 10 - PROGRESS: at 9.77% examples, 391304 words/s, in_qsize 13, out_qsize 2\n",
            "2021-01-09 08:08:44,628 : INFO : EPOCH 10 - PROGRESS: at 14.98% examples, 399777 words/s, in_qsize 15, out_qsize 0\n",
            "2021-01-09 08:08:45,671 : INFO : EPOCH 10 - PROGRESS: at 20.05% examples, 400074 words/s, in_qsize 12, out_qsize 3\n",
            "2021-01-09 08:08:46,720 : INFO : EPOCH 10 - PROGRESS: at 25.48% examples, 405129 words/s, in_qsize 15, out_qsize 0\n",
            "2021-01-09 08:08:47,805 : INFO : EPOCH 10 - PROGRESS: at 30.99% examples, 407560 words/s, in_qsize 15, out_qsize 0\n",
            "2021-01-09 08:08:48,818 : INFO : EPOCH 10 - PROGRESS: at 36.18% examples, 409548 words/s, in_qsize 14, out_qsize 1\n",
            "2021-01-09 08:08:49,844 : INFO : EPOCH 10 - PROGRESS: at 41.59% examples, 412569 words/s, in_qsize 15, out_qsize 0\n",
            "2021-01-09 08:08:50,845 : INFO : EPOCH 10 - PROGRESS: at 46.57% examples, 412264 words/s, in_qsize 16, out_qsize 0\n",
            "2021-01-09 08:08:51,851 : INFO : EPOCH 10 - PROGRESS: at 51.43% examples, 410933 words/s, in_qsize 15, out_qsize 0\n",
            "2021-01-09 08:08:52,863 : INFO : EPOCH 10 - PROGRESS: at 56.29% examples, 409591 words/s, in_qsize 15, out_qsize 0\n",
            "2021-01-09 08:08:53,899 : INFO : EPOCH 10 - PROGRESS: at 61.50% examples, 409858 words/s, in_qsize 14, out_qsize 1\n",
            "2021-01-09 08:08:54,930 : INFO : EPOCH 10 - PROGRESS: at 66.80% examples, 410911 words/s, in_qsize 15, out_qsize 0\n",
            "2021-01-09 08:08:55,941 : INFO : EPOCH 10 - PROGRESS: at 71.78% examples, 410522 words/s, in_qsize 16, out_qsize 0\n",
            "2021-01-09 08:08:56,961 : INFO : EPOCH 10 - PROGRESS: at 77.31% examples, 412823 words/s, in_qsize 16, out_qsize 0\n",
            "2021-01-09 08:08:57,987 : INFO : EPOCH 10 - PROGRESS: at 81.99% examples, 410345 words/s, in_qsize 15, out_qsize 4\n",
            "2021-01-09 08:08:58,997 : INFO : EPOCH 10 - PROGRESS: at 87.29% examples, 411602 words/s, in_qsize 16, out_qsize 0\n",
            "2021-01-09 08:09:00,050 : INFO : EPOCH 10 - PROGRESS: at 92.29% examples, 410322 words/s, in_qsize 16, out_qsize 0\n",
            "2021-01-09 08:09:01,169 : INFO : EPOCH 10 - PROGRESS: at 98.04% examples, 410975 words/s, in_qsize 15, out_qsize 0\n",
            "2021-01-09 08:09:01,375 : INFO : worker thread finished; awaiting finish of 7 more threads\n",
            "2021-01-09 08:09:01,378 : INFO : worker thread finished; awaiting finish of 6 more threads\n",
            "2021-01-09 08:09:01,390 : INFO : worker thread finished; awaiting finish of 5 more threads\n",
            "2021-01-09 08:09:01,392 : INFO : worker thread finished; awaiting finish of 4 more threads\n",
            "2021-01-09 08:09:01,399 : INFO : worker thread finished; awaiting finish of 3 more threads\n",
            "2021-01-09 08:09:01,402 : INFO : worker thread finished; awaiting finish of 2 more threads\n",
            "2021-01-09 08:09:01,438 : INFO : worker thread finished; awaiting finish of 1 more threads\n",
            "2021-01-09 08:09:01,452 : INFO : worker thread finished; awaiting finish of 0 more threads\n",
            "2021-01-09 08:09:01,453 : INFO : EPOCH - 10 : training on 9227204 raw words (8222993 effective words) took 19.9s, 413220 effective words/s\n",
            "2021-01-09 08:09:02,494 : INFO : EPOCH 11 - PROGRESS: at 4.45% examples, 355746 words/s, in_qsize 13, out_qsize 2\n",
            "2021-01-09 08:09:03,545 : INFO : EPOCH 11 - PROGRESS: at 9.99% examples, 394599 words/s, in_qsize 15, out_qsize 2\n",
            "2021-01-09 08:09:04,551 : INFO : EPOCH 11 - PROGRESS: at 15.30% examples, 407336 words/s, in_qsize 15, out_qsize 0\n",
            "2021-01-09 08:09:05,562 : INFO : EPOCH 11 - PROGRESS: at 20.27% examples, 406698 words/s, in_qsize 16, out_qsize 2\n",
            "2021-01-09 08:09:06,664 : INFO : EPOCH 11 - PROGRESS: at 25.59% examples, 404501 words/s, in_qsize 15, out_qsize 0\n",
            "2021-01-09 08:09:07,680 : INFO : EPOCH 11 - PROGRESS: at 30.78% examples, 407246 words/s, in_qsize 16, out_qsize 0\n",
            "2021-01-09 08:09:08,719 : INFO : EPOCH 11 - PROGRESS: at 35.86% examples, 406620 words/s, in_qsize 15, out_qsize 0\n",
            "2021-01-09 08:09:09,727 : INFO : EPOCH 11 - PROGRESS: at 40.73% examples, 405482 words/s, in_qsize 16, out_qsize 3\n",
            "2021-01-09 08:09:10,734 : INFO : EPOCH 11 - PROGRESS: at 46.46% examples, 412371 words/s, in_qsize 15, out_qsize 0\n",
            "2021-01-09 08:09:11,745 : INFO : EPOCH 11 - PROGRESS: at 50.99% examples, 408218 words/s, in_qsize 13, out_qsize 2\n",
            "2021-01-09 08:09:12,765 : INFO : EPOCH 11 - PROGRESS: at 56.19% examples, 409250 words/s, in_qsize 11, out_qsize 4\n",
            "2021-01-09 08:09:13,785 : INFO : EPOCH 11 - PROGRESS: at 61.50% examples, 410822 words/s, in_qsize 15, out_qsize 0\n",
            "2021-01-09 08:09:14,811 : INFO : EPOCH 11 - PROGRESS: at 66.58% examples, 410599 words/s, in_qsize 16, out_qsize 0\n",
            "2021-01-09 08:09:15,822 : INFO : EPOCH 11 - PROGRESS: at 71.45% examples, 409624 words/s, in_qsize 15, out_qsize 0\n",
            "2021-01-09 08:09:16,855 : INFO : EPOCH 11 - PROGRESS: at 76.77% examples, 410853 words/s, in_qsize 15, out_qsize 2\n",
            "2021-01-09 08:09:17,861 : INFO : EPOCH 11 - PROGRESS: at 81.99% examples, 411345 words/s, in_qsize 16, out_qsize 0\n",
            "2021-01-09 08:09:18,906 : INFO : EPOCH 11 - PROGRESS: at 86.86% examples, 410132 words/s, in_qsize 15, out_qsize 4\n",
            "2021-01-09 08:09:19,894 : INFO : EPOCH 11 - PROGRESS: at 92.17% examples, 411379 words/s, in_qsize 15, out_qsize 0\n",
            "2021-01-09 08:09:21,025 : INFO : EPOCH 11 - PROGRESS: at 97.50% examples, 410349 words/s, in_qsize 15, out_qsize 4\n",
            "2021-01-09 08:09:21,284 : INFO : worker thread finished; awaiting finish of 7 more threads\n",
            "2021-01-09 08:09:21,301 : INFO : worker thread finished; awaiting finish of 6 more threads\n",
            "2021-01-09 08:09:21,303 : INFO : worker thread finished; awaiting finish of 5 more threads\n",
            "2021-01-09 08:09:21,348 : INFO : worker thread finished; awaiting finish of 4 more threads\n",
            "2021-01-09 08:09:21,351 : INFO : worker thread finished; awaiting finish of 3 more threads\n",
            "2021-01-09 08:09:21,373 : INFO : worker thread finished; awaiting finish of 2 more threads\n",
            "2021-01-09 08:09:21,383 : INFO : worker thread finished; awaiting finish of 1 more threads\n",
            "2021-01-09 08:09:21,386 : INFO : worker thread finished; awaiting finish of 0 more threads\n",
            "2021-01-09 08:09:21,387 : INFO : EPOCH - 11 : training on 9227204 raw words (8222892 effective words) took 19.9s, 412799 effective words/s\n",
            "2021-01-09 08:09:22,452 : INFO : EPOCH 12 - PROGRESS: at 4.67% examples, 364561 words/s, in_qsize 15, out_qsize 0\n",
            "2021-01-09 08:09:23,489 : INFO : EPOCH 12 - PROGRESS: at 9.88% examples, 388327 words/s, in_qsize 16, out_qsize 0\n",
            "2021-01-09 08:09:24,513 : INFO : EPOCH 12 - PROGRESS: at 14.86% examples, 392192 words/s, in_qsize 16, out_qsize 1\n",
            "2021-01-09 08:09:25,543 : INFO : EPOCH 12 - PROGRESS: at 20.38% examples, 404282 words/s, in_qsize 16, out_qsize 0\n",
            "2021-01-09 08:09:26,546 : INFO : EPOCH 12 - PROGRESS: at 25.37% examples, 405209 words/s, in_qsize 16, out_qsize 2\n",
            "2021-01-09 08:09:27,550 : INFO : EPOCH 12 - PROGRESS: at 30.24% examples, 404263 words/s, in_qsize 14, out_qsize 2\n",
            "2021-01-09 08:09:28,561 : INFO : EPOCH 12 - PROGRESS: at 35.21% examples, 404380 words/s, in_qsize 12, out_qsize 3\n",
            "2021-01-09 08:09:29,565 : INFO : EPOCH 12 - PROGRESS: at 40.29% examples, 405896 words/s, in_qsize 15, out_qsize 0\n",
            "2021-01-09 08:09:30,570 : INFO : EPOCH 12 - PROGRESS: at 45.70% examples, 409989 words/s, in_qsize 14, out_qsize 0\n",
            "2021-01-09 08:09:31,612 : INFO : EPOCH 12 - PROGRESS: at 50.57% examples, 407413 words/s, in_qsize 15, out_qsize 0\n",
            "2021-01-09 08:09:32,672 : INFO : EPOCH 12 - PROGRESS: at 55.97% examples, 408673 words/s, in_qsize 15, out_qsize 0\n",
            "2021-01-09 08:09:33,677 : INFO : EPOCH 12 - PROGRESS: at 60.96% examples, 408590 words/s, in_qsize 15, out_qsize 0\n",
            "2021-01-09 08:09:34,682 : INFO : EPOCH 12 - PROGRESS: at 66.37% examples, 411182 words/s, in_qsize 15, out_qsize 0\n",
            "2021-01-09 08:09:35,713 : INFO : EPOCH 12 - PROGRESS: at 70.91% examples, 407698 words/s, in_qsize 14, out_qsize 1\n",
            "2021-01-09 08:09:36,735 : INFO : EPOCH 12 - PROGRESS: at 76.00% examples, 407841 words/s, in_qsize 14, out_qsize 5\n",
            "2021-01-09 08:09:37,763 : INFO : EPOCH 12 - PROGRESS: at 81.34% examples, 408896 words/s, in_qsize 16, out_qsize 2\n",
            "2021-01-09 08:09:38,774 : INFO : EPOCH 12 - PROGRESS: at 86.64% examples, 410199 words/s, in_qsize 16, out_qsize 0\n",
            "2021-01-09 08:09:39,845 : INFO : EPOCH 12 - PROGRESS: at 91.96% examples, 410019 words/s, in_qsize 15, out_qsize 0\n",
            "2021-01-09 08:09:40,900 : INFO : EPOCH 12 - PROGRESS: at 97.18% examples, 409751 words/s, in_qsize 15, out_qsize 0\n",
            "2021-01-09 08:09:41,258 : INFO : worker thread finished; awaiting finish of 7 more threads\n",
            "2021-01-09 08:09:41,287 : INFO : worker thread finished; awaiting finish of 6 more threads\n",
            "2021-01-09 08:09:41,306 : INFO : worker thread finished; awaiting finish of 5 more threads\n",
            "2021-01-09 08:09:41,313 : INFO : worker thread finished; awaiting finish of 4 more threads\n",
            "2021-01-09 08:09:41,322 : INFO : worker thread finished; awaiting finish of 3 more threads\n",
            "2021-01-09 08:09:41,322 : INFO : worker thread finished; awaiting finish of 2 more threads\n",
            "2021-01-09 08:09:41,323 : INFO : worker thread finished; awaiting finish of 1 more threads\n",
            "2021-01-09 08:09:41,338 : INFO : worker thread finished; awaiting finish of 0 more threads\n",
            "2021-01-09 08:09:41,339 : INFO : EPOCH - 12 : training on 9227204 raw words (8222019 effective words) took 19.9s, 412389 effective words/s\n",
            "2021-01-09 08:09:42,372 : INFO : EPOCH 13 - PROGRESS: at 4.23% examples, 339979 words/s, in_qsize 11, out_qsize 4\n",
            "2021-01-09 08:09:43,419 : INFO : EPOCH 13 - PROGRESS: at 9.66% examples, 383326 words/s, in_qsize 15, out_qsize 0\n",
            "2021-01-09 08:09:44,458 : INFO : EPOCH 13 - PROGRESS: at 14.54% examples, 383961 words/s, in_qsize 15, out_qsize 4\n",
            "2021-01-09 08:09:45,508 : INFO : EPOCH 13 - PROGRESS: at 19.73% examples, 389792 words/s, in_qsize 16, out_qsize 4\n",
            "2021-01-09 08:09:46,539 : INFO : EPOCH 13 - PROGRESS: at 25.26% examples, 399950 words/s, in_qsize 15, out_qsize 0\n",
            "2021-01-09 08:09:47,541 : INFO : EPOCH 13 - PROGRESS: at 30.46% examples, 404342 words/s, in_qsize 15, out_qsize 0\n",
            "2021-01-09 08:09:48,603 : INFO : EPOCH 13 - PROGRESS: at 35.21% examples, 399164 words/s, in_qsize 13, out_qsize 2\n",
            "2021-01-09 08:09:49,607 : INFO : EPOCH 13 - PROGRESS: at 40.40% examples, 402454 words/s, in_qsize 15, out_qsize 0\n",
            "2021-01-09 08:09:50,640 : INFO : EPOCH 13 - PROGRESS: at 45.48% examples, 403505 words/s, in_qsize 15, out_qsize 0\n",
            "2021-01-09 08:09:51,697 : INFO : EPOCH 13 - PROGRESS: at 50.89% examples, 404640 words/s, in_qsize 15, out_qsize 0\n",
            "2021-01-09 08:09:52,729 : INFO : EPOCH 13 - PROGRESS: at 55.86% examples, 404002 words/s, in_qsize 15, out_qsize 0\n",
            "2021-01-09 08:09:53,732 : INFO : EPOCH 13 - PROGRESS: at 60.85% examples, 404382 words/s, in_qsize 15, out_qsize 0\n",
            "2021-01-09 08:09:54,756 : INFO : EPOCH 13 - PROGRESS: at 66.15% examples, 406021 words/s, in_qsize 16, out_qsize 0\n",
            "2021-01-09 08:09:55,824 : INFO : EPOCH 13 - PROGRESS: at 71.35% examples, 405592 words/s, in_qsize 15, out_qsize 0\n",
            "2021-01-09 08:09:56,825 : INFO : EPOCH 13 - PROGRESS: at 76.66% examples, 407562 words/s, in_qsize 12, out_qsize 0\n",
            "2021-01-09 08:09:57,881 : INFO : EPOCH 13 - PROGRESS: at 81.66% examples, 406314 words/s, in_qsize 15, out_qsize 0\n",
            "2021-01-09 08:09:58,881 : INFO : EPOCH 13 - PROGRESS: at 86.42% examples, 405472 words/s, in_qsize 15, out_qsize 2\n",
            "2021-01-09 08:09:59,926 : INFO : EPOCH 13 - PROGRESS: at 92.07% examples, 407587 words/s, in_qsize 15, out_qsize 0\n",
            "2021-01-09 08:10:01,027 : INFO : EPOCH 13 - PROGRESS: at 97.40% examples, 406961 words/s, in_qsize 15, out_qsize 0\n",
            "2021-01-09 08:10:01,362 : INFO : worker thread finished; awaiting finish of 7 more threads\n",
            "2021-01-09 08:10:01,371 : INFO : worker thread finished; awaiting finish of 6 more threads\n",
            "2021-01-09 08:10:01,384 : INFO : worker thread finished; awaiting finish of 5 more threads\n",
            "2021-01-09 08:10:01,398 : INFO : worker thread finished; awaiting finish of 4 more threads\n",
            "2021-01-09 08:10:01,404 : INFO : worker thread finished; awaiting finish of 3 more threads\n",
            "2021-01-09 08:10:01,416 : INFO : worker thread finished; awaiting finish of 2 more threads\n",
            "2021-01-09 08:10:01,424 : INFO : worker thread finished; awaiting finish of 1 more threads\n",
            "2021-01-09 08:10:01,426 : INFO : worker thread finished; awaiting finish of 0 more threads\n",
            "2021-01-09 08:10:01,427 : INFO : EPOCH - 13 : training on 9227204 raw words (8222258 effective words) took 20.1s, 409551 effective words/s\n",
            "2021-01-09 08:10:02,503 : INFO : EPOCH 14 - PROGRESS: at 4.78% examples, 369166 words/s, in_qsize 15, out_qsize 0\n",
            "2021-01-09 08:10:03,510 : INFO : EPOCH 14 - PROGRESS: at 9.88% examples, 392170 words/s, in_qsize 15, out_qsize 0\n",
            "2021-01-09 08:10:04,548 : INFO : EPOCH 14 - PROGRESS: at 15.19% examples, 401513 words/s, in_qsize 16, out_qsize 0\n",
            "2021-01-09 08:10:05,585 : INFO : EPOCH 14 - PROGRESS: at 20.16% examples, 399927 words/s, in_qsize 14, out_qsize 1\n",
            "2021-01-09 08:10:06,600 : INFO : EPOCH 14 - PROGRESS: at 25.37% examples, 404139 words/s, in_qsize 15, out_qsize 0\n",
            "2021-01-09 08:10:07,651 : INFO : EPOCH 14 - PROGRESS: at 30.67% examples, 406017 words/s, in_qsize 16, out_qsize 0\n",
            "2021-01-09 08:10:08,654 : INFO : EPOCH 14 - PROGRESS: at 35.86% examples, 408858 words/s, in_qsize 15, out_qsize 0\n",
            "2021-01-09 08:10:09,758 : INFO : EPOCH 14 - PROGRESS: at 41.26% examples, 408092 words/s, in_qsize 15, out_qsize 0\n",
            "2021-01-09 08:10:10,767 : INFO : EPOCH 14 - PROGRESS: at 46.46% examples, 409778 words/s, in_qsize 16, out_qsize 0\n",
            "2021-01-09 08:10:11,806 : INFO : EPOCH 14 - PROGRESS: at 51.32% examples, 407411 words/s, in_qsize 12, out_qsize 5\n",
            "2021-01-09 08:10:12,836 : INFO : EPOCH 14 - PROGRESS: at 56.62% examples, 408914 words/s, in_qsize 14, out_qsize 1\n",
            "2021-01-09 08:10:13,884 : INFO : EPOCH 14 - PROGRESS: at 61.93% examples, 409592 words/s, in_qsize 15, out_qsize 0\n",
            "2021-01-09 08:10:14,933 : INFO : EPOCH 14 - PROGRESS: at 67.02% examples, 408744 words/s, in_qsize 15, out_qsize 1\n",
            "2021-01-09 08:10:15,964 : INFO : EPOCH 14 - PROGRESS: at 72.43% examples, 410381 words/s, in_qsize 16, out_qsize 0\n",
            "2021-01-09 08:10:17,056 : INFO : EPOCH 14 - PROGRESS: at 77.74% examples, 409636 words/s, in_qsize 15, out_qsize 0\n",
            "2021-01-09 08:10:18,116 : INFO : EPOCH 14 - PROGRESS: at 83.07% examples, 409775 words/s, in_qsize 15, out_qsize 0\n",
            "2021-01-09 08:10:19,126 : INFO : EPOCH 14 - PROGRESS: at 88.37% examples, 411040 words/s, in_qsize 15, out_qsize 0\n",
            "2021-01-09 08:10:20,162 : INFO : EPOCH 14 - PROGRESS: at 93.26% examples, 409995 words/s, in_qsize 15, out_qsize 1\n",
            "2021-01-09 08:10:21,194 : INFO : EPOCH 14 - PROGRESS: at 98.58% examples, 410377 words/s, in_qsize 13, out_qsize 1\n",
            "2021-01-09 08:10:21,290 : INFO : worker thread finished; awaiting finish of 7 more threads\n",
            "2021-01-09 08:10:21,307 : INFO : worker thread finished; awaiting finish of 6 more threads\n",
            "2021-01-09 08:10:21,337 : INFO : worker thread finished; awaiting finish of 5 more threads\n",
            "2021-01-09 08:10:21,339 : INFO : worker thread finished; awaiting finish of 4 more threads\n",
            "2021-01-09 08:10:21,343 : INFO : worker thread finished; awaiting finish of 3 more threads\n",
            "2021-01-09 08:10:21,373 : INFO : worker thread finished; awaiting finish of 2 more threads\n",
            "2021-01-09 08:10:21,388 : INFO : worker thread finished; awaiting finish of 1 more threads\n",
            "2021-01-09 08:10:21,389 : INFO : worker thread finished; awaiting finish of 0 more threads\n",
            "2021-01-09 08:10:21,389 : INFO : EPOCH - 14 : training on 9227204 raw words (8222450 effective words) took 19.9s, 412206 effective words/s\n",
            "2021-01-09 08:10:22,420 : INFO : EPOCH 15 - PROGRESS: at 4.89% examples, 395459 words/s, in_qsize 15, out_qsize 0\n",
            "2021-01-09 08:10:23,435 : INFO : EPOCH 15 - PROGRESS: at 9.77% examples, 395519 words/s, in_qsize 15, out_qsize 1\n",
            "2021-01-09 08:10:24,449 : INFO : EPOCH 15 - PROGRESS: at 14.97% examples, 404269 words/s, in_qsize 16, out_qsize 0\n",
            "2021-01-09 08:10:25,493 : INFO : EPOCH 15 - PROGRESS: at 19.94% examples, 401174 words/s, in_qsize 14, out_qsize 1\n",
            "2021-01-09 08:10:26,501 : INFO : EPOCH 15 - PROGRESS: at 25.26% examples, 407549 words/s, in_qsize 15, out_qsize 0\n",
            "2021-01-09 08:10:27,506 : INFO : EPOCH 15 - PROGRESS: at 30.24% examples, 407614 words/s, in_qsize 15, out_qsize 0\n",
            "2021-01-09 08:10:28,557 : INFO : EPOCH 15 - PROGRESS: at 35.43% examples, 408409 words/s, in_qsize 15, out_qsize 3\n",
            "2021-01-09 08:10:29,615 : INFO : EPOCH 15 - PROGRESS: at 40.83% examples, 409253 words/s, in_qsize 14, out_qsize 1\n",
            "2021-01-09 08:10:30,703 : INFO : EPOCH 15 - PROGRESS: at 46.24% examples, 409285 words/s, in_qsize 12, out_qsize 3\n",
            "2021-01-09 08:10:31,716 : INFO : EPOCH 15 - PROGRESS: at 51.54% examples, 411426 words/s, in_qsize 12, out_qsize 3\n",
            "2021-01-09 08:10:32,744 : INFO : EPOCH 15 - PROGRESS: at 56.62% examples, 411099 words/s, in_qsize 13, out_qsize 2\n",
            "2021-01-09 08:10:33,746 : INFO : EPOCH 15 - PROGRESS: at 62.03% examples, 413801 words/s, in_qsize 15, out_qsize 0\n",
            "2021-01-09 08:10:34,807 : INFO : EPOCH 15 - PROGRESS: at 66.91% examples, 410940 words/s, in_qsize 12, out_qsize 3\n",
            "2021-01-09 08:10:35,827 : INFO : EPOCH 15 - PROGRESS: at 72.21% examples, 412163 words/s, in_qsize 12, out_qsize 3\n",
            "2021-01-09 08:10:36,859 : INFO : EPOCH 15 - PROGRESS: at 77.31% examples, 411742 words/s, in_qsize 12, out_qsize 3\n",
            "2021-01-09 08:10:37,893 : INFO : EPOCH 15 - PROGRESS: at 82.75% examples, 412945 words/s, in_qsize 15, out_qsize 0\n",
            "2021-01-09 08:10:38,912 : INFO : EPOCH 15 - PROGRESS: at 87.73% examples, 412718 words/s, in_qsize 16, out_qsize 6\n",
            "2021-01-09 08:10:39,900 : INFO : EPOCH 15 - PROGRESS: at 92.72% examples, 412417 words/s, in_qsize 15, out_qsize 0\n",
            "2021-01-09 08:10:40,983 : INFO : EPOCH 15 - PROGRESS: at 98.58% examples, 414168 words/s, in_qsize 12, out_qsize 2\n",
            "2021-01-09 08:10:41,098 : INFO : worker thread finished; awaiting finish of 7 more threads\n",
            "2021-01-09 08:10:41,111 : INFO : worker thread finished; awaiting finish of 6 more threads\n",
            "2021-01-09 08:10:41,113 : INFO : worker thread finished; awaiting finish of 5 more threads\n",
            "2021-01-09 08:10:41,125 : INFO : worker thread finished; awaiting finish of 4 more threads\n",
            "2021-01-09 08:10:41,152 : INFO : worker thread finished; awaiting finish of 3 more threads\n",
            "2021-01-09 08:10:41,154 : INFO : worker thread finished; awaiting finish of 2 more threads\n",
            "2021-01-09 08:10:41,175 : INFO : worker thread finished; awaiting finish of 1 more threads\n",
            "2021-01-09 08:10:41,189 : INFO : worker thread finished; awaiting finish of 0 more threads\n",
            "2021-01-09 08:10:41,189 : INFO : EPOCH - 15 : training on 9227204 raw words (8224418 effective words) took 19.8s, 415749 effective words/s\n",
            "2021-01-09 08:10:42,217 : INFO : EPOCH 16 - PROGRESS: at 4.34% examples, 351362 words/s, in_qsize 13, out_qsize 2\n",
            "2021-01-09 08:10:43,307 : INFO : EPOCH 16 - PROGRESS: at 10.21% examples, 398106 words/s, in_qsize 15, out_qsize 0\n",
            "2021-01-09 08:10:44,315 : INFO : EPOCH 16 - PROGRESS: at 15.41% examples, 406456 words/s, in_qsize 16, out_qsize 1\n",
            "2021-01-09 08:10:45,343 : INFO : EPOCH 16 - PROGRESS: at 20.27% examples, 402378 words/s, in_qsize 10, out_qsize 5\n",
            "2021-01-09 08:10:46,343 : INFO : EPOCH 16 - PROGRESS: at 25.48% examples, 407342 words/s, in_qsize 16, out_qsize 1\n",
            "2021-01-09 08:10:47,367 : INFO : EPOCH 16 - PROGRESS: at 30.67% examples, 410494 words/s, in_qsize 15, out_qsize 0\n",
            "2021-01-09 08:10:48,365 : INFO : EPOCH 16 - PROGRESS: at 35.53% examples, 407971 words/s, in_qsize 14, out_qsize 7\n",
            "2021-01-09 08:10:49,390 : INFO : EPOCH 16 - PROGRESS: at 41.05% examples, 412380 words/s, in_qsize 15, out_qsize 0\n",
            "2021-01-09 08:10:50,430 : INFO : EPOCH 16 - PROGRESS: at 46.13% examples, 411237 words/s, in_qsize 15, out_qsize 0\n",
            "2021-01-09 08:10:51,432 : INFO : EPOCH 16 - PROGRESS: at 51.43% examples, 413654 words/s, in_qsize 15, out_qsize 0\n",
            "2021-01-09 08:10:52,453 : INFO : EPOCH 16 - PROGRESS: at 56.29% examples, 411771 words/s, in_qsize 11, out_qsize 4\n",
            "2021-01-09 08:10:53,483 : INFO : EPOCH 16 - PROGRESS: at 61.60% examples, 412818 words/s, in_qsize 13, out_qsize 2\n",
            "2021-01-09 08:10:54,501 : INFO : EPOCH 16 - PROGRESS: at 66.58% examples, 412405 words/s, in_qsize 13, out_qsize 7\n",
            "2021-01-09 08:10:55,511 : INFO : EPOCH 16 - PROGRESS: at 72.10% examples, 414698 words/s, in_qsize 16, out_qsize 0\n",
            "2021-01-09 08:10:56,541 : INFO : EPOCH 16 - PROGRESS: at 77.20% examples, 414110 words/s, in_qsize 15, out_qsize 0\n",
            "2021-01-09 08:10:57,542 : INFO : EPOCH 16 - PROGRESS: at 82.42% examples, 414910 words/s, in_qsize 15, out_qsize 0\n",
            "2021-01-09 08:10:58,562 : INFO : EPOCH 16 - PROGRESS: at 87.29% examples, 413936 words/s, in_qsize 15, out_qsize 3\n",
            "2021-01-09 08:10:59,602 : INFO : EPOCH 16 - PROGRESS: at 92.50% examples, 413422 words/s, in_qsize 14, out_qsize 1\n",
            "2021-01-09 08:11:00,639 : INFO : EPOCH 16 - PROGRESS: at 97.61% examples, 412885 words/s, in_qsize 15, out_qsize 3\n",
            "2021-01-09 08:11:00,850 : INFO : worker thread finished; awaiting finish of 7 more threads\n",
            "2021-01-09 08:11:00,886 : INFO : worker thread finished; awaiting finish of 6 more threads\n",
            "2021-01-09 08:11:00,902 : INFO : worker thread finished; awaiting finish of 5 more threads\n",
            "2021-01-09 08:11:00,934 : INFO : worker thread finished; awaiting finish of 4 more threads\n",
            "2021-01-09 08:11:00,954 : INFO : worker thread finished; awaiting finish of 3 more threads\n",
            "2021-01-09 08:11:00,975 : INFO : worker thread finished; awaiting finish of 2 more threads\n",
            "2021-01-09 08:11:00,978 : INFO : worker thread finished; awaiting finish of 1 more threads\n",
            "2021-01-09 08:11:00,979 : INFO : worker thread finished; awaiting finish of 0 more threads\n",
            "2021-01-09 08:11:00,980 : INFO : EPOCH - 16 : training on 9227204 raw words (8222025 effective words) took 19.8s, 415726 effective words/s\n",
            "2021-01-09 08:11:02,004 : INFO : EPOCH 17 - PROGRESS: at 4.67% examples, 380394 words/s, in_qsize 16, out_qsize 2\n",
            "2021-01-09 08:11:03,041 : INFO : EPOCH 17 - PROGRESS: at 9.55% examples, 386262 words/s, in_qsize 15, out_qsize 3\n",
            "2021-01-09 08:11:04,034 : INFO : EPOCH 17 - PROGRESS: at 14.54% examples, 392992 words/s, in_qsize 13, out_qsize 2\n",
            "2021-01-09 08:11:05,086 : INFO : EPOCH 17 - PROGRESS: at 19.94% examples, 400787 words/s, in_qsize 16, out_qsize 1\n",
            "2021-01-09 08:11:06,137 : INFO : EPOCH 17 - PROGRESS: at 25.37% examples, 405490 words/s, in_qsize 15, out_qsize 0\n",
            "2021-01-09 08:11:07,149 : INFO : EPOCH 17 - PROGRESS: at 30.13% examples, 402511 words/s, in_qsize 15, out_qsize 0\n",
            "2021-01-09 08:11:08,197 : INFO : EPOCH 17 - PROGRESS: at 35.64% examples, 407023 words/s, in_qsize 15, out_qsize 0\n",
            "2021-01-09 08:11:09,275 : INFO : EPOCH 17 - PROGRESS: at 40.94% examples, 407604 words/s, in_qsize 15, out_qsize 0\n",
            "2021-01-09 08:11:10,288 : INFO : EPOCH 17 - PROGRESS: at 45.92% examples, 406463 words/s, in_qsize 15, out_qsize 1\n",
            "2021-01-09 08:11:11,307 : INFO : EPOCH 17 - PROGRESS: at 50.99% examples, 406923 words/s, in_qsize 16, out_qsize 1\n",
            "2021-01-09 08:11:12,359 : INFO : EPOCH 17 - PROGRESS: at 56.29% examples, 407692 words/s, in_qsize 15, out_qsize 0\n",
            "2021-01-09 08:11:13,375 : INFO : EPOCH 17 - PROGRESS: at 61.28% examples, 407328 words/s, in_qsize 10, out_qsize 5\n",
            "2021-01-09 08:11:14,393 : INFO : EPOCH 17 - PROGRESS: at 66.58% examples, 408956 words/s, in_qsize 14, out_qsize 1\n",
            "2021-01-09 08:11:15,440 : INFO : EPOCH 17 - PROGRESS: at 71.78% examples, 408943 words/s, in_qsize 15, out_qsize 0\n",
            "2021-01-09 08:11:16,446 : INFO : EPOCH 17 - PROGRESS: at 77.09% examples, 410563 words/s, in_qsize 15, out_qsize 0\n",
            "2021-01-09 08:11:17,475 : INFO : EPOCH 17 - PROGRESS: at 81.88% examples, 408718 words/s, in_qsize 15, out_qsize 0\n",
            "2021-01-09 08:11:18,512 : INFO : EPOCH 17 - PROGRESS: at 86.96% examples, 408416 words/s, in_qsize 15, out_qsize 0\n",
            "2021-01-09 08:11:19,531 : INFO : EPOCH 17 - PROGRESS: at 92.28% examples, 409486 words/s, in_qsize 14, out_qsize 1\n",
            "2021-01-09 08:11:20,650 : INFO : EPOCH 17 - PROGRESS: at 97.71% examples, 408836 words/s, in_qsize 16, out_qsize 0\n",
            "2021-01-09 08:11:20,850 : INFO : worker thread finished; awaiting finish of 7 more threads\n",
            "2021-01-09 08:11:20,857 : INFO : worker thread finished; awaiting finish of 6 more threads\n",
            "2021-01-09 08:11:20,894 : INFO : worker thread finished; awaiting finish of 5 more threads\n",
            "2021-01-09 08:11:20,930 : INFO : worker thread finished; awaiting finish of 4 more threads\n",
            "2021-01-09 08:11:20,954 : INFO : worker thread finished; awaiting finish of 3 more threads\n",
            "2021-01-09 08:11:20,968 : INFO : worker thread finished; awaiting finish of 2 more threads\n",
            "2021-01-09 08:11:20,976 : INFO : worker thread finished; awaiting finish of 1 more threads\n",
            "2021-01-09 08:11:20,977 : INFO : worker thread finished; awaiting finish of 0 more threads\n",
            "2021-01-09 08:11:20,978 : INFO : EPOCH - 17 : training on 9227204 raw words (8222622 effective words) took 20.0s, 411535 effective words/s\n",
            "2021-01-09 08:11:22,016 : INFO : EPOCH 18 - PROGRESS: at 4.45% examples, 357400 words/s, in_qsize 16, out_qsize 1\n",
            "2021-01-09 08:11:23,019 : INFO : EPOCH 18 - PROGRESS: at 9.55% examples, 387259 words/s, in_qsize 15, out_qsize 0\n",
            "2021-01-09 08:11:24,038 : INFO : EPOCH 18 - PROGRESS: at 14.76% examples, 397924 words/s, in_qsize 13, out_qsize 2\n",
            "2021-01-09 08:11:25,138 : INFO : EPOCH 18 - PROGRESS: at 20.27% examples, 401980 words/s, in_qsize 16, out_qsize 0\n",
            "2021-01-09 08:11:26,153 : INFO : EPOCH 18 - PROGRESS: at 25.91% examples, 412728 words/s, in_qsize 15, out_qsize 0\n",
            "2021-01-09 08:11:27,182 : INFO : EPOCH 18 - PROGRESS: at 30.67% examples, 407398 words/s, in_qsize 15, out_qsize 0\n",
            "2021-01-09 08:11:28,209 : INFO : EPOCH 18 - PROGRESS: at 35.75% examples, 407442 words/s, in_qsize 16, out_qsize 0\n",
            "2021-01-09 08:11:29,228 : INFO : EPOCH 18 - PROGRESS: at 40.94% examples, 408967 words/s, in_qsize 16, out_qsize 0\n",
            "2021-01-09 08:11:30,243 : INFO : EPOCH 18 - PROGRESS: at 45.81% examples, 407413 words/s, in_qsize 13, out_qsize 2\n",
            "2021-01-09 08:11:31,255 : INFO : EPOCH 18 - PROGRESS: at 50.88% examples, 408093 words/s, in_qsize 11, out_qsize 3\n",
            "2021-01-09 08:11:32,258 : INFO : EPOCH 18 - PROGRESS: at 56.08% examples, 409729 words/s, in_qsize 15, out_qsize 0\n",
            "2021-01-09 08:11:33,286 : INFO : EPOCH 18 - PROGRESS: at 61.17% examples, 409544 words/s, in_qsize 15, out_qsize 0\n",
            "2021-01-09 08:11:34,305 : INFO : EPOCH 18 - PROGRESS: at 66.69% examples, 412320 words/s, in_qsize 15, out_qsize 0\n",
            "2021-01-09 08:11:35,337 : INFO : EPOCH 18 - PROGRESS: at 71.67% examples, 411218 words/s, in_qsize 15, out_qsize 0\n",
            "2021-01-09 08:11:36,359 : INFO : EPOCH 18 - PROGRESS: at 76.66% examples, 410804 words/s, in_qsize 16, out_qsize 2\n",
            "2021-01-09 08:11:37,367 : INFO : EPOCH 18 - PROGRESS: at 81.88% examples, 411366 words/s, in_qsize 14, out_qsize 4\n",
            "2021-01-09 08:11:38,380 : INFO : EPOCH 18 - PROGRESS: at 87.18% examples, 412498 words/s, in_qsize 15, out_qsize 0\n",
            "2021-01-09 08:11:39,395 : INFO : EPOCH 18 - PROGRESS: at 92.50% examples, 413427 words/s, in_qsize 16, out_qsize 0\n",
            "2021-01-09 08:11:40,442 : INFO : EPOCH 18 - PROGRESS: at 97.71% examples, 413147 words/s, in_qsize 16, out_qsize 0\n",
            "2021-01-09 08:11:40,696 : INFO : worker thread finished; awaiting finish of 7 more threads\n",
            "2021-01-09 08:11:40,699 : INFO : worker thread finished; awaiting finish of 6 more threads\n",
            "2021-01-09 08:11:40,717 : INFO : worker thread finished; awaiting finish of 5 more threads\n",
            "2021-01-09 08:11:40,760 : INFO : worker thread finished; awaiting finish of 4 more threads\n",
            "2021-01-09 08:11:40,771 : INFO : worker thread finished; awaiting finish of 3 more threads\n",
            "2021-01-09 08:11:40,773 : INFO : worker thread finished; awaiting finish of 2 more threads\n",
            "2021-01-09 08:11:40,784 : INFO : worker thread finished; awaiting finish of 1 more threads\n",
            "2021-01-09 08:11:40,792 : INFO : worker thread finished; awaiting finish of 0 more threads\n",
            "2021-01-09 08:11:40,792 : INFO : EPOCH - 18 : training on 9227204 raw words (8223092 effective words) took 19.8s, 415334 effective words/s\n",
            "2021-01-09 08:11:41,806 : INFO : EPOCH 19 - PROGRESS: at 4.45% examples, 365157 words/s, in_qsize 14, out_qsize 1\n",
            "2021-01-09 08:11:42,903 : INFO : EPOCH 19 - PROGRESS: at 9.99% examples, 390936 words/s, in_qsize 15, out_qsize 0\n",
            "2021-01-09 08:11:43,961 : INFO : EPOCH 19 - PROGRESS: at 15.30% examples, 398080 words/s, in_qsize 15, out_qsize 0\n",
            "2021-01-09 08:11:44,981 : INFO : EPOCH 19 - PROGRESS: at 20.48% examples, 403273 words/s, in_qsize 15, out_qsize 0\n",
            "2021-01-09 08:11:46,024 : INFO : EPOCH 19 - PROGRESS: at 25.80% examples, 407668 words/s, in_qsize 15, out_qsize 0\n",
            "2021-01-09 08:11:47,028 : INFO : EPOCH 19 - PROGRESS: at 30.67% examples, 405241 words/s, in_qsize 15, out_qsize 0\n",
            "2021-01-09 08:11:48,040 : INFO : EPOCH 19 - PROGRESS: at 35.64% examples, 405134 words/s, in_qsize 15, out_qsize 0\n",
            "2021-01-09 08:11:49,084 : INFO : EPOCH 19 - PROGRESS: at 40.94% examples, 406781 words/s, in_qsize 15, out_qsize 0\n",
            "2021-01-09 08:11:50,103 : INFO : EPOCH 19 - PROGRESS: at 46.13% examples, 408156 words/s, in_qsize 16, out_qsize 0\n",
            "2021-01-09 08:11:51,117 : INFO : EPOCH 19 - PROGRESS: at 51.21% examples, 408641 words/s, in_qsize 15, out_qsize 2\n",
            "2021-01-09 08:11:52,129 : INFO : EPOCH 19 - PROGRESS: at 56.18% examples, 408336 words/s, in_qsize 16, out_qsize 0\n",
            "2021-01-09 08:11:53,169 : INFO : EPOCH 19 - PROGRESS: at 61.07% examples, 407028 words/s, in_qsize 15, out_qsize 4\n",
            "2021-01-09 08:11:54,184 : INFO : EPOCH 19 - PROGRESS: at 66.26% examples, 408357 words/s, in_qsize 13, out_qsize 5\n",
            "2021-01-09 08:11:55,163 : INFO : EPOCH 19 - PROGRESS: at 71.24% examples, 408263 words/s, in_qsize 15, out_qsize 0\n",
            "2021-01-09 08:11:56,192 : INFO : EPOCH 19 - PROGRESS: at 76.33% examples, 408448 words/s, in_qsize 15, out_qsize 4\n",
            "2021-01-09 08:11:57,188 : INFO : EPOCH 19 - PROGRESS: at 81.99% examples, 411646 words/s, in_qsize 16, out_qsize 0\n",
            "2021-01-09 08:11:58,192 : INFO : EPOCH 19 - PROGRESS: at 86.53% examples, 409380 words/s, in_qsize 15, out_qsize 0\n",
            "2021-01-09 08:11:59,192 : INFO : EPOCH 19 - PROGRESS: at 91.96% examples, 411310 words/s, in_qsize 15, out_qsize 0\n",
            "2021-01-09 08:12:00,239 : INFO : EPOCH 19 - PROGRESS: at 97.18% examples, 411121 words/s, in_qsize 15, out_qsize 0\n",
            "2021-01-09 08:12:00,605 : INFO : worker thread finished; awaiting finish of 7 more threads\n",
            "2021-01-09 08:12:00,643 : INFO : worker thread finished; awaiting finish of 6 more threads\n",
            "2021-01-09 08:12:00,674 : INFO : worker thread finished; awaiting finish of 5 more threads\n",
            "2021-01-09 08:12:00,694 : INFO : worker thread finished; awaiting finish of 4 more threads\n",
            "2021-01-09 08:12:00,704 : INFO : worker thread finished; awaiting finish of 3 more threads\n",
            "2021-01-09 08:12:00,714 : INFO : worker thread finished; awaiting finish of 2 more threads\n",
            "2021-01-09 08:12:00,717 : INFO : worker thread finished; awaiting finish of 1 more threads\n",
            "2021-01-09 08:12:00,721 : INFO : worker thread finished; awaiting finish of 0 more threads\n",
            "2021-01-09 08:12:00,722 : INFO : EPOCH - 19 : training on 9227204 raw words (8222457 effective words) took 19.9s, 412848 effective words/s\n",
            "2021-01-09 08:12:01,748 : INFO : EPOCH 20 - PROGRESS: at 4.56% examples, 369997 words/s, in_qsize 16, out_qsize 0\n",
            "2021-01-09 08:12:02,838 : INFO : EPOCH 20 - PROGRESS: at 9.77% examples, 381815 words/s, in_qsize 16, out_qsize 0\n",
            "2021-01-09 08:12:03,871 : INFO : EPOCH 20 - PROGRESS: at 15.08% examples, 395178 words/s, in_qsize 13, out_qsize 2\n",
            "2021-01-09 08:12:04,917 : INFO : EPOCH 20 - PROGRESS: at 20.70% examples, 407015 words/s, in_qsize 15, out_qsize 0\n",
            "2021-01-09 08:12:05,942 : INFO : EPOCH 20 - PROGRESS: at 25.37% examples, 402015 words/s, in_qsize 15, out_qsize 4\n",
            "2021-01-09 08:12:06,996 : INFO : EPOCH 20 - PROGRESS: at 30.67% examples, 402767 words/s, in_qsize 13, out_qsize 2\n",
            "2021-01-09 08:12:08,012 : INFO : EPOCH 20 - PROGRESS: at 35.97% examples, 406503 words/s, in_qsize 14, out_qsize 1\n",
            "2021-01-09 08:12:09,035 : INFO : EPOCH 20 - PROGRESS: at 41.05% examples, 406802 words/s, in_qsize 15, out_qsize 0\n",
            "2021-01-09 08:12:10,070 : INFO : EPOCH 20 - PROGRESS: at 46.35% examples, 408467 words/s, in_qsize 15, out_qsize 0\n",
            "2021-01-09 08:12:11,074 : INFO : EPOCH 20 - PROGRESS: at 51.53% examples, 410187 words/s, in_qsize 15, out_qsize 0\n",
            "2021-01-09 08:12:12,118 : INFO : EPOCH 20 - PROGRESS: at 56.62% examples, 410046 words/s, in_qsize 15, out_qsize 4\n",
            "2021-01-09 08:12:13,112 : INFO : EPOCH 20 - PROGRESS: at 61.93% examples, 411774 words/s, in_qsize 15, out_qsize 0\n",
            "2021-01-09 08:12:14,134 : INFO : EPOCH 20 - PROGRESS: at 66.80% examples, 410265 words/s, in_qsize 14, out_qsize 1\n",
            "2021-01-09 08:12:15,194 : INFO : EPOCH 20 - PROGRESS: at 71.89% examples, 409150 words/s, in_qsize 15, out_qsize 0\n",
            "2021-01-09 08:12:16,214 : INFO : EPOCH 20 - PROGRESS: at 76.88% examples, 408624 words/s, in_qsize 13, out_qsize 2\n",
            "2021-01-09 08:12:17,222 : INFO : EPOCH 20 - PROGRESS: at 82.10% examples, 409591 words/s, in_qsize 16, out_qsize 0\n",
            "2021-01-09 08:12:18,271 : INFO : EPOCH 20 - PROGRESS: at 86.96% examples, 407932 words/s, in_qsize 15, out_qsize 0\n",
            "2021-01-09 08:12:19,306 : INFO : EPOCH 20 - PROGRESS: at 91.85% examples, 406751 words/s, in_qsize 16, out_qsize 5\n",
            "2021-01-09 08:12:20,370 : INFO : EPOCH 20 - PROGRESS: at 97.29% examples, 407393 words/s, in_qsize 16, out_qsize 3\n",
            "2021-01-09 08:12:20,688 : INFO : worker thread finished; awaiting finish of 7 more threads\n",
            "2021-01-09 08:12:20,708 : INFO : worker thread finished; awaiting finish of 6 more threads\n",
            "2021-01-09 08:12:20,730 : INFO : worker thread finished; awaiting finish of 5 more threads\n",
            "2021-01-09 08:12:20,737 : INFO : worker thread finished; awaiting finish of 4 more threads\n",
            "2021-01-09 08:12:20,739 : INFO : worker thread finished; awaiting finish of 3 more threads\n",
            "2021-01-09 08:12:20,741 : INFO : worker thread finished; awaiting finish of 2 more threads\n",
            "2021-01-09 08:12:20,780 : INFO : worker thread finished; awaiting finish of 1 more threads\n",
            "2021-01-09 08:12:20,786 : INFO : worker thread finished; awaiting finish of 0 more threads\n",
            "2021-01-09 08:12:20,787 : INFO : EPOCH - 20 : training on 9227204 raw words (8221895 effective words) took 20.0s, 410086 effective words/s\n",
            "2021-01-09 08:12:21,856 : INFO : EPOCH 21 - PROGRESS: at 4.78% examples, 374257 words/s, in_qsize 15, out_qsize 0\n",
            "2021-01-09 08:12:22,864 : INFO : EPOCH 21 - PROGRESS: at 9.77% examples, 390279 words/s, in_qsize 15, out_qsize 0\n",
            "2021-01-09 08:12:23,894 : INFO : EPOCH 21 - PROGRESS: at 14.54% examples, 387017 words/s, in_qsize 13, out_qsize 3\n",
            "2021-01-09 08:12:24,903 : INFO : EPOCH 21 - PROGRESS: at 19.94% examples, 400347 words/s, in_qsize 15, out_qsize 0\n",
            "2021-01-09 08:12:25,930 : INFO : EPOCH 21 - PROGRESS: at 25.15% examples, 404531 words/s, in_qsize 15, out_qsize 0\n",
            "2021-01-09 08:12:26,962 : INFO : EPOCH 21 - PROGRESS: at 30.35% examples, 405451 words/s, in_qsize 13, out_qsize 2\n",
            "2021-01-09 08:12:27,965 : INFO : EPOCH 21 - PROGRESS: at 35.32% examples, 405927 words/s, in_qsize 15, out_qsize 0\n",
            "2021-01-09 08:12:29,027 : INFO : EPOCH 21 - PROGRESS: at 40.62% examples, 406603 words/s, in_qsize 14, out_qsize 2\n",
            "2021-01-09 08:12:30,034 : INFO : EPOCH 21 - PROGRESS: at 46.13% examples, 411391 words/s, in_qsize 16, out_qsize 0\n",
            "2021-01-09 08:12:31,037 : INFO : EPOCH 21 - PROGRESS: at 50.99% examples, 410276 words/s, in_qsize 15, out_qsize 0\n",
            "2021-01-09 08:12:32,046 : INFO : EPOCH 21 - PROGRESS: at 56.08% examples, 410743 words/s, in_qsize 15, out_qsize 0\n",
            "2021-01-09 08:12:33,059 : INFO : EPOCH 21 - PROGRESS: at 61.07% examples, 410217 words/s, in_qsize 16, out_qsize 1\n",
            "2021-01-09 08:12:34,061 : INFO : EPOCH 21 - PROGRESS: at 66.15% examples, 410796 words/s, in_qsize 13, out_qsize 2\n",
            "2021-01-09 08:12:35,087 : INFO : EPOCH 21 - PROGRESS: at 70.91% examples, 409343 words/s, in_qsize 15, out_qsize 2\n",
            "2021-01-09 08:12:36,071 : INFO : EPOCH 21 - PROGRESS: at 76.44% examples, 412095 words/s, in_qsize 15, out_qsize 0\n",
            "2021-01-09 08:12:37,095 : INFO : EPOCH 21 - PROGRESS: at 81.34% examples, 410820 words/s, in_qsize 15, out_qsize 0\n",
            "2021-01-09 08:12:38,105 : INFO : EPOCH 21 - PROGRESS: at 86.21% examples, 409987 words/s, in_qsize 16, out_qsize 2\n",
            "2021-01-09 08:12:39,140 : INFO : EPOCH 21 - PROGRESS: at 91.74% examples, 411590 words/s, in_qsize 15, out_qsize 0\n",
            "2021-01-09 08:12:40,181 : INFO : EPOCH 21 - PROGRESS: at 97.07% examples, 411988 words/s, in_qsize 15, out_qsize 0\n",
            "2021-01-09 08:12:40,618 : INFO : worker thread finished; awaiting finish of 7 more threads\n",
            "2021-01-09 08:12:40,638 : INFO : worker thread finished; awaiting finish of 6 more threads\n",
            "2021-01-09 08:12:40,649 : INFO : worker thread finished; awaiting finish of 5 more threads\n",
            "2021-01-09 08:12:40,666 : INFO : worker thread finished; awaiting finish of 4 more threads\n",
            "2021-01-09 08:12:40,682 : INFO : worker thread finished; awaiting finish of 3 more threads\n",
            "2021-01-09 08:12:40,695 : INFO : worker thread finished; awaiting finish of 2 more threads\n",
            "2021-01-09 08:12:40,697 : INFO : worker thread finished; awaiting finish of 1 more threads\n",
            "2021-01-09 08:12:40,698 : INFO : worker thread finished; awaiting finish of 0 more threads\n",
            "2021-01-09 08:12:40,699 : INFO : EPOCH - 21 : training on 9227204 raw words (8222705 effective words) took 19.9s, 413405 effective words/s\n",
            "2021-01-09 08:12:41,754 : INFO : EPOCH 22 - PROGRESS: at 4.78% examples, 377784 words/s, in_qsize 15, out_qsize 0\n",
            "2021-01-09 08:12:42,764 : INFO : EPOCH 22 - PROGRESS: at 9.77% examples, 391845 words/s, in_qsize 15, out_qsize 0\n",
            "2021-01-09 08:12:43,796 : INFO : EPOCH 22 - PROGRESS: at 15.08% examples, 402233 words/s, in_qsize 15, out_qsize 0\n",
            "2021-01-09 08:12:44,811 : INFO : EPOCH 22 - PROGRESS: at 20.48% examples, 411257 words/s, in_qsize 16, out_qsize 0\n",
            "2021-01-09 08:12:45,834 : INFO : EPOCH 22 - PROGRESS: at 25.48% examples, 409204 words/s, in_qsize 15, out_qsize 0\n",
            "2021-01-09 08:12:46,896 : INFO : EPOCH 22 - PROGRESS: at 30.78% examples, 409591 words/s, in_qsize 16, out_qsize 1\n",
            "2021-01-09 08:12:47,969 : INFO : EPOCH 22 - PROGRESS: at 36.19% examples, 410358 words/s, in_qsize 15, out_qsize 0\n",
            "2021-01-09 08:12:49,094 : INFO : EPOCH 22 - PROGRESS: at 41.59% examples, 408428 words/s, in_qsize 9, out_qsize 6\n",
            "2021-01-09 08:12:50,116 : INFO : EPOCH 22 - PROGRESS: at 46.89% examples, 410480 words/s, in_qsize 15, out_qsize 0\n",
            "2021-01-09 08:12:51,167 : INFO : EPOCH 22 - PROGRESS: at 52.51% examples, 413553 words/s, in_qsize 15, out_qsize 0\n",
            "2021-01-09 08:12:52,178 : INFO : EPOCH 22 - PROGRESS: at 57.60% examples, 413610 words/s, in_qsize 15, out_qsize 0\n",
            "2021-01-09 08:12:53,244 : INFO : EPOCH 22 - PROGRESS: at 62.68% examples, 411824 words/s, in_qsize 15, out_qsize 0\n",
            "2021-01-09 08:12:54,274 : INFO : EPOCH 22 - PROGRESS: at 67.88% examples, 412083 words/s, in_qsize 14, out_qsize 1\n",
            "2021-01-09 08:12:55,299 : INFO : EPOCH 22 - PROGRESS: at 73.19% examples, 413044 words/s, in_qsize 15, out_qsize 0\n",
            "2021-01-09 08:12:56,321 : INFO : EPOCH 22 - PROGRESS: at 78.40% examples, 413398 words/s, in_qsize 15, out_qsize 0\n",
            "2021-01-09 08:12:57,371 : INFO : EPOCH 22 - PROGRESS: at 83.51% examples, 412480 words/s, in_qsize 15, out_qsize 0\n",
            "2021-01-09 08:12:58,374 : INFO : EPOCH 22 - PROGRESS: at 88.80% examples, 413746 words/s, in_qsize 16, out_qsize 0\n",
            "2021-01-09 08:12:59,377 : INFO : EPOCH 22 - PROGRESS: at 93.59% examples, 412486 words/s, in_qsize 16, out_qsize 1\n",
            "2021-01-09 08:13:00,418 : INFO : EPOCH 22 - PROGRESS: at 98.14% examples, 409672 words/s, in_qsize 13, out_qsize 5\n",
            "2021-01-09 08:13:00,642 : INFO : worker thread finished; awaiting finish of 7 more threads\n",
            "2021-01-09 08:13:00,645 : INFO : worker thread finished; awaiting finish of 6 more threads\n",
            "2021-01-09 08:13:00,647 : INFO : worker thread finished; awaiting finish of 5 more threads\n",
            "2021-01-09 08:13:00,651 : INFO : worker thread finished; awaiting finish of 4 more threads\n",
            "2021-01-09 08:13:00,652 : INFO : worker thread finished; awaiting finish of 3 more threads\n",
            "2021-01-09 08:13:00,683 : INFO : worker thread finished; awaiting finish of 2 more threads\n",
            "2021-01-09 08:13:00,715 : INFO : worker thread finished; awaiting finish of 1 more threads\n",
            "2021-01-09 08:13:00,725 : INFO : worker thread finished; awaiting finish of 0 more threads\n",
            "2021-01-09 08:13:00,727 : INFO : EPOCH - 22 : training on 9227204 raw words (8223394 effective words) took 20.0s, 410978 effective words/s\n",
            "2021-01-09 08:13:01,753 : INFO : EPOCH 23 - PROGRESS: at 4.13% examples, 334974 words/s, in_qsize 15, out_qsize 0\n",
            "2021-01-09 08:13:02,831 : INFO : EPOCH 23 - PROGRESS: at 9.66% examples, 379753 words/s, in_qsize 16, out_qsize 0\n",
            "2021-01-09 08:13:03,837 : INFO : EPOCH 23 - PROGRESS: at 14.76% examples, 391594 words/s, in_qsize 15, out_qsize 0\n",
            "2021-01-09 08:13:04,869 : INFO : EPOCH 23 - PROGRESS: at 20.27% examples, 405128 words/s, in_qsize 14, out_qsize 0\n",
            "2021-01-09 08:13:05,954 : INFO : EPOCH 23 - PROGRESS: at 25.48% examples, 401775 words/s, in_qsize 16, out_qsize 0\n",
            "2021-01-09 08:13:06,957 : INFO : EPOCH 23 - PROGRESS: at 30.56% examples, 404278 words/s, in_qsize 14, out_qsize 1\n",
            "2021-01-09 08:13:08,006 : INFO : EPOCH 23 - PROGRESS: at 35.86% examples, 406592 words/s, in_qsize 15, out_qsize 1\n",
            "2021-01-09 08:13:09,043 : INFO : EPOCH 23 - PROGRESS: at 41.05% examples, 406782 words/s, in_qsize 13, out_qsize 2\n",
            "2021-01-09 08:13:10,096 : INFO : EPOCH 23 - PROGRESS: at 46.57% examples, 409564 words/s, in_qsize 14, out_qsize 1\n",
            "2021-01-09 08:13:11,142 : INFO : EPOCH 23 - PROGRESS: at 51.97% examples, 411199 words/s, in_qsize 15, out_qsize 0\n",
            "2021-01-09 08:13:12,204 : INFO : EPOCH 23 - PROGRESS: at 57.38% examples, 412008 words/s, in_qsize 15, out_qsize 0\n",
            "2021-01-09 08:13:13,237 : INFO : EPOCH 23 - PROGRESS: at 62.57% examples, 412163 words/s, in_qsize 15, out_qsize 0\n",
            "2021-01-09 08:13:14,266 : INFO : EPOCH 23 - PROGRESS: at 67.77% examples, 412414 words/s, in_qsize 15, out_qsize 0\n",
            "2021-01-09 08:13:15,280 : INFO : EPOCH 23 - PROGRESS: at 72.97% examples, 413040 words/s, in_qsize 14, out_qsize 1\n",
            "2021-01-09 08:13:16,337 : INFO : EPOCH 23 - PROGRESS: at 78.40% examples, 413594 words/s, in_qsize 15, out_qsize 0\n",
            "2021-01-09 08:13:17,377 : INFO : EPOCH 23 - PROGRESS: at 83.72% examples, 414392 words/s, in_qsize 15, out_qsize 1\n",
            "2021-01-09 08:13:18,435 : INFO : EPOCH 23 - PROGRESS: at 89.02% examples, 413887 words/s, in_qsize 12, out_qsize 3\n",
            "2021-01-09 08:13:19,436 : INFO : EPOCH 23 - PROGRESS: at 94.47% examples, 415525 words/s, in_qsize 13, out_qsize 1\n",
            "2021-01-09 08:13:20,369 : INFO : worker thread finished; awaiting finish of 7 more threads\n",
            "2021-01-09 08:13:20,379 : INFO : worker thread finished; awaiting finish of 6 more threads\n",
            "2021-01-09 08:13:20,382 : INFO : worker thread finished; awaiting finish of 5 more threads\n",
            "2021-01-09 08:13:20,389 : INFO : worker thread finished; awaiting finish of 4 more threads\n",
            "2021-01-09 08:13:20,391 : INFO : worker thread finished; awaiting finish of 3 more threads\n",
            "2021-01-09 08:13:20,412 : INFO : worker thread finished; awaiting finish of 2 more threads\n",
            "2021-01-09 08:13:20,430 : INFO : worker thread finished; awaiting finish of 1 more threads\n",
            "2021-01-09 08:13:20,443 : INFO : EPOCH 23 - PROGRESS: at 100.00% examples, 417398 words/s, in_qsize 0, out_qsize 1\n",
            "2021-01-09 08:13:20,444 : INFO : worker thread finished; awaiting finish of 0 more threads\n",
            "2021-01-09 08:13:20,445 : INFO : EPOCH - 23 : training on 9227204 raw words (8223019 effective words) took 19.7s, 417361 effective words/s\n",
            "2021-01-09 08:13:21,548 : INFO : EPOCH 24 - PROGRESS: at 5.00% examples, 377055 words/s, in_qsize 15, out_qsize 0\n",
            "2021-01-09 08:13:22,555 : INFO : EPOCH 24 - PROGRESS: at 10.10% examples, 395877 words/s, in_qsize 15, out_qsize 0\n",
            "2021-01-09 08:13:23,576 : INFO : EPOCH 24 - PROGRESS: at 15.52% examples, 408998 words/s, in_qsize 15, out_qsize 0\n",
            "2021-01-09 08:13:24,659 : INFO : EPOCH 24 - PROGRESS: at 20.81% examples, 407440 words/s, in_qsize 15, out_qsize 0\n",
            "2021-01-09 08:13:25,664 : INFO : EPOCH 24 - PROGRESS: at 26.02% examples, 410994 words/s, in_qsize 16, out_qsize 0\n",
            "2021-01-09 08:13:26,671 : INFO : EPOCH 24 - PROGRESS: at 30.78% examples, 407509 words/s, in_qsize 12, out_qsize 6\n",
            "2021-01-09 08:13:27,684 : INFO : EPOCH 24 - PROGRESS: at 35.86% examples, 408296 words/s, in_qsize 13, out_qsize 3\n",
            "2021-01-09 08:13:28,734 : INFO : EPOCH 24 - PROGRESS: at 41.37% examples, 412280 words/s, in_qsize 15, out_qsize 0\n",
            "2021-01-09 08:13:29,746 : INFO : EPOCH 24 - PROGRESS: at 46.46% examples, 411590 words/s, in_qsize 15, out_qsize 0\n",
            "2021-01-09 08:13:30,762 : INFO : EPOCH 24 - PROGRESS: at 51.43% examples, 410815 words/s, in_qsize 12, out_qsize 3\n",
            "2021-01-09 08:13:31,771 : INFO : EPOCH 24 - PROGRESS: at 56.84% examples, 413600 words/s, in_qsize 16, out_qsize 0\n",
            "2021-01-09 08:13:32,799 : INFO : EPOCH 24 - PROGRESS: at 61.93% examples, 413968 words/s, in_qsize 16, out_qsize 0\n",
            "2021-01-09 08:13:33,803 : INFO : EPOCH 24 - PROGRESS: at 66.91% examples, 413289 words/s, in_qsize 15, out_qsize 1\n",
            "2021-01-09 08:13:34,797 : INFO : EPOCH 24 - PROGRESS: at 72.21% examples, 414540 words/s, in_qsize 15, out_qsize 0\n",
            "2021-01-09 08:13:35,848 : INFO : EPOCH 24 - PROGRESS: at 77.31% examples, 413634 words/s, in_qsize 15, out_qsize 1\n",
            "2021-01-09 08:13:36,909 : INFO : EPOCH 24 - PROGRESS: at 82.64% examples, 413299 words/s, in_qsize 14, out_qsize 1\n",
            "2021-01-09 08:13:37,930 : INFO : EPOCH 24 - PROGRESS: at 87.72% examples, 413094 words/s, in_qsize 15, out_qsize 0\n",
            "2021-01-09 08:13:38,966 : INFO : EPOCH 24 - PROGRESS: at 92.94% examples, 413045 words/s, in_qsize 15, out_qsize 2\n",
            "2021-01-09 08:13:39,980 : INFO : EPOCH 24 - PROGRESS: at 98.47% examples, 414860 words/s, in_qsize 14, out_qsize 1\n",
            "2021-01-09 08:13:40,131 : INFO : worker thread finished; awaiting finish of 7 more threads\n",
            "2021-01-09 08:13:40,133 : INFO : worker thread finished; awaiting finish of 6 more threads\n",
            "2021-01-09 08:13:40,148 : INFO : worker thread finished; awaiting finish of 5 more threads\n",
            "2021-01-09 08:13:40,160 : INFO : worker thread finished; awaiting finish of 4 more threads\n",
            "2021-01-09 08:13:40,204 : INFO : worker thread finished; awaiting finish of 3 more threads\n",
            "2021-01-09 08:13:40,225 : INFO : worker thread finished; awaiting finish of 2 more threads\n",
            "2021-01-09 08:13:40,227 : INFO : worker thread finished; awaiting finish of 1 more threads\n",
            "2021-01-09 08:13:40,237 : INFO : worker thread finished; awaiting finish of 0 more threads\n",
            "2021-01-09 08:13:40,238 : INFO : EPOCH - 24 : training on 9227204 raw words (8222800 effective words) took 19.8s, 415800 effective words/s\n",
            "2021-01-09 08:13:41,284 : INFO : EPOCH 25 - PROGRESS: at 4.45% examples, 355503 words/s, in_qsize 10, out_qsize 5\n",
            "2021-01-09 08:13:42,305 : INFO : EPOCH 25 - PROGRESS: at 9.88% examples, 395723 words/s, in_qsize 15, out_qsize 0\n",
            "2021-01-09 08:13:43,319 : INFO : EPOCH 25 - PROGRESS: at 14.76% examples, 395458 words/s, in_qsize 15, out_qsize 0\n",
            "2021-01-09 08:13:44,357 : INFO : EPOCH 25 - PROGRESS: at 19.94% examples, 399685 words/s, in_qsize 15, out_qsize 3\n",
            "2021-01-09 08:13:45,369 : INFO : EPOCH 25 - PROGRESS: at 25.26% examples, 405977 words/s, in_qsize 14, out_qsize 1\n",
            "2021-01-09 08:13:46,388 : INFO : EPOCH 25 - PROGRESS: at 30.46% examples, 408624 words/s, in_qsize 15, out_qsize 0\n",
            "2021-01-09 08:13:47,405 : INFO : EPOCH 25 - PROGRESS: at 35.43% examples, 407417 words/s, in_qsize 14, out_qsize 2\n",
            "2021-01-09 08:13:48,418 : INFO : EPOCH 25 - PROGRESS: at 40.62% examples, 409226 words/s, in_qsize 14, out_qsize 1\n",
            "2021-01-09 08:13:49,464 : INFO : EPOCH 25 - PROGRESS: at 46.24% examples, 413036 words/s, in_qsize 15, out_qsize 0\n",
            "2021-01-09 08:13:50,474 : INFO : EPOCH 25 - PROGRESS: at 51.43% examples, 414095 words/s, in_qsize 15, out_qsize 0\n",
            "2021-01-09 08:13:51,523 : INFO : EPOCH 25 - PROGRESS: at 56.40% examples, 411940 words/s, in_qsize 12, out_qsize 3\n",
            "2021-01-09 08:13:52,542 : INFO : EPOCH 25 - PROGRESS: at 61.82% examples, 414029 words/s, in_qsize 16, out_qsize 2\n",
            "2021-01-09 08:13:53,639 : INFO : EPOCH 25 - PROGRESS: at 66.91% examples, 411364 words/s, in_qsize 16, out_qsize 3\n",
            "2021-01-09 08:13:54,673 : INFO : EPOCH 25 - PROGRESS: at 72.21% examples, 412142 words/s, in_qsize 15, out_qsize 0\n",
            "2021-01-09 08:13:55,684 : INFO : EPOCH 25 - PROGRESS: at 77.42% examples, 412837 words/s, in_qsize 16, out_qsize 0\n",
            "2021-01-09 08:13:56,790 : INFO : EPOCH 25 - PROGRESS: at 82.85% examples, 412166 words/s, in_qsize 16, out_qsize 0\n",
            "2021-01-09 08:13:57,794 : INFO : EPOCH 25 - PROGRESS: at 87.94% examples, 412423 words/s, in_qsize 15, out_qsize 0\n",
            "2021-01-09 08:13:58,812 : INFO : EPOCH 25 - PROGRESS: at 93.26% examples, 413308 words/s, in_qsize 15, out_qsize 0\n",
            "2021-01-09 08:13:59,872 : INFO : EPOCH 25 - PROGRESS: at 98.25% examples, 411842 words/s, in_qsize 14, out_qsize 1\n",
            "2021-01-09 08:13:59,988 : INFO : worker thread finished; awaiting finish of 7 more threads\n",
            "2021-01-09 08:14:00,031 : INFO : worker thread finished; awaiting finish of 6 more threads\n",
            "2021-01-09 08:14:00,058 : INFO : worker thread finished; awaiting finish of 5 more threads\n",
            "2021-01-09 08:14:00,069 : INFO : worker thread finished; awaiting finish of 4 more threads\n",
            "2021-01-09 08:14:00,075 : INFO : worker thread finished; awaiting finish of 3 more threads\n",
            "2021-01-09 08:14:00,093 : INFO : worker thread finished; awaiting finish of 2 more threads\n",
            "2021-01-09 08:14:00,094 : INFO : worker thread finished; awaiting finish of 1 more threads\n",
            "2021-01-09 08:14:00,095 : INFO : worker thread finished; awaiting finish of 0 more threads\n",
            "2021-01-09 08:14:00,096 : INFO : EPOCH - 25 : training on 9227204 raw words (8221846 effective words) took 19.8s, 414431 effective words/s\n",
            "2021-01-09 08:14:01,138 : INFO : EPOCH 26 - PROGRESS: at 4.56% examples, 366300 words/s, in_qsize 15, out_qsize 0\n",
            "2021-01-09 08:14:02,157 : INFO : EPOCH 26 - PROGRESS: at 9.77% examples, 392980 words/s, in_qsize 15, out_qsize 0\n",
            "2021-01-09 08:14:03,168 : INFO : EPOCH 26 - PROGRESS: at 14.97% examples, 402836 words/s, in_qsize 15, out_qsize 1\n",
            "2021-01-09 08:14:04,198 : INFO : EPOCH 26 - PROGRESS: at 20.38% examples, 410368 words/s, in_qsize 15, out_qsize 0\n",
            "2021-01-09 08:14:05,281 : INFO : EPOCH 26 - PROGRESS: at 25.48% examples, 405393 words/s, in_qsize 16, out_qsize 7\n",
            "2021-01-09 08:14:06,381 : INFO : EPOCH 26 - PROGRESS: at 31.21% examples, 409569 words/s, in_qsize 15, out_qsize 0\n",
            "2021-01-09 08:14:07,388 : INFO : EPOCH 26 - PROGRESS: at 36.40% examples, 411619 words/s, in_qsize 15, out_qsize 0\n",
            "2021-01-09 08:14:08,395 : INFO : EPOCH 26 - PROGRESS: at 41.37% examples, 411054 words/s, in_qsize 15, out_qsize 1\n",
            "2021-01-09 08:14:09,438 : INFO : EPOCH 26 - PROGRESS: at 46.89% examples, 413826 words/s, in_qsize 15, out_qsize 0\n",
            "2021-01-09 08:14:10,468 : INFO : EPOCH 26 - PROGRESS: at 51.96% examples, 413135 words/s, in_qsize 15, out_qsize 1\n",
            "2021-01-09 08:14:11,559 : INFO : EPOCH 26 - PROGRESS: at 57.38% examples, 412672 words/s, in_qsize 14, out_qsize 1\n",
            "2021-01-09 08:14:12,577 : INFO : EPOCH 26 - PROGRESS: at 62.90% examples, 415420 words/s, in_qsize 14, out_qsize 2\n",
            "2021-01-09 08:14:13,583 : INFO : EPOCH 26 - PROGRESS: at 67.99% examples, 415513 words/s, in_qsize 13, out_qsize 3\n",
            "2021-01-09 08:14:14,596 : INFO : EPOCH 26 - PROGRESS: at 73.30% examples, 416772 words/s, in_qsize 15, out_qsize 1\n",
            "2021-01-09 08:14:15,665 : INFO : EPOCH 26 - PROGRESS: at 78.62% examples, 415977 words/s, in_qsize 14, out_qsize 1\n",
            "2021-01-09 08:14:16,739 : INFO : EPOCH 26 - PROGRESS: at 84.15% examples, 416425 words/s, in_qsize 15, out_qsize 0\n",
            "2021-01-09 08:14:17,752 : INFO : EPOCH 26 - PROGRESS: at 89.45% examples, 417243 words/s, in_qsize 14, out_qsize 1\n",
            "2021-01-09 08:14:18,763 : INFO : EPOCH 26 - PROGRESS: at 94.58% examples, 417050 words/s, in_qsize 16, out_qsize 3\n",
            "2021-01-09 08:14:19,597 : INFO : worker thread finished; awaiting finish of 7 more threads\n",
            "2021-01-09 08:14:19,639 : INFO : worker thread finished; awaiting finish of 6 more threads\n",
            "2021-01-09 08:14:19,644 : INFO : worker thread finished; awaiting finish of 5 more threads\n",
            "2021-01-09 08:14:19,654 : INFO : worker thread finished; awaiting finish of 4 more threads\n",
            "2021-01-09 08:14:19,677 : INFO : worker thread finished; awaiting finish of 3 more threads\n",
            "2021-01-09 08:14:19,679 : INFO : worker thread finished; awaiting finish of 2 more threads\n",
            "2021-01-09 08:14:19,687 : INFO : worker thread finished; awaiting finish of 1 more threads\n",
            "2021-01-09 08:14:19,702 : INFO : worker thread finished; awaiting finish of 0 more threads\n",
            "2021-01-09 08:14:19,703 : INFO : EPOCH - 26 : training on 9227204 raw words (8222997 effective words) took 19.6s, 419828 effective words/s\n",
            "2021-01-09 08:14:20,720 : INFO : EPOCH 27 - PROGRESS: at 4.45% examples, 364458 words/s, in_qsize 15, out_qsize 0\n",
            "2021-01-09 08:14:21,745 : INFO : EPOCH 27 - PROGRESS: at 9.88% examples, 400117 words/s, in_qsize 15, out_qsize 3\n",
            "2021-01-09 08:14:22,784 : INFO : EPOCH 27 - PROGRESS: at 15.19% examples, 406772 words/s, in_qsize 13, out_qsize 2\n",
            "2021-01-09 08:14:23,823 : INFO : EPOCH 27 - PROGRESS: at 20.49% examples, 410187 words/s, in_qsize 16, out_qsize 3\n",
            "2021-01-09 08:14:24,879 : INFO : EPOCH 27 - PROGRESS: at 26.02% examples, 414352 words/s, in_qsize 15, out_qsize 0\n",
            "2021-01-09 08:14:25,956 : INFO : EPOCH 27 - PROGRESS: at 31.43% examples, 414168 words/s, in_qsize 16, out_qsize 0\n",
            "2021-01-09 08:14:26,957 : INFO : EPOCH 27 - PROGRESS: at 36.51% examples, 414748 words/s, in_qsize 16, out_qsize 2\n",
            "2021-01-09 08:14:28,048 : INFO : EPOCH 27 - PROGRESS: at 42.13% examples, 415990 words/s, in_qsize 15, out_qsize 0\n",
            "2021-01-09 08:14:29,074 : INFO : EPOCH 27 - PROGRESS: at 47.32% examples, 416097 words/s, in_qsize 15, out_qsize 0\n",
            "2021-01-09 08:14:30,156 : INFO : EPOCH 27 - PROGRESS: at 52.73% examples, 416327 words/s, in_qsize 15, out_qsize 0\n",
            "2021-01-09 08:14:31,160 : INFO : EPOCH 27 - PROGRESS: at 57.92% examples, 416549 words/s, in_qsize 16, out_qsize 0\n",
            "2021-01-09 08:14:32,178 : INFO : EPOCH 27 - PROGRESS: at 63.22% examples, 417544 words/s, in_qsize 15, out_qsize 0\n",
            "2021-01-09 08:14:33,180 : INFO : EPOCH 27 - PROGRESS: at 68.10% examples, 416235 words/s, in_qsize 14, out_qsize 1\n",
            "2021-01-09 08:14:34,185 : INFO : EPOCH 27 - PROGRESS: at 73.30% examples, 416863 words/s, in_qsize 15, out_qsize 0\n",
            "2021-01-09 08:14:35,207 : INFO : EPOCH 27 - PROGRESS: at 78.07% examples, 414646 words/s, in_qsize 15, out_qsize 0\n",
            "2021-01-09 08:14:36,241 : INFO : EPOCH 27 - PROGRESS: at 83.29% examples, 414587 words/s, in_qsize 15, out_qsize 0\n",
            "2021-01-09 08:14:37,264 : INFO : EPOCH 27 - PROGRESS: at 89.02% examples, 417302 words/s, in_qsize 16, out_qsize 0\n",
            "2021-01-09 08:14:38,303 : INFO : EPOCH 27 - PROGRESS: at 94.03% examples, 415993 words/s, in_qsize 15, out_qsize 0\n",
            "2021-01-09 08:14:39,257 : INFO : worker thread finished; awaiting finish of 7 more threads\n",
            "2021-01-09 08:14:39,291 : INFO : worker thread finished; awaiting finish of 6 more threads\n",
            "2021-01-09 08:14:39,314 : INFO : EPOCH 27 - PROGRESS: at 99.46% examples, 417314 words/s, in_qsize 5, out_qsize 1\n",
            "2021-01-09 08:14:39,315 : INFO : worker thread finished; awaiting finish of 5 more threads\n",
            "2021-01-09 08:14:39,338 : INFO : worker thread finished; awaiting finish of 4 more threads\n",
            "2021-01-09 08:14:39,341 : INFO : worker thread finished; awaiting finish of 3 more threads\n",
            "2021-01-09 08:14:39,349 : INFO : worker thread finished; awaiting finish of 2 more threads\n",
            "2021-01-09 08:14:39,356 : INFO : worker thread finished; awaiting finish of 1 more threads\n",
            "2021-01-09 08:14:39,370 : INFO : worker thread finished; awaiting finish of 0 more threads\n",
            "2021-01-09 08:14:39,371 : INFO : EPOCH - 27 : training on 9227204 raw words (8222085 effective words) took 19.7s, 418372 effective words/s\n",
            "2021-01-09 08:14:40,389 : INFO : EPOCH 28 - PROGRESS: at 4.56% examples, 372147 words/s, in_qsize 15, out_qsize 0\n",
            "2021-01-09 08:14:41,392 : INFO : EPOCH 28 - PROGRESS: at 9.77% examples, 399561 words/s, in_qsize 16, out_qsize 0\n",
            "2021-01-09 08:14:42,477 : INFO : EPOCH 28 - PROGRESS: at 15.52% examples, 411918 words/s, in_qsize 14, out_qsize 1\n",
            "2021-01-09 08:14:43,548 : INFO : EPOCH 28 - PROGRESS: at 20.92% examples, 412958 words/s, in_qsize 16, out_qsize 0\n",
            "2021-01-09 08:14:44,561 : INFO : EPOCH 28 - PROGRESS: at 26.12% examples, 414729 words/s, in_qsize 14, out_qsize 1\n",
            "2021-01-09 08:14:45,568 : INFO : EPOCH 28 - PROGRESS: at 31.32% examples, 416378 words/s, in_qsize 14, out_qsize 1\n",
            "2021-01-09 08:14:46,592 : INFO : EPOCH 28 - PROGRESS: at 36.62% examples, 417734 words/s, in_qsize 16, out_qsize 0\n",
            "2021-01-09 08:14:47,638 : INFO : EPOCH 28 - PROGRESS: at 41.92% examples, 417643 words/s, in_qsize 14, out_qsize 1\n",
            "2021-01-09 08:14:48,689 : INFO : EPOCH 28 - PROGRESS: at 47.10% examples, 416443 words/s, in_qsize 13, out_qsize 2\n",
            "2021-01-09 08:14:49,693 : INFO : EPOCH 28 - PROGRESS: at 52.29% examples, 417390 words/s, in_qsize 14, out_qsize 1\n",
            "2021-01-09 08:14:50,709 : INFO : EPOCH 28 - PROGRESS: at 57.60% examples, 418511 words/s, in_qsize 14, out_qsize 1\n",
            "2021-01-09 08:14:51,727 : INFO : EPOCH 28 - PROGRESS: at 63.22% examples, 421541 words/s, in_qsize 15, out_qsize 0\n",
            "2021-01-09 08:14:52,761 : INFO : EPOCH 28 - PROGRESS: at 68.32% examples, 420224 words/s, in_qsize 14, out_qsize 1\n",
            "2021-01-09 08:14:53,765 : INFO : EPOCH 28 - PROGRESS: at 73.51% examples, 420625 words/s, in_qsize 16, out_qsize 1\n",
            "2021-01-09 08:14:54,765 : INFO : EPOCH 28 - PROGRESS: at 78.84% examples, 421639 words/s, in_qsize 15, out_qsize 0\n",
            "2021-01-09 08:14:55,808 : INFO : EPOCH 28 - PROGRESS: at 83.94% examples, 420375 words/s, in_qsize 14, out_qsize 1\n",
            "2021-01-09 08:14:56,808 : INFO : EPOCH 28 - PROGRESS: at 89.24% examples, 421260 words/s, in_qsize 15, out_qsize 2\n",
            "2021-01-09 08:14:57,809 : INFO : EPOCH 28 - PROGRESS: at 94.69% examples, 422524 words/s, in_qsize 15, out_qsize 0\n",
            "2021-01-09 08:14:58,746 : INFO : worker thread finished; awaiting finish of 7 more threads\n",
            "2021-01-09 08:14:58,759 : INFO : worker thread finished; awaiting finish of 6 more threads\n",
            "2021-01-09 08:14:58,771 : INFO : worker thread finished; awaiting finish of 5 more threads\n",
            "2021-01-09 08:14:58,781 : INFO : worker thread finished; awaiting finish of 4 more threads\n",
            "2021-01-09 08:14:58,786 : INFO : worker thread finished; awaiting finish of 3 more threads\n",
            "2021-01-09 08:14:58,796 : INFO : worker thread finished; awaiting finish of 2 more threads\n",
            "2021-01-09 08:14:58,801 : INFO : worker thread finished; awaiting finish of 1 more threads\n",
            "2021-01-09 08:14:58,801 : INFO : worker thread finished; awaiting finish of 0 more threads\n",
            "2021-01-09 08:14:58,803 : INFO : EPOCH - 28 : training on 9227204 raw words (8222783 effective words) took 19.4s, 423430 effective words/s\n",
            "2021-01-09 08:14:59,862 : INFO : EPOCH 29 - PROGRESS: at 4.67% examples, 367252 words/s, in_qsize 12, out_qsize 3\n",
            "2021-01-09 08:15:00,917 : INFO : EPOCH 29 - PROGRESS: at 10.32% examples, 403717 words/s, in_qsize 16, out_qsize 0\n",
            "2021-01-09 08:15:01,937 : INFO : EPOCH 29 - PROGRESS: at 15.52% examples, 408656 words/s, in_qsize 15, out_qsize 0\n",
            "2021-01-09 08:15:02,951 : INFO : EPOCH 29 - PROGRESS: at 20.49% examples, 407574 words/s, in_qsize 15, out_qsize 1\n",
            "2021-01-09 08:15:03,957 : INFO : EPOCH 29 - PROGRESS: at 25.80% examples, 412720 words/s, in_qsize 15, out_qsize 2\n",
            "2021-01-09 08:15:05,014 : INFO : EPOCH 29 - PROGRESS: at 31.32% examples, 415684 words/s, in_qsize 15, out_qsize 0\n",
            "2021-01-09 08:15:06,036 : INFO : EPOCH 29 - PROGRESS: at 36.62% examples, 417284 words/s, in_qsize 15, out_qsize 0\n",
            "2021-01-09 08:15:07,043 : INFO : EPOCH 29 - PROGRESS: at 41.59% examples, 415985 words/s, in_qsize 15, out_qsize 0\n",
            "2021-01-09 08:15:08,100 : INFO : EPOCH 29 - PROGRESS: at 46.99% examples, 416630 words/s, in_qsize 14, out_qsize 1\n",
            "2021-01-09 08:15:09,180 : INFO : EPOCH 29 - PROGRESS: at 52.29% examples, 416540 words/s, in_qsize 15, out_qsize 3\n",
            "2021-01-09 08:15:10,152 : INFO : EPOCH 29 - PROGRESS: at 57.81% examples, 419823 words/s, in_qsize 13, out_qsize 2\n",
            "2021-01-09 08:15:11,212 : INFO : EPOCH 29 - PROGRESS: at 63.11% examples, 419151 words/s, in_qsize 15, out_qsize 0\n",
            "2021-01-09 08:15:12,273 : INFO : EPOCH 29 - PROGRESS: at 68.32% examples, 418248 words/s, in_qsize 15, out_qsize 0\n",
            "2021-01-09 08:15:13,342 : INFO : EPOCH 29 - PROGRESS: at 73.51% examples, 416548 words/s, in_qsize 15, out_qsize 0\n",
            "2021-01-09 08:15:14,343 : INFO : EPOCH 29 - PROGRESS: at 78.51% examples, 416069 words/s, in_qsize 15, out_qsize 2\n",
            "2021-01-09 08:15:15,362 : INFO : EPOCH 29 - PROGRESS: at 84.05% examples, 417925 words/s, in_qsize 13, out_qsize 2\n",
            "2021-01-09 08:15:16,365 : INFO : EPOCH 29 - PROGRESS: at 88.81% examples, 416339 words/s, in_qsize 15, out_qsize 0\n",
            "2021-01-09 08:15:17,372 : INFO : EPOCH 29 - PROGRESS: at 93.70% examples, 415310 words/s, in_qsize 15, out_qsize 2\n",
            "2021-01-09 08:15:18,401 : INFO : EPOCH 29 - PROGRESS: at 98.90% examples, 415334 words/s, in_qsize 11, out_qsize 0\n",
            "2021-01-09 08:15:18,427 : INFO : worker thread finished; awaiting finish of 7 more threads\n",
            "2021-01-09 08:15:18,436 : INFO : worker thread finished; awaiting finish of 6 more threads\n",
            "2021-01-09 08:15:18,446 : INFO : worker thread finished; awaiting finish of 5 more threads\n",
            "2021-01-09 08:15:18,447 : INFO : worker thread finished; awaiting finish of 4 more threads\n",
            "2021-01-09 08:15:18,450 : INFO : worker thread finished; awaiting finish of 3 more threads\n",
            "2021-01-09 08:15:18,502 : INFO : worker thread finished; awaiting finish of 2 more threads\n",
            "2021-01-09 08:15:18,509 : INFO : worker thread finished; awaiting finish of 1 more threads\n",
            "2021-01-09 08:15:18,521 : INFO : worker thread finished; awaiting finish of 0 more threads\n",
            "2021-01-09 08:15:18,522 : INFO : EPOCH - 29 : training on 9227204 raw words (8222683 effective words) took 19.7s, 417358 effective words/s\n",
            "2021-01-09 08:15:19,576 : INFO : EPOCH 30 - PROGRESS: at 4.56% examples, 360843 words/s, in_qsize 15, out_qsize 0\n",
            "2021-01-09 08:15:20,587 : INFO : EPOCH 30 - PROGRESS: at 9.45% examples, 378622 words/s, in_qsize 11, out_qsize 4\n",
            "2021-01-09 08:15:21,620 : INFO : EPOCH 30 - PROGRESS: at 14.97% examples, 399099 words/s, in_qsize 14, out_qsize 1\n",
            "2021-01-09 08:15:22,704 : INFO : EPOCH 30 - PROGRESS: at 20.27% examples, 400033 words/s, in_qsize 14, out_qsize 1\n",
            "2021-01-09 08:15:23,720 : INFO : EPOCH 30 - PROGRESS: at 25.48% examples, 404150 words/s, in_qsize 14, out_qsize 1\n",
            "2021-01-09 08:15:24,766 : INFO : EPOCH 30 - PROGRESS: at 30.89% examples, 407754 words/s, in_qsize 14, out_qsize 1\n",
            "2021-01-09 08:15:25,778 : INFO : EPOCH 30 - PROGRESS: at 36.29% examples, 412274 words/s, in_qsize 15, out_qsize 0\n",
            "2021-01-09 08:15:26,836 : INFO : EPOCH 30 - PROGRESS: at 41.37% examples, 410128 words/s, in_qsize 16, out_qsize 1\n",
            "2021-01-09 08:15:27,837 : INFO : EPOCH 30 - PROGRESS: at 46.45% examples, 411040 words/s, in_qsize 15, out_qsize 0\n",
            "2021-01-09 08:15:28,840 : INFO : EPOCH 30 - PROGRESS: at 51.53% examples, 411693 words/s, in_qsize 15, out_qsize 0\n",
            "2021-01-09 08:15:29,841 : INFO : EPOCH 30 - PROGRESS: at 56.84% examples, 413867 words/s, in_qsize 16, out_qsize 0\n",
            "2021-01-09 08:15:30,920 : INFO : EPOCH 30 - PROGRESS: at 61.93% examples, 411629 words/s, in_qsize 15, out_qsize 0\n",
            "2021-01-09 08:15:31,936 : INFO : EPOCH 30 - PROGRESS: at 67.45% examples, 414310 words/s, in_qsize 14, out_qsize 1\n",
            "2021-01-09 08:15:32,943 : INFO : EPOCH 30 - PROGRESS: at 72.32% examples, 413166 words/s, in_qsize 15, out_qsize 3\n",
            "2021-01-09 08:15:33,981 : INFO : EPOCH 30 - PROGRESS: at 77.53% examples, 413058 words/s, in_qsize 14, out_qsize 1\n",
            "2021-01-09 08:15:34,989 : INFO : EPOCH 30 - PROGRESS: at 82.74% examples, 413736 words/s, in_qsize 14, out_qsize 1\n",
            "2021-01-09 08:15:36,019 : INFO : EPOCH 30 - PROGRESS: at 88.48% examples, 416367 words/s, in_qsize 15, out_qsize 0\n",
            "2021-01-09 08:15:37,027 : INFO : EPOCH 30 - PROGRESS: at 93.48% examples, 415795 words/s, in_qsize 15, out_qsize 0\n",
            "2021-01-09 08:15:38,047 : INFO : EPOCH 30 - PROGRESS: at 98.25% examples, 414157 words/s, in_qsize 11, out_qsize 6\n",
            "2021-01-09 08:15:38,191 : INFO : worker thread finished; awaiting finish of 7 more threads\n",
            "2021-01-09 08:15:38,202 : INFO : worker thread finished; awaiting finish of 6 more threads\n",
            "2021-01-09 08:15:38,229 : INFO : worker thread finished; awaiting finish of 5 more threads\n",
            "2021-01-09 08:15:38,230 : INFO : worker thread finished; awaiting finish of 4 more threads\n",
            "2021-01-09 08:15:38,232 : INFO : worker thread finished; awaiting finish of 3 more threads\n",
            "2021-01-09 08:15:38,233 : INFO : worker thread finished; awaiting finish of 2 more threads\n",
            "2021-01-09 08:15:38,247 : INFO : worker thread finished; awaiting finish of 1 more threads\n",
            "2021-01-09 08:15:38,268 : INFO : worker thread finished; awaiting finish of 0 more threads\n",
            "2021-01-09 08:15:38,268 : INFO : EPOCH - 30 : training on 9227204 raw words (8222878 effective words) took 19.7s, 416789 effective words/s\n",
            "2021-01-09 08:15:39,325 : INFO : EPOCH 31 - PROGRESS: at 4.56% examples, 358819 words/s, in_qsize 12, out_qsize 3\n",
            "2021-01-09 08:15:40,332 : INFO : EPOCH 31 - PROGRESS: at 10.10% examples, 404272 words/s, in_qsize 15, out_qsize 0\n",
            "2021-01-09 08:15:41,364 : INFO : EPOCH 31 - PROGRESS: at 15.30% examples, 407625 words/s, in_qsize 15, out_qsize 0\n",
            "2021-01-09 08:15:42,376 : INFO : EPOCH 31 - PROGRESS: at 20.27% examples, 406911 words/s, in_qsize 13, out_qsize 2\n",
            "2021-01-09 08:15:43,442 : INFO : EPOCH 31 - PROGRESS: at 25.69% examples, 409184 words/s, in_qsize 10, out_qsize 5\n",
            "2021-01-09 08:15:44,486 : INFO : EPOCH 31 - PROGRESS: at 31.10% examples, 412099 words/s, in_qsize 16, out_qsize 1\n",
            "2021-01-09 08:15:45,501 : INFO : EPOCH 31 - PROGRESS: at 36.40% examples, 414625 words/s, in_qsize 15, out_qsize 0\n",
            "2021-01-09 08:15:46,566 : INFO : EPOCH 31 - PROGRESS: at 41.81% examples, 415055 words/s, in_qsize 15, out_qsize 0\n",
            "2021-01-09 08:15:47,657 : INFO : EPOCH 31 - PROGRESS: at 47.11% examples, 413323 words/s, in_qsize 11, out_qsize 4\n",
            "2021-01-09 08:15:48,682 : INFO : EPOCH 31 - PROGRESS: at 52.40% examples, 414585 words/s, in_qsize 15, out_qsize 1\n",
            "2021-01-09 08:15:49,683 : INFO : EPOCH 31 - PROGRESS: at 58.03% examples, 418818 words/s, in_qsize 15, out_qsize 0\n",
            "2021-01-09 08:15:50,732 : INFO : EPOCH 31 - PROGRESS: at 62.89% examples, 415759 words/s, in_qsize 15, out_qsize 0\n",
            "2021-01-09 08:15:51,753 : INFO : EPOCH 31 - PROGRESS: at 67.99% examples, 415301 words/s, in_qsize 16, out_qsize 1\n",
            "2021-01-09 08:15:52,759 : INFO : EPOCH 31 - PROGRESS: at 73.52% examples, 417806 words/s, in_qsize 15, out_qsize 0\n",
            "2021-01-09 08:15:53,763 : INFO : EPOCH 31 - PROGRESS: at 78.40% examples, 416586 words/s, in_qsize 16, out_qsize 0\n",
            "2021-01-09 08:15:54,806 : INFO : EPOCH 31 - PROGRESS: at 83.83% examples, 417240 words/s, in_qsize 16, out_qsize 0\n",
            "2021-01-09 08:15:55,808 : INFO : EPOCH 31 - PROGRESS: at 89.02% examples, 417761 words/s, in_qsize 15, out_qsize 0\n",
            "2021-01-09 08:15:56,823 : INFO : EPOCH 31 - PROGRESS: at 94.03% examples, 416969 words/s, in_qsize 13, out_qsize 1\n",
            "2021-01-09 08:15:57,789 : INFO : worker thread finished; awaiting finish of 7 more threads\n",
            "2021-01-09 08:15:57,825 : INFO : EPOCH 31 - PROGRESS: at 99.34% examples, 417989 words/s, in_qsize 6, out_qsize 1\n",
            "2021-01-09 08:15:57,826 : INFO : worker thread finished; awaiting finish of 6 more threads\n",
            "2021-01-09 08:15:57,866 : INFO : worker thread finished; awaiting finish of 5 more threads\n",
            "2021-01-09 08:15:57,882 : INFO : worker thread finished; awaiting finish of 4 more threads\n",
            "2021-01-09 08:15:57,889 : INFO : worker thread finished; awaiting finish of 3 more threads\n",
            "2021-01-09 08:15:57,892 : INFO : worker thread finished; awaiting finish of 2 more threads\n",
            "2021-01-09 08:15:57,896 : INFO : worker thread finished; awaiting finish of 1 more threads\n",
            "2021-01-09 08:15:57,904 : INFO : worker thread finished; awaiting finish of 0 more threads\n",
            "2021-01-09 08:15:57,908 : INFO : EPOCH - 31 : training on 9227204 raw words (8222030 effective words) took 19.6s, 418940 effective words/s\n",
            "2021-01-09 08:15:58,952 : INFO : EPOCH 32 - PROGRESS: at 5.00% examples, 397368 words/s, in_qsize 16, out_qsize 0\n",
            "2021-01-09 08:15:59,967 : INFO : EPOCH 32 - PROGRESS: at 10.10% examples, 405190 words/s, in_qsize 16, out_qsize 1\n",
            "2021-01-09 08:16:01,014 : INFO : EPOCH 32 - PROGRESS: at 15.30% examples, 406081 words/s, in_qsize 15, out_qsize 0\n",
            "2021-01-09 08:16:02,047 : INFO : EPOCH 32 - PROGRESS: at 20.27% examples, 406131 words/s, in_qsize 15, out_qsize 6\n",
            "2021-01-09 08:16:03,079 : INFO : EPOCH 32 - PROGRESS: at 25.69% examples, 409390 words/s, in_qsize 15, out_qsize 0\n",
            "2021-01-09 08:16:04,141 : INFO : EPOCH 32 - PROGRESS: at 30.99% examples, 409654 words/s, in_qsize 16, out_qsize 0\n",
            "2021-01-09 08:16:05,210 : INFO : EPOCH 32 - PROGRESS: at 36.29% examples, 409445 words/s, in_qsize 13, out_qsize 5\n",
            "2021-01-09 08:16:06,224 : INFO : EPOCH 32 - PROGRESS: at 41.70% examples, 413074 words/s, in_qsize 15, out_qsize 0\n",
            "2021-01-09 08:16:07,245 : INFO : EPOCH 32 - PROGRESS: at 46.78% examples, 412722 words/s, in_qsize 14, out_qsize 1\n",
            "2021-01-09 08:16:08,257 : INFO : EPOCH 32 - PROGRESS: at 52.07% examples, 414594 words/s, in_qsize 16, out_qsize 0\n",
            "2021-01-09 08:16:09,312 : INFO : EPOCH 32 - PROGRESS: at 57.27% examples, 413764 words/s, in_qsize 15, out_qsize 3\n",
            "2021-01-09 08:16:10,348 : INFO : EPOCH 32 - PROGRESS: at 62.57% examples, 414409 words/s, in_qsize 16, out_qsize 2\n",
            "2021-01-09 08:16:11,378 : INFO : EPOCH 32 - PROGRESS: at 67.99% examples, 416196 words/s, in_qsize 12, out_qsize 3\n",
            "2021-01-09 08:16:12,391 : INFO : EPOCH 32 - PROGRESS: at 72.86% examples, 414371 words/s, in_qsize 13, out_qsize 3\n",
            "2021-01-09 08:16:13,397 : INFO : EPOCH 32 - PROGRESS: at 77.97% examples, 414478 words/s, in_qsize 16, out_qsize 2\n",
            "2021-01-09 08:16:14,403 : INFO : EPOCH 32 - PROGRESS: at 83.40% examples, 416215 words/s, in_qsize 15, out_qsize 0\n",
            "2021-01-09 08:16:15,485 : INFO : EPOCH 32 - PROGRESS: at 88.70% examples, 415427 words/s, in_qsize 15, out_qsize 0\n",
            "2021-01-09 08:16:16,520 : INFO : EPOCH 32 - PROGRESS: at 93.92% examples, 415707 words/s, in_qsize 15, out_qsize 0\n",
            "2021-01-09 08:16:17,490 : INFO : worker thread finished; awaiting finish of 7 more threads\n",
            "2021-01-09 08:16:17,519 : INFO : EPOCH 32 - PROGRESS: at 99.34% examples, 416863 words/s, in_qsize 6, out_qsize 1\n",
            "2021-01-09 08:16:17,522 : INFO : worker thread finished; awaiting finish of 6 more threads\n",
            "2021-01-09 08:16:17,535 : INFO : worker thread finished; awaiting finish of 5 more threads\n",
            "2021-01-09 08:16:17,569 : INFO : worker thread finished; awaiting finish of 4 more threads\n",
            "2021-01-09 08:16:17,581 : INFO : worker thread finished; awaiting finish of 3 more threads\n",
            "2021-01-09 08:16:17,583 : INFO : worker thread finished; awaiting finish of 2 more threads\n",
            "2021-01-09 08:16:17,589 : INFO : worker thread finished; awaiting finish of 1 more threads\n",
            "2021-01-09 08:16:17,602 : INFO : worker thread finished; awaiting finish of 0 more threads\n",
            "2021-01-09 08:16:17,608 : INFO : EPOCH - 32 : training on 9227204 raw words (8222885 effective words) took 19.7s, 417693 effective words/s\n",
            "2021-01-09 08:16:17,609 : INFO : training on a 295270528 raw words (263126324 effective words) took 638.9s, 411822 effective words/s\n"
          ],
          "name": "stderr"
        },
        {
          "output_type": "stream",
          "text": [
            "CPU times: user 20min 34s, sys: 5.14 s, total: 20min 39s\n",
            "Wall time: 10min 38s\n"
          ],
          "name": "stdout"
        },
        {
          "output_type": "execute_result",
          "data": {
            "text/plain": [
              "(263126324, 295270528)"
            ]
          },
          "metadata": {
            "tags": []
          },
          "execution_count": 22
        }
      ]
    },
    {
      "cell_type": "code",
      "metadata": {
        "colab": {
          "base_uri": "https://localhost:8080/"
        },
        "id": "3YNnxcC9s2tQ",
        "outputId": "90136b91-5f43-4f18-8f45-b5c84466eaea"
      },
      "source": [
        "w2v_model.most_similar(\"hate\")\r\n"
      ],
      "execution_count": null,
      "outputs": [
        {
          "output_type": "stream",
          "text": [
            "/usr/local/lib/python3.6/dist-packages/ipykernel_launcher.py:1: DeprecationWarning: Call to deprecated `most_similar` (Method will be removed in 4.0.0, use self.wv.most_similar() instead).\n",
            "  \"\"\"Entry point for launching an IPython kernel.\n",
            "2021-01-09 08:17:15,707 : INFO : precomputing L2-norms of word weight vectors\n"
          ],
          "name": "stderr"
        },
        {
          "output_type": "execute_result",
          "data": {
            "text/plain": [
              "[('hates', 0.5516266822814941),\n",
              " ('sucks', 0.5049316883087158),\n",
              " ('dislike', 0.4951819181442261),\n",
              " ('stupid', 0.47495031356811523),\n",
              " ('suck', 0.45793038606643677),\n",
              " ('despise', 0.44821807742118835),\n",
              " ('ugh', 0.43089908361434937),\n",
              " ('hating', 0.43033385276794434),\n",
              " ('h8', 0.4284934401512146),\n",
              " ('annoying', 0.3965412974357605)]"
            ]
          },
          "metadata": {
            "tags": []
          },
          "execution_count": 23
        }
      ]
    },
    {
      "cell_type": "code",
      "metadata": {
        "colab": {
          "base_uri": "https://localhost:8080/"
        },
        "id": "9jpEVRZttC3I",
        "outputId": "a6342f73-809f-4fb4-e976-250638959398"
      },
      "source": [
        "%%time\r\n",
        "tokenizer = Tokenizer()\r\n",
        "tokenizer.fit_on_texts(df_train.text)\r\n",
        "\r\n",
        "vocab_size = len(tokenizer.word_index) + 1\r\n",
        "print(\"Total words\", vocab_size)"
      ],
      "execution_count": null,
      "outputs": [
        {
          "output_type": "stream",
          "text": [
            "Total words 290419\n",
            "CPU times: user 15 s, sys: 74 ms, total: 15.1 s\n",
            "Wall time: 15.1 s\n"
          ],
          "name": "stdout"
        }
      ]
    },
    {
      "cell_type": "code",
      "metadata": {
        "colab": {
          "base_uri": "https://localhost:8080/"
        },
        "id": "egjQLQ1QtMjA",
        "outputId": "39e25956-7ab2-419b-be65-b839923d4ad5"
      },
      "source": [
        "%%time\r\n",
        "x_train = pad_sequences(tokenizer.texts_to_sequences(df_train.text), maxlen=SEQUENCE_LENGTH)\r\n",
        "x_test = pad_sequences(tokenizer.texts_to_sequences(df_test.text), maxlen=SEQUENCE_LENGTH)"
      ],
      "execution_count": null,
      "outputs": [
        {
          "output_type": "stream",
          "text": [
            "CPU times: user 22.5 s, sys: 473 ms, total: 23 s\n",
            "Wall time: 23 s\n"
          ],
          "name": "stdout"
        }
      ]
    },
    {
      "cell_type": "code",
      "metadata": {
        "colab": {
          "base_uri": "https://localhost:8080/"
        },
        "id": "UT20hzKftPmQ",
        "outputId": "59b0f2d6-e7a6-4a8e-c1f5-eac38370eea5"
      },
      "source": [
        "labels = df_train.target.unique().tolist()\r\n",
        "labels.append(NEUTRAL)\r\n",
        "labels"
      ],
      "execution_count": null,
      "outputs": [
        {
          "output_type": "execute_result",
          "data": {
            "text/plain": [
              "['POSITIVE', 'NEGATIVE', 'NEUTRAL']"
            ]
          },
          "metadata": {
            "tags": []
          },
          "execution_count": 26
        }
      ]
    },
    {
      "cell_type": "code",
      "metadata": {
        "colab": {
          "base_uri": "https://localhost:8080/"
        },
        "id": "q2AXRhK6tTVp",
        "outputId": "47abb828-0ec6-40d2-ded7-cf5ad6e1d509"
      },
      "source": [
        "encoder = LabelEncoder()\r\n",
        "encoder.fit(df_train.target.tolist())\r\n",
        "\r\n",
        "y_train = encoder.transform(df_train.target.tolist())\r\n",
        "y_test = encoder.transform(df_test.target.tolist())\r\n",
        "\r\n",
        "y_train = y_train.reshape(-1,1)\r\n",
        "y_test = y_test.reshape(-1,1)\r\n",
        "\r\n",
        "print(\"y_train\",y_train.shape)\r\n",
        "print(\"y_test\",y_test.shape)"
      ],
      "execution_count": null,
      "outputs": [
        {
          "output_type": "stream",
          "text": [
            "y_train (1280000, 1)\n",
            "y_test (320000, 1)\n"
          ],
          "name": "stdout"
        }
      ]
    },
    {
      "cell_type": "code",
      "metadata": {
        "colab": {
          "base_uri": "https://localhost:8080/"
        },
        "id": "6981rFHrtV5I",
        "outputId": "51ef591d-f93d-4f90-fbb7-6bcfa52bcd7d"
      },
      "source": [
        "print(\"x_train\", x_train.shape)\r\n",
        "print(\"y_train\", y_train.shape)\r\n",
        "print()\r\n",
        "print(\"x_test\", x_test.shape)\r\n",
        "print(\"y_test\", y_test.shape)"
      ],
      "execution_count": null,
      "outputs": [
        {
          "output_type": "stream",
          "text": [
            "x_train (1280000, 300)\n",
            "y_train (1280000, 1)\n",
            "\n",
            "x_test (320000, 300)\n",
            "y_test (320000, 1)\n"
          ],
          "name": "stdout"
        }
      ]
    },
    {
      "cell_type": "code",
      "metadata": {
        "colab": {
          "base_uri": "https://localhost:8080/"
        },
        "id": "ZnBM_sb3tYTQ",
        "outputId": "44276aa7-41be-49f4-c187-96d436f82be4"
      },
      "source": [
        "y_train[:10]"
      ],
      "execution_count": null,
      "outputs": [
        {
          "output_type": "execute_result",
          "data": {
            "text/plain": [
              "array([[1],\n",
              "       [1],\n",
              "       [1],\n",
              "       [0],\n",
              "       [1],\n",
              "       [1],\n",
              "       [1],\n",
              "       [1],\n",
              "       [1],\n",
              "       [1]])"
            ]
          },
          "metadata": {
            "tags": []
          },
          "execution_count": 29
        }
      ]
    },
    {
      "cell_type": "code",
      "metadata": {
        "colab": {
          "base_uri": "https://localhost:8080/"
        },
        "id": "DRGKpMUftaNw",
        "outputId": "26655e0b-f6ed-4459-b598-1d7c88cd6629"
      },
      "source": [
        "embedding_matrix = np.zeros((vocab_size, W2V_SIZE))\r\n",
        "for word, i in tokenizer.word_index.items():\r\n",
        "  if word in w2v_model.wv:\r\n",
        "    embedding_matrix[i] = w2v_model.wv[word]\r\n",
        "print(embedding_matrix.shape)"
      ],
      "execution_count": null,
      "outputs": [
        {
          "output_type": "stream",
          "text": [
            "(290419, 300)\n"
          ],
          "name": "stdout"
        }
      ]
    },
    {
      "cell_type": "code",
      "metadata": {
        "id": "gSeHDgCBtcXX"
      },
      "source": [
        "embedding_layer = Embedding(vocab_size, W2V_SIZE, weights=[embedding_matrix], input_length=SEQUENCE_LENGTH, trainable=False)"
      ],
      "execution_count": null,
      "outputs": []
    },
    {
      "cell_type": "code",
      "metadata": {
        "colab": {
          "base_uri": "https://localhost:8080/"
        },
        "id": "fbVVE5ogteOg",
        "outputId": "04903de9-ca96-40f5-f4c8-9291e455223d"
      },
      "source": [
        "model = Sequential()\r\n",
        "model.add(embedding_layer)\r\n",
        "model.add(Dropout(0.5))\r\n",
        "model.add(LSTM(100, dropout=0.2, recurrent_dropout=0.2))\r\n",
        "model.add(Dense(1, activation='sigmoid'))\r\n",
        "\r\n",
        "model.summary()"
      ],
      "execution_count": null,
      "outputs": [
        {
          "output_type": "stream",
          "text": [
            "WARNING:tensorflow:Layer lstm will not use cuDNN kernel since it doesn't meet the cuDNN kernel criteria. It will use generic GPU kernel as fallback when running on GPU\n"
          ],
          "name": "stdout"
        },
        {
          "output_type": "stream",
          "text": [
            "2021-01-09 08:18:47,514 : WARNING : Layer lstm will not use cuDNN kernel since it doesn't meet the cuDNN kernel criteria. It will use generic GPU kernel as fallback when running on GPU\n"
          ],
          "name": "stderr"
        },
        {
          "output_type": "stream",
          "text": [
            "Model: \"sequential\"\n",
            "_________________________________________________________________\n",
            "Layer (type)                 Output Shape              Param #   \n",
            "=================================================================\n",
            "embedding (Embedding)        (None, 300, 300)          87125700  \n",
            "_________________________________________________________________\n",
            "dropout (Dropout)            (None, 300, 300)          0         \n",
            "_________________________________________________________________\n",
            "lstm (LSTM)                  (None, 100)               160400    \n",
            "_________________________________________________________________\n",
            "dense (Dense)                (None, 1)                 101       \n",
            "=================================================================\n",
            "Total params: 87,286,201\n",
            "Trainable params: 160,501\n",
            "Non-trainable params: 87,125,700\n",
            "_________________________________________________________________\n"
          ],
          "name": "stdout"
        }
      ]
    },
    {
      "cell_type": "code",
      "metadata": {
        "id": "pqPlFYljtgoI"
      },
      "source": [
        "model.compile(loss='binary_crossentropy',\r\n",
        "              optimizer=\"adam\",\r\n",
        "              metrics=['accuracy'])"
      ],
      "execution_count": null,
      "outputs": []
    },
    {
      "cell_type": "code",
      "metadata": {
        "id": "YGbvoojUtkHI"
      },
      "source": [
        "callbacks = [ ReduceLROnPlateau(monitor='val_loss', patience=5, cooldown=0),\r\n",
        "              EarlyStopping(monitor='val_acc', min_delta=1e-4, patience=5)]"
      ],
      "execution_count": null,
      "outputs": []
    },
    {
      "cell_type": "code",
      "metadata": {
        "id": "C3KpKp8_tnMA",
        "colab": {
          "base_uri": "https://localhost:8080/"
        },
        "outputId": "8b77e4dd-a40e-445c-c409-7a0604549318"
      },
      "source": [
        "%%time\r\n",
        "history = model.fit(x_train, y_train,\r\n",
        "                    batch_size=BATCH_SIZE,\r\n",
        "                    epochs=EPOCHS,\r\n",
        "                    validation_split=0.1,\r\n",
        "                    verbose=1,\r\n",
        "                    callbacks=callbacks)"
      ],
      "execution_count": null,
      "outputs": [
        {
          "output_type": "stream",
          "text": [
            "Epoch 1/8\n",
            "1125/1125 [==============================] - 658s 581ms/step - loss: 0.5285 - accuracy: 0.7315 - val_loss: 0.4649 - val_accuracy: 0.7797\n",
            "WARNING:tensorflow:Early stopping conditioned on metric `val_acc` which is not available. Available metrics are: loss,accuracy,val_loss,val_accuracy,lr\n"
          ],
          "name": "stdout"
        },
        {
          "output_type": "stream",
          "text": [
            "2021-01-09 08:29:58,825 : WARNING : Early stopping conditioned on metric `val_acc` which is not available. Available metrics are: loss,accuracy,val_loss,val_accuracy,lr\n"
          ],
          "name": "stderr"
        },
        {
          "output_type": "stream",
          "text": [
            "Epoch 2/8\n",
            "1125/1125 [==============================] - 656s 583ms/step - loss: 0.4812 - accuracy: 0.7656 - val_loss: 0.4597 - val_accuracy: 0.7831\n",
            "WARNING:tensorflow:Early stopping conditioned on metric `val_acc` which is not available. Available metrics are: loss,accuracy,val_loss,val_accuracy,lr\n"
          ],
          "name": "stdout"
        },
        {
          "output_type": "stream",
          "text": [
            "2021-01-09 08:40:54,532 : WARNING : Early stopping conditioned on metric `val_acc` which is not available. Available metrics are: loss,accuracy,val_loss,val_accuracy,lr\n"
          ],
          "name": "stderr"
        },
        {
          "output_type": "stream",
          "text": [
            "Epoch 3/8\n",
            "1125/1125 [==============================] - 645s 573ms/step - loss: 0.4718 - accuracy: 0.7722 - val_loss: 0.4574 - val_accuracy: 0.7852\n",
            "WARNING:tensorflow:Early stopping conditioned on metric `val_acc` which is not available. Available metrics are: loss,accuracy,val_loss,val_accuracy,lr\n"
          ],
          "name": "stdout"
        },
        {
          "output_type": "stream",
          "text": [
            "2021-01-09 08:51:39,696 : WARNING : Early stopping conditioned on metric `val_acc` which is not available. Available metrics are: loss,accuracy,val_loss,val_accuracy,lr\n"
          ],
          "name": "stderr"
        },
        {
          "output_type": "stream",
          "text": [
            "Epoch 4/8\n",
            "1125/1125 [==============================] - 649s 577ms/step - loss: 0.4685 - accuracy: 0.7742 - val_loss: 0.4528 - val_accuracy: 0.7881\n",
            "WARNING:tensorflow:Early stopping conditioned on metric `val_acc` which is not available. Available metrics are: loss,accuracy,val_loss,val_accuracy,lr\n"
          ],
          "name": "stdout"
        },
        {
          "output_type": "stream",
          "text": [
            "2021-01-09 09:02:29,115 : WARNING : Early stopping conditioned on metric `val_acc` which is not available. Available metrics are: loss,accuracy,val_loss,val_accuracy,lr\n"
          ],
          "name": "stderr"
        },
        {
          "output_type": "stream",
          "text": [
            "Epoch 5/8\n",
            "1125/1125 [==============================] - 653s 581ms/step - loss: 0.4652 - accuracy: 0.7759 - val_loss: 0.4520 - val_accuracy: 0.7884\n",
            "WARNING:tensorflow:Early stopping conditioned on metric `val_acc` which is not available. Available metrics are: loss,accuracy,val_loss,val_accuracy,lr\n"
          ],
          "name": "stdout"
        },
        {
          "output_type": "stream",
          "text": [
            "2021-01-09 09:13:22,381 : WARNING : Early stopping conditioned on metric `val_acc` which is not available. Available metrics are: loss,accuracy,val_loss,val_accuracy,lr\n"
          ],
          "name": "stderr"
        },
        {
          "output_type": "stream",
          "text": [
            "Epoch 6/8\n",
            "1125/1125 [==============================] - 651s 579ms/step - loss: 0.4628 - accuracy: 0.7770 - val_loss: 0.4485 - val_accuracy: 0.7897\n",
            "WARNING:tensorflow:Early stopping conditioned on metric `val_acc` which is not available. Available metrics are: loss,accuracy,val_loss,val_accuracy,lr\n"
          ],
          "name": "stdout"
        },
        {
          "output_type": "stream",
          "text": [
            "2021-01-09 09:24:13,811 : WARNING : Early stopping conditioned on metric `val_acc` which is not available. Available metrics are: loss,accuracy,val_loss,val_accuracy,lr\n"
          ],
          "name": "stderr"
        },
        {
          "output_type": "stream",
          "text": [
            "Epoch 7/8\n",
            "1125/1125 [==============================] - 650s 578ms/step - loss: 0.4625 - accuracy: 0.7778 - val_loss: 0.4485 - val_accuracy: 0.7906\n",
            "WARNING:tensorflow:Early stopping conditioned on metric `val_acc` which is not available. Available metrics are: loss,accuracy,val_loss,val_accuracy,lr\n"
          ],
          "name": "stdout"
        },
        {
          "output_type": "stream",
          "text": [
            "2021-01-09 09:35:03,652 : WARNING : Early stopping conditioned on metric `val_acc` which is not available. Available metrics are: loss,accuracy,val_loss,val_accuracy,lr\n"
          ],
          "name": "stderr"
        },
        {
          "output_type": "stream",
          "text": [
            "Epoch 8/8\n",
            "1125/1125 [==============================] - 649s 577ms/step - loss: 0.4607 - accuracy: 0.7793 - val_loss: 0.4470 - val_accuracy: 0.7914\n",
            "WARNING:tensorflow:Early stopping conditioned on metric `val_acc` which is not available. Available metrics are: loss,accuracy,val_loss,val_accuracy,lr\n"
          ],
          "name": "stdout"
        },
        {
          "output_type": "stream",
          "text": [
            "2021-01-09 09:45:53,092 : WARNING : Early stopping conditioned on metric `val_acc` which is not available. Available metrics are: loss,accuracy,val_loss,val_accuracy,lr\n"
          ],
          "name": "stderr"
        },
        {
          "output_type": "stream",
          "text": [
            "CPU times: user 1h 36min 54s, sys: 3min 36s, total: 1h 40min 31s\n",
            "Wall time: 1h 26min 52s\n"
          ],
          "name": "stdout"
        }
      ]
    },
    {
      "cell_type": "code",
      "metadata": {
        "id": "T56t2nyTtts4",
        "colab": {
          "base_uri": "https://localhost:8080/"
        },
        "outputId": "aaf693a5-3edb-4f8f-8ac9-a2bbd27627e1"
      },
      "source": [
        "%%time\r\n",
        "score = model.evaluate(x_test, y_test, batch_size=BATCH_SIZE)\r\n",
        "print()\r\n",
        "print(\"ACCURACY:\",score[1])\r\n",
        "print(\"LOSS:\",score[0])"
      ],
      "execution_count": null,
      "outputs": [
        {
          "output_type": "stream",
          "text": [
            "313/313 [==============================] - 57s 180ms/step - loss: 0.4455 - accuracy: 0.7917\n",
            "\n",
            "ACCURACY: 0.7917218804359436\n",
            "LOSS: 0.445529043674469\n",
            "CPU times: user 53.5 s, sys: 2.2 s, total: 55.7 s\n",
            "Wall time: 56.8 s\n"
          ],
          "name": "stdout"
        }
      ]
    },
    {
      "cell_type": "code",
      "metadata": {
        "id": "-58y2scetucg",
        "colab": {
          "base_uri": "https://localhost:8080/",
          "height": 545
        },
        "outputId": "ac908674-3291-4c3f-d3d7-62db609f029c"
      },
      "source": [
        "acc = history.history['accuracy']\r\n",
        "val_acc = history.history['val_accuracy']\r\n",
        "loss = history.history['loss']\r\n",
        "val_loss = history.history['val_loss']\r\n",
        " \r\n",
        "epochs = range(len(acc))\r\n",
        " \r\n",
        "plt.plot(epochs, acc, 'b', label='Training acc')\r\n",
        "plt.plot(epochs, val_acc, 'r', label='Validation acc')\r\n",
        "plt.title('Training and validation accuracy')\r\n",
        "plt.legend()\r\n",
        " \r\n",
        "plt.figure()\r\n",
        " \r\n",
        "plt.plot(epochs, loss, 'b', label='Training loss')\r\n",
        "plt.plot(epochs, val_loss, 'r', label='Validation loss')\r\n",
        "plt.title('Training and validation loss')\r\n",
        "plt.legend()\r\n",
        " \r\n",
        "plt.show()"
      ],
      "execution_count": null,
      "outputs": [
        {
          "output_type": "display_data",
          "data": {
            "image/png": "[encoded data removed]",
            "text/plain": [
              "<Figure size 432x288 with 1 Axes>"
            ]
          },
          "metadata": {
            "tags": [],
            "needs_background": "light"
          }
        },
        {
          "output_type": "display_data",
          "data": {
            "image/png": "[encoded data removed]",
            "text/plain": [
              "<Figure size 432x288 with 1 Axes>"
            ]
          },
          "metadata": {
            "tags": [],
            "needs_background": "light"
          }
        }
      ]
    },
    {
      "cell_type": "code",
      "metadata": {
        "id": "uwGwuHdXtxOY"
      },
      "source": [
        "def decode_sentiment(score, include_neutral=True):\r\n",
        "    if include_neutral:        \r\n",
        "        label = NEUTRAL\r\n",
        "        if score <= SENTIMENT_THRESHOLDS[0]:\r\n",
        "            label = NEGATIVE\r\n",
        "        elif score >= SENTIMENT_THRESHOLDS[1]:\r\n",
        "            label = POSITIVE\r\n",
        "\r\n",
        "        return label\r\n",
        "    else:\r\n",
        "        return NEGATIVE if score < 0.5 else POSITIVE"
      ],
      "execution_count": null,
      "outputs": []
    },
    {
      "cell_type": "code",
      "metadata": {
        "id": "v90LLhDOtz8o"
      },
      "source": [
        "def predict(text, include_neutral=True):\r\n",
        "    start_at = time.time()\r\n",
        "    # Tokenize text\r\n",
        "    x_test = pad_sequences(tokenizer.texts_to_sequences([text]), maxlen=SEQUENCE_LENGTH)\r\n",
        "    # Predict\r\n",
        "    score = model.predict([x_test])[0]\r\n",
        "    # Decode sentiment\r\n",
        "    label = decode_sentiment(score, include_neutral=include_neutral)\r\n",
        "\r\n",
        "    return {\"label\": label, \"score\": float(score),\r\n",
        "       \"elapsed_time\": time.time()-start_at} "
      ],
      "execution_count": null,
      "outputs": []
    },
    {
      "cell_type": "code",
      "metadata": {
        "id": "RfqrfxWht3Ow",
        "colab": {
          "base_uri": "https://localhost:8080/"
        },
        "outputId": "2e1e417b-c24c-47f6-f3cb-35c907052c6d"
      },
      "source": [
        "predict(\"I love the music\")"
      ],
      "execution_count": null,
      "outputs": [
        {
          "output_type": "execute_result",
          "data": {
            "text/plain": [
              "{'elapsed_time': 0.38802528381347656,\n",
              " 'label': 'POSITIVE',\n",
              " 'score': 0.9708119034767151}"
            ]
          },
          "metadata": {
            "tags": []
          },
          "execution_count": 41
        }
      ]
    },
    {
      "cell_type": "code",
      "metadata": {
        "id": "3zpiRmmEt5qK",
        "colab": {
          "base_uri": "https://localhost:8080/"
        },
        "outputId": "2f30cba3-1fbb-4834-e63f-d6f800e4b4dd"
      },
      "source": [
        "predict(\"I hate the rain\")"
      ],
      "execution_count": null,
      "outputs": [
        {
          "output_type": "execute_result",
          "data": {
            "text/plain": [
              "{'elapsed_time': 0.11771297454833984,\n",
              " 'label': 'NEGATIVE',\n",
              " 'score': 0.0074637760408222675}"
            ]
          },
          "metadata": {
            "tags": []
          },
          "execution_count": 42
        }
      ]
    },
    {
      "cell_type": "code",
      "metadata": {
        "id": "8-NZtBaRt8gw",
        "colab": {
          "base_uri": "https://localhost:8080/"
        },
        "outputId": "45ff34a7-8fc5-43f1-d92b-6bc39161ba65"
      },
      "source": [
        "predict(\"i don't know what i'm doing\")"
      ],
      "execution_count": null,
      "outputs": [
        {
          "output_type": "execute_result",
          "data": {
            "text/plain": [
              "{'elapsed_time': 0.11155986785888672,\n",
              " 'label': 'NEGATIVE',\n",
              " 'score': 0.28013870120048523}"
            ]
          },
          "metadata": {
            "tags": []
          },
          "execution_count": 43
        }
      ]
    },
    {
      "cell_type": "code",
      "metadata": {
        "id": "qnq6FW5tt_xg",
        "colab": {
          "base_uri": "https://localhost:8080/"
        },
        "outputId": "fc22536e-a5eb-48b8-bb1c-49bc4bd513fa"
      },
      "source": [
        "%%time\r\n",
        "y_pred_1d = []\r\n",
        "y_test_1d = list(df_test.target)\r\n",
        "scores = model.predict(x_test, verbose=1, batch_size=8000)\r\n",
        "y_pred_1d = [decode_sentiment(score, include_neutral=False) for score in scores]"
      ],
      "execution_count": null,
      "outputs": [
        {
          "output_type": "stream",
          "text": [
            "40/40 [==============================] - 44s 1s/step\n",
            "CPU times: user 35.1 s, sys: 11.5 s, total: 46.6 s\n",
            "Wall time: 44.8 s\n"
          ],
          "name": "stdout"
        }
      ]
    },
    {
      "cell_type": "code",
      "metadata": {
        "id": "IYdgAgxiuCTA"
      },
      "source": [
        "def plot_confusion_matrix(cm, classes,\r\n",
        "                          title='Confusion matrix',\r\n",
        "                          cmap=plt.cm.Blues):\r\n",
        "    \"\"\"\r\n",
        "    This function prints and plots the confusion matrix.\r\n",
        "    Normalization can be applied by setting `normalize=True`.\r\n",
        "    \"\"\"\r\n",
        "\r\n",
        "    cm = cm.astype('float') / cm.sum(axis=1)[:, np.newaxis]\r\n",
        "\r\n",
        "    plt.imshow(cm, interpolation='nearest', cmap=cmap)\r\n",
        "    plt.title(title, fontsize=30)\r\n",
        "    plt.colorbar()\r\n",
        "    tick_marks = np.arange(len(classes))\r\n",
        "    plt.xticks(tick_marks, classes, rotation=90, fontsize=22)\r\n",
        "    plt.yticks(tick_marks, classes, fontsize=22)\r\n",
        "\r\n",
        "    fmt = '.2f'\r\n",
        "    thresh = cm.max() / 2.\r\n",
        "    for i, j in itertools.product(range(cm.shape[0]), range(cm.shape[1])):\r\n",
        "        plt.text(j, i, format(cm[i, j], fmt),\r\n",
        "                 horizontalalignment=\"center\",\r\n",
        "                 color=\"white\" if cm[i, j] > thresh else \"black\")\r\n",
        "\r\n",
        "    plt.ylabel('True label', fontsize=25)\r\n",
        "    plt.xlabel('Predicted label', fontsize=25)"
      ],
      "execution_count": null,
      "outputs": []
    },
    {
      "cell_type": "code",
      "metadata": {
        "id": "DOADNNpVuJbX",
        "colab": {
          "base_uri": "https://localhost:8080/",
          "height": 803
        },
        "outputId": "bb5305be-8b7a-4c9e-a762-3bef22e65845"
      },
      "source": [
        "%%time\r\n",
        "\r\n",
        "cnf_matrix = confusion_matrix(y_test_1d, y_pred_1d)\r\n",
        "plt.figure(figsize=(12,12))\r\n",
        "plot_confusion_matrix(cnf_matrix, classes=df_train.target.unique(), title=\"Confusion matrix\")\r\n",
        "plt.show()"
      ],
      "execution_count": null,
      "outputs": [
        {
          "output_type": "display_data",
          "data": {
            "image/png": "[encoded data removed]",
            "text/plain": [
              "<Figure size 864x864 with 2 Axes>"
            ]
          },
          "metadata": {
            "tags": [],
            "needs_background": "light"
          }
        },
        {
          "output_type": "stream",
          "text": [
            "CPU times: user 1.11 s, sys: 21.7 ms, total: 1.14 s\n",
            "Wall time: 1.15 s\n"
          ],
          "name": "stdout"
        }
      ]
    },
    {
      "cell_type": "code",
      "metadata": {
        "id": "NFBuwyzHuLxo",
        "colab": {
          "base_uri": "https://localhost:8080/"
        },
        "outputId": "645a11b2-8fc4-4d0e-d5cd-ca2c7701e0b1"
      },
      "source": [
        "print(classification_report(y_test_1d, y_pred_1d))\r\n"
      ],
      "execution_count": null,
      "outputs": [
        {
          "output_type": "stream",
          "text": [
            "              precision    recall  f1-score   support\n",
            "\n",
            "    NEGATIVE       0.80      0.78      0.79    159494\n",
            "    POSITIVE       0.78      0.81      0.80    160506\n",
            "\n",
            "    accuracy                           0.79    320000\n",
            "   macro avg       0.79      0.79      0.79    320000\n",
            "weighted avg       0.79      0.79      0.79    320000\n",
            "\n"
          ],
          "name": "stdout"
        }
      ]
    },
    {
      "cell_type": "code",
      "metadata": {
        "id": "hyUvey8UuN6A",
        "colab": {
          "base_uri": "https://localhost:8080/"
        },
        "outputId": "96634bc4-a289-41a4-f370-5092f70d2a54"
      },
      "source": [
        "accuracy_score(y_test_1d, y_pred_1d)\r\n"
      ],
      "execution_count": null,
      "outputs": [
        {
          "output_type": "execute_result",
          "data": {
            "text/plain": [
              "0.791721875"
            ]
          },
          "metadata": {
            "tags": []
          },
          "execution_count": 48
        }
      ]
    },
    {
      "cell_type": "code",
      "metadata": {
        "id": "vvS4FVUauScC",
        "colab": {
          "base_uri": "https://localhost:8080/"
        },
        "outputId": "08cd00a7-3033-4927-c135-39d008cc1606"
      },
      "source": [
        "model.save(KERAS_MODEL)\r\n",
        "w2v_model.save(WORD2VEC_MODEL)\r\n",
        "pickle.dump(tokenizer, open(TOKENIZER_MODEL, \"wb\"), protocol=0)\r\n",
        "pickle.dump(encoder, open(ENCODER_MODEL, \"wb\"), protocol=0)"
      ],
      "execution_count": null,
      "outputs": [
        {
          "output_type": "stream",
          "text": [
            "2021-01-09 10:04:45,507 : INFO : saving Word2Vec object under model.w2v, separately None\n",
            "2021-01-09 10:04:45,515 : INFO : not storing attribute vectors_norm\n",
            "2021-01-09 10:04:45,517 : INFO : not storing attribute cum_table\n",
            "2021-01-09 10:04:46,597 : INFO : saved model.w2v\n"
          ],
          "name": "stderr"
        }
      ]
    }
  ]
}